{
 "cells": [
  {
   "cell_type": "code",
   "execution_count": 1,
   "metadata": {},
   "outputs": [
    {
     "name": "stderr",
     "output_type": "stream",
     "text": [
      "Using TensorFlow backend.\n"
     ]
    }
   ],
   "source": [
    "%matplotlib notebook\n",
    "from ipywidgets import *\n",
    "from math import sqrt\n",
    "import numpy as np\n",
    "import matplotlib.pyplot as plt\n",
    "import os.path\n",
    "import re\n",
    "import json\n",
    "import numpy as np\n",
    "from numpy import genfromtxt\n",
    "import pandas as pd\n",
    "from keras.layers import Dense\n",
    "from keras.layers import LSTM\n",
    "from keras.models import Sequential\n",
    "from sklearn.metrics import mean_absolute_error\n",
    "from sklearn.preprocessing import MinMaxScaler\n",
    "from sklearn.model_selection import train_test_split\n",
    "from sklearn.model_selection import KFold\n",
    "from sklearn.metrics import mean_squared_error\n",
    "import tensorflow as tf\n",
    "from stldecompose import decompose, forecast\n",
    "from stldecompose.forecast_funcs import (naive,\n",
    "                                         drift, \n",
    "                                         mean, \n",
    "                                         seasonal_naive)\n",
    "from pmdarima.arima import auto_arima\n",
    "from sklearn import preprocessing\n",
    "from rpy2.robjects.packages import STAP\n",
    "import time\n",
    "tf.logging.set_verbosity(tf.logging.ERROR)\n",
    "import rpy2\n",
    "from rpy2.rinterface_lib.callbacks import logger as rpy2_logger\n",
    "import logging\n",
    "rpy2_logger.setLevel(logging.ERROR)   # will display errors, but not warnings"
   ]
  },
  {
   "cell_type": "code",
   "execution_count": 2,
   "metadata": {},
   "outputs": [],
   "source": [
    "DATASET_STATES_CSV = 'States_Timeseries.csv'\n",
    "FOUR_THETA_FILE = 'four_theta.r'\n",
    "THETA_FILE = 'theta.r'\n",
    "ETS_FILE = 'ets.r'\n",
    "TBATS_FILE = 'tbats.r'\n",
    "BAGGED_ETS_FILE = 'bagged_ets.r'\n",
    "\n",
    "LOOK_BACK = 12\n",
    "FORECASTING_STEPS = 6\n",
    "RANDOM_SEED = 3\n",
    "\n",
    "SCALER_STANDARD = preprocessing.StandardScaler\n",
    "SCALER_MINMAX = preprocessing.MinMaxScaler\n",
    "DATA_SCALER = SCALER_MINMAX\n",
    "EPOCHS = 50\n",
    "BATCH_SIZE = 1"
   ]
  },
  {
   "cell_type": "code",
   "execution_count": 3,
   "metadata": {},
   "outputs": [],
   "source": [
    "def normalize_df(df,scaler):\n",
    "    x = df.values #returns a numpy array\n",
    "    x_train = df.values[:-6]\n",
    "    display(x_train.shape)\n",
    "    scaler = scaler.fit(x_train)\n",
    "    x_scaled = scaler.transform(x)\n",
    "    df = pd.DataFrame(x_scaled, columns=df.columns, index=df.index)\n",
    "    return df\n",
    "\n",
    "def normalizeSeries(df,scaler):\n",
    "    x = np.array(df.values)\n",
    "    x = np.reshape(x,(-1,1))\n",
    "    x = scaler.fit_transform(x)\n",
    "    x = x[:,0]\n",
    "    return x\n",
    "\n",
    "def normalizeInputTouple(x,y,scaler):\n",
    "    x = np.array(x)\n",
    "    x = np.reshape(x,(-1,1))\n",
    "    x = scaler.fit_transform(x)\n",
    "    x = x[:,0]\n",
    "    y = y.reshape(-1,1)\n",
    "    y = scaler.transform(y)\n",
    "    y = y[:,0]\n",
    "    return x,y\n",
    "\n",
    "def getTrainTestSplit(series):\n",
    "    series_np = np.array(series)\n",
    "    return series_np[:-FORECASTING_STEPS],series_np[-FORECASTING_STEPS:]\n",
    "\n",
    "def reshapeInputs(data):\n",
    "    data = np.array(data)\n",
    "    return np.reshape(data, (data.shape[0], data.shape[1],1))\n",
    "\n",
    "def create_dataset(dataset,look_back):\n",
    "    dataX, dataY = [], []\n",
    "    for i in range(0,len(dataset) - look_back -FORECASTING_STEPS+1, int(look_back/2)):\n",
    "        a = dataset[i:(i + look_back)]\n",
    "        dataX.append(a)\n",
    "        dataY.append(dataset[i + look_back:i+look_back+FORECASTING_STEPS])\n",
    "    return reshapeInputs(np.array(dataX)), np.array(dataY)\n",
    "\n",
    "def create_dataset_scaled(dataset,scaler):\n",
    "    dataX, dataY = [], []\n",
    "    for i in range(0,len(dataset) - LOOK_BACK -FORECASTING_STEPS+1, int(LOOK_BACK/2)):\n",
    "        x = dataset[i:(i + LOOK_BACK)]\n",
    "        y = dataset[i + LOOK_BACK:i+LOOK_BACK+FORECASTING_STEPS]\n",
    "        normalizeInputTouple(x,y,scaler)\n",
    "        dataX.append(x)\n",
    "        dataY.append(y)\n",
    "    return reshapeInputs(dataX), np.array(dataY)\n",
    "\n",
    "def getBaselineLSTM():\n",
    "    model = Sequential()\n",
    "    model.add(LSTM(16, input_shape=(LOOK_BACK, 1),return_sequences=True))\n",
    "    model.add(LSTM(8))\n",
    "    model.add(Dense(FORECASTING_STEPS, activation='sigmoid'))\n",
    "    model.compile(loss='mse', optimizer='adam', metrics=['mean_absolute_error'])\n",
    "    return model\n",
    "\n",
    "\n",
    "def evaluateModel(model,x,y,scaler,wsc = False):\n",
    "    prediction = model.predict(x)\n",
    "    if not scaler == None:\n",
    "        prediction = scaler.inverse_transform(prediction)\n",
    "        if not wsc:\n",
    "            y = scaler.inverse_transform(y)\n",
    "    score = mean_squared_error(y.ravel(),prediction.ravel())\n",
    "    return score\n",
    "\n",
    "def evaluateLSTM(train,test,scaler):\n",
    "    x_test = reshapeInputs([train[-LOOK_BACK:]])\n",
    "    y_test = np.array([test])\n",
    "    x_train,y_train = create_dataset(train,LOOK_BACK)\n",
    "    model = getBaselineLSTM()\n",
    "    model.fit(x_train, y_train, epochs=EPOCHS, batch_size=BATCH_SIZE, verbose=0)\n",
    "    return evaluateModel(model,x_test,y_test,scaler)\n",
    "\n",
    "def evaluateLSTM_windowScaled(train,test,scaler):\n",
    "    x_train,y_train = create_dataset_scaled(train,scaler)\n",
    "    model = getBaselineLSTM()\n",
    "    model.fit(x_train, y_train, epochs=EPOCHS, batch_size=BATCH_SIZE, verbose=0)\n",
    "    x_test =train[-LOOK_BACK:]\n",
    "    y_test = test\n",
    "    x_test,y_test = normalizeInputTouple(x_test,y_test,scaler)\n",
    "    x_test = reshapeInputs([x_test])\n",
    "    y_test = np.array([test])\n",
    "    return evaluateModel(model,x_test,y_test,scaler,True)\n",
    "\n",
    "def evaluateARIMAprediction(pred,y,scaler):\n",
    "    pred = np.reshape(pred,(1,-1))\n",
    "    y = np.reshape(y,(1,-1))\n",
    "    if not scaler == None:\n",
    "        pred = scaler.inverse_transform(pred)\n",
    "        y = scaler.inverse_transform(y)\n",
    "    return mean_squared_error(pred.ravel(), y.ravel())\n",
    "\n",
    "def evaluateARMA(single_x,single_y,scaler):\n",
    "    model = auto_arima(single_x, start_p=0, start_q=0, start_P=0, start_Q=0,\n",
    "                 max_p=5, max_q=5, max_P=5, max_Q=5, seasonal=False,\n",
    "                 stepwise=True, suppress_warnings=True, D=0, max_D=0,\n",
    "                 error_action='ignore')\n",
    "    pred = model.predict(n_periods=single_y.shape[0])\n",
    "    return evaluateARIMAprediction(pred,single_y,scaler)\n",
    "\n",
    "def evaluateARIMA(single_x,single_y,scaler):\n",
    "    model = auto_arima(single_x, start_p=0, start_q=0, start_P=0, start_Q=0,\n",
    "                 max_p=5, max_q=5, max_P=0, max_Q=0, seasonal=False,\n",
    "                 stepwise=True, suppress_warnings=True, D=0, max_D=10,\n",
    "                 error_action='ignore')\n",
    "    pred = model.predict(n_periods=single_y.shape[0])\n",
    "    return evaluateARIMAprediction(pred,single_y,scaler)\n",
    "\n",
    "def evaluateSARIMA(single_x,single_y,scaler):\n",
    "    model = auto_arima(single_x, start_p=0, start_q=0, start_P=0, start_Q=0,\n",
    "                 max_p=5, max_q=5, max_P=5, max_Q=5, seasonal=True, m = 12,\n",
    "                 stepwise=True, suppress_warnings=True, D=0, max_D=10,\n",
    "                 error_action='ignore')\n",
    "    pred = model.predict(n_periods=single_y.shape[0])\n",
    "    return evaluateARIMAprediction(pred,single_y,scaler)\n",
    "\n",
    "def getSARIMAPred(single_x):\n",
    "    model = auto_arima(single_x, start_p=0, start_q=0, start_P=0, start_Q=0,\n",
    "                 max_p=5, max_q=5, max_P=5, max_Q=5, seasonal=True, m = 12,\n",
    "                 stepwise=True, suppress_warnings=True, D=0, max_D=10,\n",
    "                 error_action='ignore')\n",
    "    pred = model.predict(n_periods=6)\n",
    "    return pred\n",
    "\n",
    "def evaluateSTLSeasNaive(single_x,single_y,scaler):\n",
    "    # apply the decomp to the truncated observation\n",
    "    ind = pd.date_range('2008-01-01', periods=len(single_x), freq='M')\n",
    "    single_x = pd.DataFrame(single_x,index=ind)\n",
    "    short_decomp = decompose(single_x, period=12)\n",
    "    pred = forecast(short_decomp, steps=6, fc_func=seasonal_naive).values\n",
    "    return evaluateARIMAprediction(pred,single_y,scaler)\n",
    "\n",
    "\n",
    "\n",
    "\n",
    "def evaluateFourTheta(single_x,single_y,scaler):\n",
    "    with open(FOUR_THETA_FILE, 'r') as f:\n",
    "        string = f.read()\n",
    "    four_theta = STAP(string, \"four_theta\")\n",
    "    res = four_theta.FourTheta(rpy2.robjects.FloatVector(single_x),rpy2.robjects.FloatVector([FORECASTING_STEPS]))\n",
    "    pred = np.array(res[1])\n",
    "    #display(res[1])\n",
    "    return evaluateARIMAprediction(pred,single_y,scaler)\n",
    "\n",
    "def evaluateTheta(single_x,single_y,scaler):\n",
    "    with open(THETA_FILE, 'r') as f:\n",
    "        string = f.read()\n",
    "    theta = STAP(string, \"theta\")\n",
    "    res = theta.thetaf(rpy2.robjects.FloatVector(single_x),rpy2.robjects.FloatVector([FORECASTING_STEPS]))\n",
    "    pred = np.array(res[1])\n",
    "    #display(res[1])\n",
    "    return evaluateARIMAprediction(pred,single_y,scaler)\n",
    "\n",
    "def getThetaPred(single_x):\n",
    "    with open(THETA_FILE, 'r') as f:\n",
    "        string = f.read()\n",
    "    theta = STAP(string, \"theta\")\n",
    "    res = theta.thetaf(rpy2.robjects.FloatVector(single_x),rpy2.robjects.FloatVector([FORECASTING_STEPS]))\n",
    "    pred = np.array(res[1])\n",
    "    #display(res[1])\n",
    "    return pred\n",
    "\n",
    "def evaluateETS(single_x,single_y,scaler):\n",
    "    with open(ETS_FILE, 'r') as f:\n",
    "        string = f.read()\n",
    "    ets = STAP(string, \"ets\")\n",
    "    res = ets.runets(rpy2.robjects.FloatVector(single_x),rpy2.robjects.FloatVector([FORECASTING_STEPS]))\n",
    "    pred = np.array(res[1])\n",
    "    #display(res[1])\n",
    "    return evaluateARIMAprediction(pred,single_y,scaler)\n",
    "\n",
    "def evaluateTBATS(single_x,single_y,scaler):\n",
    "    with open(TBATS_FILE, 'r') as f:\n",
    "        string = f.read()\n",
    "    tbats = STAP(string, \"tbats\")\n",
    "    res = tbats.runtbats(rpy2.robjects.FloatVector(single_x),rpy2.robjects.FloatVector([FORECASTING_STEPS]))\n",
    "    pred = np.array(res[1])\n",
    "    return evaluateARIMAprediction(pred,single_y,scaler)\n",
    "\n",
    "def evaluateBAGGED_ETS(single_x,single_y,scaler):\n",
    "    with open(BAGGED_ETS_FILE, 'r') as f:\n",
    "        string = f.read()\n",
    "    bagged_ets = STAP(string, \"bagged_ets\")\n",
    "    res = bagged_ets.runbaggedets(rpy2.robjects.FloatVector(single_x),rpy2.robjects.FloatVector([FORECASTING_STEPS]))\n",
    "    pred = np.array(res[7])\n",
    "    #display(res[7])\n",
    "    return evaluateARIMAprediction(pred,single_y,scaler)"
   ]
  },
  {
   "cell_type": "code",
   "execution_count": 4,
   "metadata": {},
   "outputs": [
    {
     "data": {
      "text/plain": [
       "(67, 16)"
      ]
     },
     "metadata": {},
     "output_type": "display_data"
    }
   ],
   "source": [
    "df = pd.read_csv(DATASET_STATES_CSV,index_col=0,parse_dates=True,encoding = \"utf-8\")\n",
    "df = normalize_df(df,DATA_SCALER())"
   ]
  },
  {
   "cell_type": "code",
   "execution_count": 6,
   "metadata": {},
   "outputs": [
    {
     "data": {
      "text/plain": [
       "array([0.93467122, 0.89254199, 0.77782522, 0.64830629, 0.50128096,\n",
       "       0.34365215, 0.43566752])"
      ]
     },
     "metadata": {},
     "output_type": "display_data"
    },
    {
     "data": {
      "text/plain": [
       "array([0.48861372, 0.32678622, 0.26256049, 0.29102619, 0.40140194,\n",
       "       0.79721748])"
      ]
     },
     "metadata": {},
     "output_type": "display_data"
    },
    {
     "data": {
      "text/plain": [
       "array([0.59414313, 0.62522343, 0.64726281, 0.66289118, 0.67397342,\n",
       "       0.68183196])"
      ]
     },
     "metadata": {},
     "output_type": "display_data"
    },
    {
     "data": {
      "text/plain": [
       "array([0.93467122, 0.89254199, 0.77782522, 0.64830629, 0.50128096,\n",
       "       0.34365215, 0.43566752, 0.48861372, 0.32678622, 0.26256049,\n",
       "       0.29102619, 0.40140194, 0.79721748])"
      ]
     },
     "metadata": {},
     "output_type": "display_data"
    },
    {
     "data": {
      "text/plain": [
       "array([0.83322659, 0.83589525, 0.7738756 , 0.60318816, 0.53497723,\n",
       "       0.64005124])"
      ]
     },
     "metadata": {},
     "output_type": "display_data"
    },
    {
     "data": {
      "text/plain": [
       "array([1.03038451, 1.07276292, 0.96313524, 0.77693947, 0.59285706,\n",
       "       0.46749056])"
      ]
     },
     "metadata": {},
     "output_type": "display_data"
    },
    {
     "data": {
      "text/plain": [
       "array([0.93467122, 0.89254199, 0.77782522, 0.64830629, 0.50128096,\n",
       "       0.34365215, 0.43566752, 0.48861372, 0.32678622, 0.26256049,\n",
       "       0.29102619, 0.40140194, 0.79721748, 0.83322659, 0.83589525,\n",
       "       0.7738756 , 0.60318816, 0.53497723, 0.64005124])"
      ]
     },
     "metadata": {},
     "output_type": "display_data"
    },
    {
     "data": {
      "text/plain": [
       "array([0.69449189, 0.50323797, 0.40474666, 0.44011529, 0.54387276,\n",
       "       0.95064759])"
      ]
     },
     "metadata": {},
     "output_type": "display_data"
    },
    {
     "data": {
      "text/plain": [
       "array([0.64439529, 0.44428783, 0.33382819, 0.3220208 , 0.40050502,\n",
       "       0.73570044])"
      ]
     },
     "metadata": {},
     "output_type": "display_data"
    },
    {
     "data": {
      "text/plain": [
       "array([0.93467122, 0.89254199, 0.77782522, 0.64830629, 0.50128096,\n",
       "       0.34365215, 0.43566752, 0.48861372, 0.32678622, 0.26256049,\n",
       "       0.29102619, 0.40140194, 0.79721748, 0.83322659, 0.83589525,\n",
       "       0.7738756 , 0.60318816, 0.53497723, 0.64005124, 0.69449189,\n",
       "       0.50323797, 0.40474666, 0.44011529, 0.54387276, 0.95064759])"
      ]
     },
     "metadata": {},
     "output_type": "display_data"
    },
    {
     "data": {
      "text/plain": [
       "array([1.        , 0.89001566, 0.65111728, 0.46584116, 0.34037859,\n",
       "       0.4645602 ])"
      ]
     },
     "metadata": {},
     "output_type": "display_data"
    },
    {
     "data": {
      "text/plain": [
       "array([0.98002547, 0.95930491, 0.87209858, 0.68423691, 0.59649721,\n",
       "       0.67610685])"
      ]
     },
     "metadata": {},
     "output_type": "display_data"
    },
    {
     "data": {
      "text/plain": [
       "array([0.93467122, 0.89254199, 0.77782522, 0.64830629, 0.50128096,\n",
       "       0.34365215, 0.43566752, 0.48861372, 0.32678622, 0.26256049,\n",
       "       0.29102619, 0.40140194, 0.79721748, 0.83322659, 0.83589525,\n",
       "       0.7738756 , 0.60318816, 0.53497723, 0.64005124, 0.69449189,\n",
       "       0.50323797, 0.40474666, 0.44011529, 0.54387276, 0.95064759,\n",
       "       1.        , 0.89001566, 0.65111728, 0.46584116, 0.34037859,\n",
       "       0.4645602 ])"
      ]
     },
     "metadata": {},
     "output_type": "display_data"
    },
    {
     "data": {
      "text/plain": [
       "array([0.44933106, 0.22021776, 0.17203957, 0.21936379, 0.39951608,\n",
       "       0.87482209])"
      ]
     },
     "metadata": {},
     "output_type": "display_data"
    },
    {
     "data": {
      "text/plain": [
       "array([0.54222004, 0.39387007, 0.3294837 , 0.3621762 , 0.46540626,\n",
       "       0.84788226])"
      ]
     },
     "metadata": {},
     "output_type": "display_data"
    },
    {
     "data": {
      "text/plain": [
       "array([0.93467122, 0.89254199, 0.77782522, 0.64830629, 0.50128096,\n",
       "       0.34365215, 0.43566752, 0.48861372, 0.32678622, 0.26256049,\n",
       "       0.29102619, 0.40140194, 0.79721748, 0.83322659, 0.83589525,\n",
       "       0.7738756 , 0.60318816, 0.53497723, 0.64005124, 0.69449189,\n",
       "       0.50323797, 0.40474666, 0.44011529, 0.54387276, 0.95064759,\n",
       "       1.        , 0.89001566, 0.65111728, 0.46584116, 0.34037859,\n",
       "       0.4645602 , 0.44933106, 0.22021776, 0.17203957, 0.21936379,\n",
       "       0.39951608, 0.87482209])"
      ]
     },
     "metadata": {},
     "output_type": "display_data"
    },
    {
     "data": {
      "text/plain": [
       "array([0.85357956, 0.70153715, 0.49267008, 0.33870623, 0.24804298,\n",
       "       0.36247509])"
      ]
     },
     "metadata": {},
     "output_type": "display_data"
    },
    {
     "data": {
      "text/plain": [
       "array([0.94571568, 0.91738214, 0.79353583, 0.59758204, 0.49737855,\n",
       "       0.5906798 ])"
      ]
     },
     "metadata": {},
     "output_type": "display_data"
    },
    {
     "data": {
      "text/plain": [
       "array([0.93467122, 0.89254199, 0.77782522, 0.64830629, 0.50128096,\n",
       "       0.34365215, 0.43566752, 0.48861372, 0.32678622, 0.26256049,\n",
       "       0.29102619, 0.40140194, 0.79721748, 0.83322659, 0.83589525,\n",
       "       0.7738756 , 0.60318816, 0.53497723, 0.64005124, 0.69449189,\n",
       "       0.50323797, 0.40474666, 0.44011529, 0.54387276, 0.95064759,\n",
       "       1.        , 0.89001566, 0.65111728, 0.46584116, 0.34037859,\n",
       "       0.4645602 , 0.44933106, 0.22021776, 0.17203957, 0.21936379,\n",
       "       0.39951608, 0.87482209, 0.85357956, 0.70153715, 0.49267008,\n",
       "       0.33870623, 0.24804298, 0.36247509])"
      ]
     },
     "metadata": {},
     "output_type": "display_data"
    },
    {
     "data": {
      "text/plain": [
       "array([0.27867919, 0.11795474, 0.10962852, 0.08557501, 0.21210504,\n",
       "       0.60891688])"
      ]
     },
     "metadata": {},
     "output_type": "display_data"
    },
    {
     "data": {
      "text/plain": [
       "array([0.41240858, 0.25019966, 0.20591789, 0.24998671, 0.38711633,\n",
       "       0.80553629])"
      ]
     },
     "metadata": {},
     "output_type": "display_data"
    },
    {
     "data": {
      "text/plain": [
       "array([0.93467122, 0.89254199, 0.77782522, 0.64830629, 0.50128096,\n",
       "       0.34365215, 0.43566752, 0.48861372, 0.32678622, 0.26256049,\n",
       "       0.29102619, 0.40140194, 0.79721748, 0.83322659, 0.83589525,\n",
       "       0.7738756 , 0.60318816, 0.53497723, 0.64005124, 0.69449189,\n",
       "       0.50323797, 0.40474666, 0.44011529, 0.54387276, 0.95064759,\n",
       "       1.        , 0.89001566, 0.65111728, 0.46584116, 0.34037859,\n",
       "       0.4645602 , 0.44933106, 0.22021776, 0.17203957, 0.21936379,\n",
       "       0.39951608, 0.87482209, 0.85357956, 0.70153715, 0.49267008,\n",
       "       0.33870623, 0.24804298, 0.36247509, 0.27867919, 0.11795474,\n",
       "       0.10962852, 0.08557501, 0.21210504, 0.60891688])"
      ]
     },
     "metadata": {},
     "output_type": "display_data"
    },
    {
     "data": {
      "text/plain": [
       "array([0.63642186, 0.49106889, 0.33030885, 0.16317962, 0.13588813,\n",
       "       0.28426558])"
      ]
     },
     "metadata": {},
     "output_type": "display_data"
    },
    {
     "data": {
      "text/plain": [
       "array([0.6155415 , 0.59781947, 0.53054354, 0.398384  , 0.35207382,\n",
       "       0.46988359])"
      ]
     },
     "metadata": {},
     "output_type": "display_data"
    },
    {
     "data": {
      "text/plain": [
       "array([0.93467122, 0.89254199, 0.77782522, 0.64830629, 0.50128096,\n",
       "       0.34365215, 0.43566752, 0.48861372, 0.32678622, 0.26256049,\n",
       "       0.29102619, 0.40140194, 0.79721748, 0.83322659, 0.83589525,\n",
       "       0.7738756 , 0.60318816, 0.53497723, 0.64005124, 0.69449189,\n",
       "       0.50323797, 0.40474666, 0.44011529, 0.54387276, 0.95064759,\n",
       "       1.        , 0.89001566, 0.65111728, 0.46584116, 0.34037859,\n",
       "       0.4645602 , 0.44933106, 0.22021776, 0.17203957, 0.21936379,\n",
       "       0.39951608, 0.87482209, 0.85357956, 0.70153715, 0.49267008,\n",
       "       0.33870623, 0.24804298, 0.36247509, 0.27867919, 0.11795474,\n",
       "       0.10962852, 0.08557501, 0.21210504, 0.60891688, 0.63642186,\n",
       "       0.49106889, 0.33030885, 0.16317962, 0.13588813, 0.28426558])"
      ]
     },
     "metadata": {},
     "output_type": "display_data"
    },
    {
     "data": {
      "text/plain": [
       "array([0.17645175, 0.03608027, 0.        , 0.05380017, 0.20228437,\n",
       "       0.57849416])"
      ]
     },
     "metadata": {},
     "output_type": "display_data"
    },
    {
     "data": {
      "text/plain": [
       "array([0.27676542, 0.09409012, 0.03488329, 0.04381819, 0.15641912,\n",
       "       0.54860475])"
      ]
     },
     "metadata": {},
     "output_type": "display_data"
    },
    {
     "data": {
      "text/plain": [
       "array([0.93467122, 0.89254199, 0.77782522, 0.64830629, 0.50128096,\n",
       "       0.34365215, 0.43566752, 0.48861372, 0.32678622, 0.26256049,\n",
       "       0.29102619, 0.40140194, 0.79721748, 0.83322659, 0.83589525,\n",
       "       0.7738756 , 0.60318816, 0.53497723, 0.64005124, 0.69449189,\n",
       "       0.50323797, 0.40474666, 0.44011529, 0.54387276, 0.95064759,\n",
       "       1.        , 0.89001566, 0.65111728, 0.46584116, 0.34037859,\n",
       "       0.4645602 , 0.44933106, 0.22021776, 0.17203957, 0.21936379,\n",
       "       0.39951608, 0.87482209, 0.85357956, 0.70153715, 0.49267008,\n",
       "       0.33870623, 0.24804298, 0.36247509, 0.27867919, 0.11795474,\n",
       "       0.10962852, 0.08557501, 0.21210504, 0.60891688, 0.63642186,\n",
       "       0.49106889, 0.33030885, 0.16317962, 0.13588813, 0.28426558,\n",
       "       0.17645175, 0.03608027, 0.        , 0.05380017, 0.20228437,\n",
       "       0.57849416])"
      ]
     },
     "metadata": {},
     "output_type": "display_data"
    },
    {
     "data": {
      "text/plain": [
       "array([0.60169371, 0.50644036, 0.36542841, 0.23654996, 0.17399658,\n",
       "       0.30899516])"
      ]
     },
     "metadata": {},
     "output_type": "display_data"
    },
    {
     "data": {
      "text/plain": [
       "array([0.58775985, 0.44681291, 0.28225118, 0.12656917, 0.08510463,\n",
       "       0.21714789])"
      ]
     },
     "metadata": {},
     "output_type": "display_data"
    },
    {
     "data": {
      "text/plain": [
       "array([0.93467122, 0.89254199, 0.77782522, 0.64830629, 0.50128096,\n",
       "       0.34365215, 0.43566752, 0.48861372, 0.32678622, 0.26256049,\n",
       "       0.29102619, 0.40140194, 0.79721748, 0.83322659, 0.83589525,\n",
       "       0.7738756 , 0.60318816, 0.53497723, 0.64005124, 0.69449189,\n",
       "       0.50323797, 0.40474666, 0.44011529, 0.54387276, 0.95064759,\n",
       "       1.        , 0.89001566, 0.65111728, 0.46584116, 0.34037859,\n",
       "       0.4645602 , 0.44933106, 0.22021776, 0.17203957, 0.21936379,\n",
       "       0.39951608, 0.87482209, 0.85357956, 0.70153715, 0.49267008,\n",
       "       0.33870623, 0.24804298, 0.36247509, 0.27867919, 0.11795474,\n",
       "       0.10962852, 0.08557501, 0.21210504, 0.60891688, 0.63642186,\n",
       "       0.49106889, 0.33030885, 0.16317962, 0.13588813, 0.28426558,\n",
       "       0.17645175, 0.03608027, 0.        , 0.05380017, 0.20228437,\n",
       "       0.57849416, 0.60169371, 0.50644036, 0.36542841, 0.23654996,\n",
       "       0.17399658, 0.30899516])"
      ]
     },
     "metadata": {},
     "output_type": "display_data"
    },
    {
     "data": {
      "text/plain": [
       "array([0.21182038, 0.14492599, 0.14378736, 0.21441788, 0.35820524,\n",
       "       0.67292912])"
      ]
     },
     "metadata": {},
     "output_type": "display_data"
    },
    {
     "data": {
      "text/plain": [
       "array([0.23333121, 0.06946311, 0.03117792, 0.07962863, 0.23262313,\n",
       "       0.6277769 ])"
      ]
     },
     "metadata": {},
     "output_type": "display_data"
    },
    {
     "data": {
      "text/plain": [
       "array([0.48861372, 0.32678622, 0.26256049, 0.29102619, 0.40140194,\n",
       "       0.79721748, 0.83322659, 0.83589525, 0.7738756 , 0.60318816,\n",
       "       0.53497723, 0.64005124, 0.69449189, 0.50323797, 0.40474666,\n",
       "       0.44011529, 0.54387276, 0.95064759, 1.        , 0.89001566,\n",
       "       0.65111728, 0.46584116, 0.34037859, 0.4645602 , 0.44933106,\n",
       "       0.22021776, 0.17203957, 0.21936379, 0.39951608, 0.87482209,\n",
       "       0.85357956, 0.70153715, 0.49267008, 0.33870623, 0.24804298,\n",
       "       0.36247509, 0.27867919, 0.11795474, 0.10962852, 0.08557501,\n",
       "       0.21210504, 0.60891688, 0.63642186, 0.49106889, 0.33030885,\n",
       "       0.16317962, 0.13588813, 0.28426558, 0.17645175, 0.03608027,\n",
       "       0.        , 0.05380017, 0.20228437, 0.57849416, 0.60169371,\n",
       "       0.50644036, 0.36542841, 0.23654996, 0.17399658, 0.30899516,\n",
       "       0.21182038, 0.14492599, 0.14378736, 0.21441788, 0.35820524,\n",
       "       0.67292912])"
      ]
     },
     "metadata": {},
     "output_type": "display_data"
    },
    {
     "data": {
      "text/plain": [
       "[0.5941431330701283,\n",
       " 0.6252234326016156,\n",
       " 0.6472628116616558,\n",
       " 0.6628911755022308,\n",
       " 0.6739734185939265,\n",
       " 0.6818319579264046,\n",
       " 1.0303845071305004,\n",
       " 1.0727629183189231,\n",
       " 0.9631352447977437,\n",
       " 0.7769394682188957,\n",
       " 0.5928570567512506,\n",
       " 0.4674905644486948,\n",
       " 0.6443952919286843,\n",
       " 0.4442878273677632,\n",
       " 0.3338281917051271,\n",
       " 0.32202080067726635,\n",
       " 0.40050502244527264,\n",
       " 0.7357004400672188,\n",
       " 0.9800254716073733,\n",
       " 0.959304911446269,\n",
       " 0.8720985806173946,\n",
       " 0.684236912820482,\n",
       " 0.5964972067343922,\n",
       " 0.6761068530498432,\n",
       " 0.5422200374033048,\n",
       " 0.39387007323807727,\n",
       " 0.3294837035282702,\n",
       " 0.3621762009985032,\n",
       " 0.4654062591621522,\n",
       " 0.8478822626353996,\n",
       " 0.9457156822424733,\n",
       " 0.9173821427162658,\n",
       " 0.7935358269252097,\n",
       " 0.5975820418796822,\n",
       " 0.4973785537387513,\n",
       " 0.5906798020854294,\n",
       " 0.41240858049232126,\n",
       " 0.25019965721639204,\n",
       " 0.20591788677362433,\n",
       " 0.24998670608118528,\n",
       " 0.3871163308812962,\n",
       " 0.8055362939815387,\n",
       " 0.6155415013276956,\n",
       " 0.5978194672548334,\n",
       " 0.5305435366092102,\n",
       " 0.39838399874254693,\n",
       " 0.3520738243846674,\n",
       " 0.46988358717755835,\n",
       " 0.276765417165964,\n",
       " 0.09409011939508566,\n",
       " 0.03488329293070608,\n",
       " 0.04381819264089309,\n",
       " 0.15641911799408287,\n",
       " 0.5486047499222928,\n",
       " 0.587759848506835,\n",
       " 0.4468129126878929,\n",
       " 0.2822511769245023,\n",
       " 0.12656917131167789,\n",
       " 0.08510463222388753,\n",
       " 0.2171478862773483,\n",
       " 0.23333120549691577,\n",
       " 0.06946311184206028,\n",
       " 0.03117792325891467,\n",
       " 0.07962862835025211,\n",
       " 0.23262312900585025,\n",
       " 0.627776896994602]"
      ]
     },
     "metadata": {},
     "output_type": "display_data"
    },
    {
     "data": {
      "text/plain": [
       "'StateError: 0.16646744721296677'"
      ]
     },
     "metadata": {},
     "output_type": "display_data"
    },
    {
     "data": {
      "text/plain": [
       "array([0.62076964, 0.59126866, 0.47427586, 0.48444656, 0.40076132,\n",
       "       0.25813359, 0.38345328])"
      ]
     },
     "metadata": {},
     "output_type": "display_data"
    },
    {
     "data": {
      "text/plain": [
       "array([0.37143877, 0.27127818, 0.23511568, 0.15392851, 0.16909534,\n",
       "       0.55938857])"
      ]
     },
     "metadata": {},
     "output_type": "display_data"
    },
    {
     "data": {
      "text/plain": [
       "array([0.4150828 , 0.43565965, 0.44904611, 0.45775478, 0.46342029,\n",
       "       0.46710603])"
      ]
     },
     "metadata": {},
     "output_type": "display_data"
    },
    {
     "data": {
      "text/plain": [
       "array([0.62076964, 0.59126866, 0.47427586, 0.48444656, 0.40076132,\n",
       "       0.25813359, 0.38345328, 0.37143877, 0.27127818, 0.23511568,\n",
       "       0.15392851, 0.16909534, 0.55938857])"
      ]
     },
     "metadata": {},
     "output_type": "display_data"
    },
    {
     "data": {
      "text/plain": [
       "array([0.66121454, 0.71795634, 0.82983406, 0.728246  , 0.67168263,\n",
       "       0.77434128])"
      ]
     },
     "metadata": {},
     "output_type": "display_data"
    },
    {
     "data": {
      "text/plain": [
       "array([0.50731676, 0.47522434, 0.45544544, 0.44325549, 0.4357427 ,\n",
       "       0.43111248])"
      ]
     },
     "metadata": {},
     "output_type": "display_data"
    },
    {
     "data": {
      "text/plain": [
       "array([0.62076964, 0.59126866, 0.47427586, 0.48444656, 0.40076132,\n",
       "       0.25813359, 0.38345328, 0.37143877, 0.27127818, 0.23511568,\n",
       "       0.15392851, 0.16909534, 0.55938857, 0.66121454, 0.71795634,\n",
       "       0.82983406, 0.728246  , 0.67168263, 0.77434128])"
      ]
     },
     "metadata": {},
     "output_type": "display_data"
    },
    {
     "data": {
      "text/plain": [
       "array([0.8265033 , 0.71771843, 0.65056801, 0.62600369, 0.61737941,\n",
       "       0.99042408])"
      ]
     },
     "metadata": {},
     "output_type": "display_data"
    },
    {
     "data": {
      "text/plain": [
       "array([0.76350581, 0.67936254, 0.62593438, 0.59200929, 0.57046799,\n",
       "       0.55678998])"
      ]
     },
     "metadata": {},
     "output_type": "display_data"
    },
    {
     "data": {
      "text/plain": [
       "array([0.62076964, 0.59126866, 0.47427586, 0.48444656, 0.40076132,\n",
       "       0.25813359, 0.38345328, 0.37143877, 0.27127818, 0.23511568,\n",
       "       0.15392851, 0.16909534, 0.55938857, 0.66121454, 0.71795634,\n",
       "       0.82983406, 0.728246  , 0.67168263, 0.77434128, 0.8265033 ,\n",
       "       0.71771843, 0.65056801, 0.62600369, 0.61737941, 0.99042408])"
      ]
     },
     "metadata": {},
     "output_type": "display_data"
    },
    {
     "data": {
      "text/plain": [
       "array([1.        , 0.89757925, 0.73698923, 0.49681794, 0.40641171,\n",
       "       0.4762981 ])"
      ]
     },
     "metadata": {},
     "output_type": "display_data"
    },
    {
     "data": {
      "text/plain": [
       "array([1.09156593, 1.14601502, 1.24504744, 1.16044215, 1.11411272,\n",
       "       1.20402997])"
      ]
     },
     "metadata": {},
     "output_type": "display_data"
    },
    {
     "data": {
      "text/plain": [
       "array([0.62076964, 0.59126866, 0.47427586, 0.48444656, 0.40076132,\n",
       "       0.25813359, 0.38345328, 0.37143877, 0.27127818, 0.23511568,\n",
       "       0.15392851, 0.16909534, 0.55938857, 0.66121454, 0.71795634,\n",
       "       0.82983406, 0.728246  , 0.67168263, 0.77434128, 0.8265033 ,\n",
       "       0.71771843, 0.65056801, 0.62600369, 0.61737941, 0.99042408,\n",
       "       1.        , 0.89757925, 0.73698923, 0.49681794, 0.40641171,\n",
       "       0.4762981 ])"
      ]
     },
     "metadata": {},
     "output_type": "display_data"
    },
    {
     "data": {
      "text/plain": [
       "array([0.49937548, 0.30726224, 0.22435021, 0.14369833, 0.09278534,\n",
       "       0.58252543])"
      ]
     },
     "metadata": {},
     "output_type": "display_data"
    },
    {
     "data": {
      "text/plain": [
       "array([0.44855079, 0.29659969, 0.20129412, 0.16494754, 0.16452609,\n",
       "       0.52145471])"
      ]
     },
     "metadata": {},
     "output_type": "display_data"
    },
    {
     "data": {
      "text/plain": [
       "array([0.62076964, 0.59126866, 0.47427586, 0.48444656, 0.40076132,\n",
       "       0.25813359, 0.38345328, 0.37143877, 0.27127818, 0.23511568,\n",
       "       0.15392851, 0.16909534, 0.55938857, 0.66121454, 0.71795634,\n",
       "       0.82983406, 0.728246  , 0.67168263, 0.77434128, 0.8265033 ,\n",
       "       0.71771843, 0.65056801, 0.62600369, 0.61737941, 0.99042408,\n",
       "       1.        , 0.89757925, 0.73698923, 0.49681794, 0.40641171,\n",
       "       0.4762981 , 0.49937548, 0.30726224, 0.22435021, 0.14369833,\n",
       "       0.09278534, 0.58252543])"
      ]
     },
     "metadata": {},
     "output_type": "display_data"
    },
    {
     "data": {
      "text/plain": [
       "array([0.58948433, 0.57181943, 0.53518111, 0.38041991, 0.3054779 ,\n",
       "       0.46220187])"
      ]
     },
     "metadata": {},
     "output_type": "display_data"
    },
    {
     "data": {
      "text/plain": [
       "array([0.64504127, 0.61898086, 0.54971868, 0.41424381, 0.41618204,\n",
       "       0.56125903])"
      ]
     },
     "metadata": {},
     "output_type": "display_data"
    },
    {
     "data": {
      "text/plain": [
       "array([0.62076964, 0.59126866, 0.47427586, 0.48444656, 0.40076132,\n",
       "       0.25813359, 0.38345328, 0.37143877, 0.27127818, 0.23511568,\n",
       "       0.15392851, 0.16909534, 0.55938857, 0.66121454, 0.71795634,\n",
       "       0.82983406, 0.728246  , 0.67168263, 0.77434128, 0.8265033 ,\n",
       "       0.71771843, 0.65056801, 0.62600369, 0.61737941, 0.99042408,\n",
       "       1.        , 0.89757925, 0.73698923, 0.49681794, 0.40641171,\n",
       "       0.4762981 , 0.49937548, 0.30726224, 0.22435021, 0.14369833,\n",
       "       0.09278534, 0.58252543, 0.58948433, 0.57181943, 0.53518111,\n",
       "       0.38041991, 0.3054779 , 0.46220187])"
      ]
     },
     "metadata": {},
     "output_type": "display_data"
    },
    {
     "data": {
      "text/plain": [
       "array([0.39802534, 0.10236127, 0.12026408, 0.        , 0.03782787,\n",
       "       0.36138702])"
      ]
     },
     "metadata": {},
     "output_type": "display_data"
    },
    {
     "data": {
      "text/plain": [
       "array([0.53893403, 0.4202282 , 0.36576299, 0.32398867, 0.30108238,\n",
       "       0.7122089 ])"
      ]
     },
     "metadata": {},
     "output_type": "display_data"
    },
    {
     "data": {
      "text/plain": [
       "array([0.62076964, 0.59126866, 0.47427586, 0.48444656, 0.40076132,\n",
       "       0.25813359, 0.38345328, 0.37143877, 0.27127818, 0.23511568,\n",
       "       0.15392851, 0.16909534, 0.55938857, 0.66121454, 0.71795634,\n",
       "       0.82983406, 0.728246  , 0.67168263, 0.77434128, 0.8265033 ,\n",
       "       0.71771843, 0.65056801, 0.62600369, 0.61737941, 0.99042408,\n",
       "       1.        , 0.89757925, 0.73698923, 0.49681794, 0.40641171,\n",
       "       0.4762981 , 0.49937548, 0.30726224, 0.22435021, 0.14369833,\n",
       "       0.09278534, 0.58252543, 0.58948433, 0.57181943, 0.53518111,\n",
       "       0.38041991, 0.3054779 , 0.46220187, 0.39802534, 0.10236127,\n",
       "       0.12026408, 0.        , 0.03782787, 0.36138702])"
      ]
     },
     "metadata": {},
     "output_type": "display_data"
    },
    {
     "data": {
      "text/plain": [
       "array([0.36418248, 0.31112829, 0.28935942, 0.22429073, 0.20787486,\n",
       "       0.3496699 ])"
      ]
     },
     "metadata": {},
     "output_type": "display_data"
    },
    {
     "data": {
      "text/plain": [
       "array([0.38181859, 0.36933017, 0.33713368, 0.20790269, 0.16986779,\n",
       "       0.33142443])"
      ]
     },
     "metadata": {},
     "output_type": "display_data"
    },
    {
     "data": {
      "text/plain": [
       "array([0.62076964, 0.59126866, 0.47427586, 0.48444656, 0.40076132,\n",
       "       0.25813359, 0.38345328, 0.37143877, 0.27127818, 0.23511568,\n",
       "       0.15392851, 0.16909534, 0.55938857, 0.66121454, 0.71795634,\n",
       "       0.82983406, 0.728246  , 0.67168263, 0.77434128, 0.8265033 ,\n",
       "       0.71771843, 0.65056801, 0.62600369, 0.61737941, 0.99042408,\n",
       "       1.        , 0.89757925, 0.73698923, 0.49681794, 0.40641171,\n",
       "       0.4762981 , 0.49937548, 0.30726224, 0.22435021, 0.14369833,\n",
       "       0.09278534, 0.58252543, 0.58948433, 0.57181943, 0.53518111,\n",
       "       0.38041991, 0.3054779 , 0.46220187, 0.39802534, 0.10236127,\n",
       "       0.12026408, 0.        , 0.03782787, 0.36138702, 0.36418248,\n",
       "       0.31112829, 0.28935942, 0.22429073, 0.20787486, 0.3496699 ])"
      ]
     },
     "metadata": {},
     "output_type": "display_data"
    },
    {
     "data": {
      "text/plain": [
       "array([0.23499673, 0.09855469, 0.09867365, 0.03527033, 0.03758996,\n",
       "       0.34526854])"
      ]
     },
     "metadata": {},
     "output_type": "display_data"
    },
    {
     "data": {
      "text/plain": [
       "array([0.36384294, 0.19942163, 0.1797235 , 0.11475491, 0.12601879,\n",
       "       0.49826974])"
      ]
     },
     "metadata": {},
     "output_type": "display_data"
    },
    {
     "data": {
      "text/plain": [
       "array([0.62076964, 0.59126866, 0.47427586, 0.48444656, 0.40076132,\n",
       "       0.25813359, 0.38345328, 0.37143877, 0.27127818, 0.23511568,\n",
       "       0.15392851, 0.16909534, 0.55938857, 0.66121454, 0.71795634,\n",
       "       0.82983406, 0.728246  , 0.67168263, 0.77434128, 0.8265033 ,\n",
       "       0.71771843, 0.65056801, 0.62600369, 0.61737941, 0.99042408,\n",
       "       1.        , 0.89757925, 0.73698923, 0.49681794, 0.40641171,\n",
       "       0.4762981 , 0.49937548, 0.30726224, 0.22435021, 0.14369833,\n",
       "       0.09278534, 0.58252543, 0.58948433, 0.57181943, 0.53518111,\n",
       "       0.38041991, 0.3054779 , 0.46220187, 0.39802534, 0.10236127,\n",
       "       0.12026408, 0.        , 0.03782787, 0.36138702, 0.36418248,\n",
       "       0.31112829, 0.28935942, 0.22429073, 0.20787486, 0.3496699 ,\n",
       "       0.23499673, 0.09855469, 0.09867365, 0.03527033, 0.03758996,\n",
       "       0.34526854])"
      ]
     },
     "metadata": {},
     "output_type": "display_data"
    },
    {
     "data": {
      "text/plain": [
       "array([0.31874145, 0.30143341, 0.27074288, 0.25908523, 0.22316065,\n",
       "       0.39231547])"
      ]
     },
     "metadata": {},
     "output_type": "display_data"
    },
    {
     "data": {
      "text/plain": [
       "array([0.34940844, 0.30301751, 0.27963011, 0.15860915, 0.09197388,\n",
       "       0.20810571])"
      ]
     },
     "metadata": {},
     "output_type": "display_data"
    },
    {
     "data": {
      "text/plain": [
       "array([0.62076964, 0.59126866, 0.47427586, 0.48444656, 0.40076132,\n",
       "       0.25813359, 0.38345328, 0.37143877, 0.27127818, 0.23511568,\n",
       "       0.15392851, 0.16909534, 0.55938857, 0.66121454, 0.71795634,\n",
       "       0.82983406, 0.728246  , 0.67168263, 0.77434128, 0.8265033 ,\n",
       "       0.71771843, 0.65056801, 0.62600369, 0.61737941, 0.99042408,\n",
       "       1.        , 0.89757925, 0.73698923, 0.49681794, 0.40641171,\n",
       "       0.4762981 , 0.49937548, 0.30726224, 0.22435021, 0.14369833,\n",
       "       0.09278534, 0.58252543, 0.58948433, 0.57181943, 0.53518111,\n",
       "       0.38041991, 0.3054779 , 0.46220187, 0.39802534, 0.10236127,\n",
       "       0.12026408, 0.        , 0.03782787, 0.36138702, 0.36418248,\n",
       "       0.31112829, 0.28935942, 0.22429073, 0.20787486, 0.3496699 ,\n",
       "       0.23499673, 0.09855469, 0.09867365, 0.03527033, 0.03758996,\n",
       "       0.34526854, 0.31874145, 0.30143341, 0.27074288, 0.25908523,\n",
       "       0.22316065, 0.39231547])"
      ]
     },
     "metadata": {},
     "output_type": "display_data"
    },
    {
     "data": {
      "text/plain": [
       "array([0.32076369, 0.24165824, 0.2605127 , 0.22137632, 0.25878784,\n",
       "       0.55712841])"
      ]
     },
     "metadata": {},
     "output_type": "display_data"
    },
    {
     "data": {
      "text/plain": [
       "array([0.3156135 , 0.14387196, 0.15033748, 0.07565314, 0.08965923,\n",
       "       0.36690671])"
      ]
     },
     "metadata": {},
     "output_type": "display_data"
    },
    {
     "data": {
      "text/plain": [
       "array([0.37143877, 0.27127818, 0.23511568, 0.15392851, 0.16909534,\n",
       "       0.55938857, 0.66121454, 0.71795634, 0.82983406, 0.728246  ,\n",
       "       0.67168263, 0.77434128, 0.8265033 , 0.71771843, 0.65056801,\n",
       "       0.62600369, 0.61737941, 0.99042408, 1.        , 0.89757925,\n",
       "       0.73698923, 0.49681794, 0.40641171, 0.4762981 , 0.49937548,\n",
       "       0.30726224, 0.22435021, 0.14369833, 0.09278534, 0.58252543,\n",
       "       0.58948433, 0.57181943, 0.53518111, 0.38041991, 0.3054779 ,\n",
       "       0.46220187, 0.39802534, 0.10236127, 0.12026408, 0.        ,\n",
       "       0.03782787, 0.36138702, 0.36418248, 0.31112829, 0.28935942,\n",
       "       0.22429073, 0.20787486, 0.3496699 , 0.23499673, 0.09855469,\n",
       "       0.09867365, 0.03527033, 0.03758996, 0.34526854, 0.31874145,\n",
       "       0.30143341, 0.27074288, 0.25908523, 0.22316065, 0.39231547,\n",
       "       0.32076369, 0.24165824, 0.2605127 , 0.22137632, 0.25878784,\n",
       "       0.55712841])"
      ]
     },
     "metadata": {},
     "output_type": "display_data"
    },
    {
     "data": {
      "text/plain": [
       "[0.41508279665434766,\n",
       " 0.43565965394832873,\n",
       " 0.4490461076017041,\n",
       " 0.4577547815674989,\n",
       " 0.4634202852330936,\n",
       " 0.46710602796625117,\n",
       " 0.5073167570969961,\n",
       " 0.4752243412671531,\n",
       " 0.4554454411555075,\n",
       " 0.4432554928605377,\n",
       " 0.43574269697222917,\n",
       " 0.4311124802810987,\n",
       " 0.7635058102520194,\n",
       " 0.6793625395685075,\n",
       " 0.6259343792258172,\n",
       " 0.5920092858176811,\n",
       " 0.5704679870836658,\n",
       " 0.5567899834429506,\n",
       " 1.091565928462859,\n",
       " 1.1460150234215123,\n",
       " 1.2450474445495694,\n",
       " 1.1604421495516075,\n",
       " 1.1141127157087025,\n",
       " 1.2040299733962407,\n",
       " 0.4485507896266693,\n",
       " 0.29659968748973486,\n",
       " 0.2012941162704203,\n",
       " 0.16494753591350128,\n",
       " 0.16452609220472206,\n",
       " 0.5214547084754813,\n",
       " 0.6450412697319657,\n",
       " 0.6189808555501074,\n",
       " 0.5497186782811898,\n",
       " 0.41424381069933514,\n",
       " 0.4161820427837338,\n",
       " 0.5612590253714325,\n",
       " 0.5389340275309531,\n",
       " 0.42022819839018755,\n",
       " 0.3657629878828053,\n",
       " 0.3239886740478017,\n",
       " 0.3010823798680328,\n",
       " 0.7122089042487182,\n",
       " 0.381818594133246,\n",
       " 0.36933017216532293,\n",
       " 0.33713367861171073,\n",
       " 0.2079026922104849,\n",
       " 0.16986778603120384,\n",
       " 0.3314244305387122,\n",
       " 0.36384293605398915,\n",
       " 0.1994216268950267,\n",
       " 0.1797234999618727,\n",
       " 0.11475491373629464,\n",
       " 0.12601879233512833,\n",
       " 0.49826974126985113,\n",
       " 0.34940844301826507,\n",
       " 0.30301751416360007,\n",
       " 0.2796301146230227,\n",
       " 0.15860915462487918,\n",
       " 0.09197387651544121,\n",
       " 0.20810571308059828,\n",
       " 0.3156134987101997,\n",
       " 0.1438719551140014,\n",
       " 0.15033748313121187,\n",
       " 0.07565313677156485,\n",
       " 0.08965923370943447,\n",
       " 0.366906705488043]"
      ]
     },
     "metadata": {},
     "output_type": "display_data"
    },
    {
     "data": {
      "text/plain": [
       "'StateError: 0.23044234417941023'"
      ]
     },
     "metadata": {},
     "output_type": "display_data"
    },
    {
     "data": {
      "text/plain": [
       "array([1.        , 0.94612302, 0.80145453, 0.70008269, 0.5796599 ,\n",
       "       0.46641435, 0.58281916])"
      ]
     },
     "metadata": {},
     "output_type": "display_data"
    },
    {
     "data": {
      "text/plain": [
       "array([0.55632593, 0.3912707 , 0.31886224, 0.31545915, 0.42335093,\n",
       "       0.75230583])"
      ]
     },
     "metadata": {},
     "output_type": "display_data"
    },
    {
     "data": {
      "text/plain": [
       "array([0.71978945, 0.73888292, 0.75181583, 0.7605759 , 0.76650951,\n",
       "       0.77052863])"
      ]
     },
     "metadata": {},
     "output_type": "display_data"
    },
    {
     "data": {
      "text/plain": [
       "array([1.        , 0.94612302, 0.80145453, 0.70008269, 0.5796599 ,\n",
       "       0.46641435, 0.58281916, 0.55632593, 0.3912707 , 0.31886224,\n",
       "       0.31545915, 0.42335093, 0.75230583])"
      ]
     },
     "metadata": {},
     "output_type": "display_data"
    },
    {
     "data": {
      "text/plain": [
       "array([0.80385048, 0.7859869 , 0.7790747 , 0.63419418, 0.6031847 ,\n",
       "       0.70979369])"
      ]
     },
     "metadata": {},
     "output_type": "display_data"
    },
    {
     "data": {
      "text/plain": [
       "array([0.97220708, 1.04568427, 0.98867608, 0.8519011 , 0.6967492 ,\n",
       "       0.5742225 ])"
      ]
     },
     "metadata": {},
     "output_type": "display_data"
    },
    {
     "data": {
      "text/plain": [
       "array([1.        , 0.94612302, 0.80145453, 0.70008269, 0.5796599 ,\n",
       "       0.46641435, 0.58281916, 0.55632593, 0.3912707 , 0.31886224,\n",
       "       0.31545915, 0.42335093, 0.75230583, 0.80385048, 0.7859869 ,\n",
       "       0.7790747 , 0.63419418, 0.6031847 , 0.70979369])"
      ]
     },
     "metadata": {},
     "output_type": "display_data"
    },
    {
     "data": {
      "text/plain": [
       "array([0.61786782, 0.5152556 , 0.45018341, 0.43485359, 0.52503021,\n",
       "       0.86584823])"
      ]
     },
     "metadata": {},
     "output_type": "display_data"
    },
    {
     "data": {
      "text/plain": [
       "array([0.66088908, 0.48823079, 0.3912224 , 0.36325097, 0.43818276,\n",
       "       0.69524657])"
      ]
     },
     "metadata": {},
     "output_type": "display_data"
    },
    {
     "data": {
      "text/plain": [
       "array([1.        , 0.94612302, 0.80145453, 0.70008269, 0.5796599 ,\n",
       "       0.46641435, 0.58281916, 0.55632593, 0.3912707 , 0.31886224,\n",
       "       0.31545915, 0.42335093, 0.75230583, 0.80385048, 0.7859869 ,\n",
       "       0.7790747 , 0.63419418, 0.6031847 , 0.70979369, 0.61786782,\n",
       "       0.5152556 , 0.45018341, 0.43485359, 0.52503021, 0.86584823])"
      ]
     },
     "metadata": {},
     "output_type": "display_data"
    },
    {
     "data": {
      "text/plain": [
       "array([0.9078727 , 0.81402795, 0.6558319 , 0.49804932, 0.45511312,\n",
       "       0.56574009])"
      ]
     },
     "metadata": {},
     "output_type": "display_data"
    },
    {
     "data": {
      "text/plain": [
       "array([0.91186553, 0.86898634, 0.82661781, 0.67228904, 0.62267596,\n",
       "       0.69823987])"
      ]
     },
     "metadata": {},
     "output_type": "display_data"
    },
    {
     "data": {
      "text/plain": [
       "array([1.        , 0.94612302, 0.80145453, 0.70008269, 0.5796599 ,\n",
       "       0.46641435, 0.58281916, 0.55632593, 0.3912707 , 0.31886224,\n",
       "       0.31545915, 0.42335093, 0.75230583, 0.80385048, 0.7859869 ,\n",
       "       0.7790747 , 0.63419418, 0.6031847 , 0.70979369, 0.61786782,\n",
       "       0.5152556 , 0.45018341, 0.43485359, 0.52503021, 0.86584823,\n",
       "       0.9078727 , 0.81402795, 0.6558319 , 0.49804932, 0.45511312,\n",
       "       0.56574009])"
      ]
     },
     "metadata": {},
     "output_type": "display_data"
    },
    {
     "data": {
      "text/plain": [
       "array([0.48436274, 0.33559146, 0.26737061, 0.26373428, 0.36183025,\n",
       "       0.67169179])"
      ]
     },
     "metadata": {},
     "output_type": "display_data"
    },
    {
     "data": {
      "text/plain": [
       "array([0.54035344, 0.43293058, 0.38532751, 0.3865903 , 0.48236913,\n",
       "       0.78979507])"
      ]
     },
     "metadata": {},
     "output_type": "display_data"
    },
    {
     "data": {
      "text/plain": [
       "array([1.        , 0.94612302, 0.80145453, 0.70008269, 0.5796599 ,\n",
       "       0.46641435, 0.58281916, 0.55632593, 0.3912707 , 0.31886224,\n",
       "       0.31545915, 0.42335093, 0.75230583, 0.80385048, 0.7859869 ,\n",
       "       0.7790747 , 0.63419418, 0.6031847 , 0.70979369, 0.61786782,\n",
       "       0.5152556 , 0.45018341, 0.43485359, 0.52503021, 0.86584823,\n",
       "       0.9078727 , 0.81402795, 0.6558319 , 0.49804932, 0.45511312,\n",
       "       0.56574009, 0.48436274, 0.33559146, 0.26737061, 0.26373428,\n",
       "       0.36183025, 0.67169179])"
      ]
     },
     "metadata": {},
     "output_type": "display_data"
    },
    {
     "data": {
      "text/plain": [
       "array([0.61588533, 0.48068401, 0.34395607, 0.23913873, 0.19776096,\n",
       "       0.28938999])"
      ]
     },
     "metadata": {},
     "output_type": "display_data"
    },
    {
     "data": {
      "text/plain": [
       "array([0.73338831, 0.72424595, 0.70496983, 0.57429153, 0.5507581 ,\n",
       "       0.66094636])"
      ]
     },
     "metadata": {},
     "output_type": "display_data"
    },
    {
     "data": {
      "text/plain": [
       "array([1.        , 0.94612302, 0.80145453, 0.70008269, 0.5796599 ,\n",
       "       0.46641435, 0.58281916, 0.55632593, 0.3912707 , 0.31886224,\n",
       "       0.31545915, 0.42335093, 0.75230583, 0.80385048, 0.7859869 ,\n",
       "       0.7790747 , 0.63419418, 0.6031847 , 0.70979369, 0.61786782,\n",
       "       0.5152556 , 0.45018341, 0.43485359, 0.52503021, 0.86584823,\n",
       "       0.9078727 , 0.81402795, 0.6558319 , 0.49804932, 0.45511312,\n",
       "       0.56574009, 0.48436274, 0.33559146, 0.26737061, 0.26373428,\n",
       "       0.36183025, 0.67169179, 0.61588533, 0.48068401, 0.34395607,\n",
       "       0.23913873, 0.19776096, 0.28938999])"
      ]
     },
     "metadata": {},
     "output_type": "display_data"
    },
    {
     "data": {
      "text/plain": [
       "array([0.28100418, 0.08996459, 0.02652503, 0.        , 0.07869516,\n",
       "       0.34846172])"
      ]
     },
     "metadata": {},
     "output_type": "display_data"
    },
    {
     "data": {
      "text/plain": [
       "array([0.24119591, 0.11170672, 0.06300613, 0.07732433, 0.19565328,\n",
       "       0.52823846])"
      ]
     },
     "metadata": {},
     "output_type": "display_data"
    },
    {
     "data": {
      "text/plain": [
       "array([1.        , 0.94612302, 0.80145453, 0.70008269, 0.5796599 ,\n",
       "       0.46641435, 0.58281916, 0.55632593, 0.3912707 , 0.31886224,\n",
       "       0.31545915, 0.42335093, 0.75230583, 0.80385048, 0.7859869 ,\n",
       "       0.7790747 , 0.63419418, 0.6031847 , 0.70979369, 0.61786782,\n",
       "       0.5152556 , 0.45018341, 0.43485359, 0.52503021, 0.86584823,\n",
       "       0.9078727 , 0.81402795, 0.6558319 , 0.49804932, 0.45511312,\n",
       "       0.56574009, 0.48436274, 0.33559146, 0.26737061, 0.26373428,\n",
       "       0.36183025, 0.67169179, 0.61588533, 0.48068401, 0.34395607,\n",
       "       0.23913873, 0.19776096, 0.28938999, 0.28100418, 0.08996459,\n",
       "       0.02652503, 0.        , 0.07869516, 0.34846172])"
      ]
     },
     "metadata": {},
     "output_type": "display_data"
    },
    {
     "data": {
      "text/plain": [
       "array([0.37854886, 0.26322541, 0.19765494, 0.09713123, 0.04695418,\n",
       "       0.135742  ])"
      ]
     },
     "metadata": {},
     "output_type": "display_data"
    },
    {
     "data": {
      "text/plain": [
       "array([ 0.33142713,  0.23103268,  0.12882996,  0.00034737, -0.05438754,\n",
       "        0.04767619])"
      ]
     },
     "metadata": {},
     "output_type": "display_data"
    },
    {
     "data": {
      "text/plain": [
       "array([1.        , 0.94612302, 0.80145453, 0.70008269, 0.5796599 ,\n",
       "       0.46641435, 0.58281916, 0.55632593, 0.3912707 , 0.31886224,\n",
       "       0.31545915, 0.42335093, 0.75230583, 0.80385048, 0.7859869 ,\n",
       "       0.7790747 , 0.63419418, 0.6031847 , 0.70979369, 0.61786782,\n",
       "       0.5152556 , 0.45018341, 0.43485359, 0.52503021, 0.86584823,\n",
       "       0.9078727 , 0.81402795, 0.6558319 , 0.49804932, 0.45511312,\n",
       "       0.56574009, 0.48436274, 0.33559146, 0.26737061, 0.26373428,\n",
       "       0.36183025, 0.67169179, 0.61588533, 0.48068401, 0.34395607,\n",
       "       0.23913873, 0.19776096, 0.28938999, 0.28100418, 0.08996459,\n",
       "       0.02652503, 0.        , 0.07869516, 0.34846172, 0.37854886,\n",
       "       0.26322541, 0.19765494, 0.09713123, 0.04695418, 0.135742  ])"
      ]
     },
     "metadata": {},
     "output_type": "display_data"
    },
    {
     "data": {
      "text/plain": [
       "array([0.23359413, 0.08986918, 0.04184424, 0.04940313, 0.13175583,\n",
       "       0.39503424])"
      ]
     },
     "metadata": {},
     "output_type": "display_data"
    },
    {
     "data": {
      "text/plain": [
       "array([ 0.08282241, -0.06639554, -0.13154314, -0.14431374, -0.05469799,\n",
       "        0.24228202])"
      ]
     },
     "metadata": {},
     "output_type": "display_data"
    },
    {
     "data": {
      "text/plain": [
       "array([1.        , 0.94612302, 0.80145453, 0.70008269, 0.5796599 ,\n",
       "       0.46641435, 0.58281916, 0.55632593, 0.3912707 , 0.31886224,\n",
       "       0.31545915, 0.42335093, 0.75230583, 0.80385048, 0.7859869 ,\n",
       "       0.7790747 , 0.63419418, 0.6031847 , 0.70979369, 0.61786782,\n",
       "       0.5152556 , 0.45018341, 0.43485359, 0.52503021, 0.86584823,\n",
       "       0.9078727 , 0.81402795, 0.6558319 , 0.49804932, 0.45511312,\n",
       "       0.56574009, 0.48436274, 0.33559146, 0.26737061, 0.26373428,\n",
       "       0.36183025, 0.67169179, 0.61588533, 0.48068401, 0.34395607,\n",
       "       0.23913873, 0.19776096, 0.28938999, 0.28100418, 0.08996459,\n",
       "       0.02652503, 0.        , 0.07869516, 0.34846172, 0.37854886,\n",
       "       0.26322541, 0.19765494, 0.09713123, 0.04695418, 0.135742  ,\n",
       "       0.23359413, 0.08986918, 0.04184424, 0.04940313, 0.13175583,\n",
       "       0.39503424])"
      ]
     },
     "metadata": {},
     "output_type": "display_data"
    },
    {
     "data": {
      "text/plain": [
       "array([0.39967771, 0.32033586, 0.2493056 , 0.19422005, 0.13030342,\n",
       "       0.24630537])"
      ]
     },
     "metadata": {},
     "output_type": "display_data"
    },
    {
     "data": {
      "text/plain": [
       "array([0.39475508, 0.28778375, 0.1960512 , 0.08319118, 0.03466262,\n",
       "       0.12765776])"
      ]
     },
     "metadata": {},
     "output_type": "display_data"
    },
    {
     "data": {
      "text/plain": [
       "array([1.        , 0.94612302, 0.80145453, 0.70008269, 0.5796599 ,\n",
       "       0.46641435, 0.58281916, 0.55632593, 0.3912707 , 0.31886224,\n",
       "       0.31545915, 0.42335093, 0.75230583, 0.80385048, 0.7859869 ,\n",
       "       0.7790747 , 0.63419418, 0.6031847 , 0.70979369, 0.61786782,\n",
       "       0.5152556 , 0.45018341, 0.43485359, 0.52503021, 0.86584823,\n",
       "       0.9078727 , 0.81402795, 0.6558319 , 0.49804932, 0.45511312,\n",
       "       0.56574009, 0.48436274, 0.33559146, 0.26737061, 0.26373428,\n",
       "       0.36183025, 0.67169179, 0.61588533, 0.48068401, 0.34395607,\n",
       "       0.23913873, 0.19776096, 0.28938999, 0.28100418, 0.08996459,\n",
       "       0.02652503, 0.        , 0.07869516, 0.34846172, 0.37854886,\n",
       "       0.26322541, 0.19765494, 0.09713123, 0.04695418, 0.135742  ,\n",
       "       0.23359413, 0.08986918, 0.04184424, 0.04940313, 0.13175583,\n",
       "       0.39503424, 0.39967771, 0.32033586, 0.2493056 , 0.19422005,\n",
       "       0.13030342, 0.24630537])"
      ]
     },
     "metadata": {},
     "output_type": "display_data"
    },
    {
     "data": {
      "text/plain": [
       "array([0.20717512, 0.11291691, 0.08269194, 0.0879185 , 0.18269618,\n",
       "       0.42225897])"
      ]
     },
     "metadata": {},
     "output_type": "display_data"
    },
    {
     "data": {
      "text/plain": [
       "array([0.26127403, 0.11380868, 0.05660921, 0.05034806, 0.13405711,\n",
       "       0.41006279])"
      ]
     },
     "metadata": {},
     "output_type": "display_data"
    },
    {
     "data": {
      "text/plain": [
       "array([0.55632593, 0.3912707 , 0.31886224, 0.31545915, 0.42335093,\n",
       "       0.75230583, 0.80385048, 0.7859869 , 0.7790747 , 0.63419418,\n",
       "       0.6031847 , 0.70979369, 0.61786782, 0.5152556 , 0.45018341,\n",
       "       0.43485359, 0.52503021, 0.86584823, 0.9078727 , 0.81402795,\n",
       "       0.6558319 , 0.49804932, 0.45511312, 0.56574009, 0.48436274,\n",
       "       0.33559146, 0.26737061, 0.26373428, 0.36183025, 0.67169179,\n",
       "       0.61588533, 0.48068401, 0.34395607, 0.23913873, 0.19776096,\n",
       "       0.28938999, 0.28100418, 0.08996459, 0.02652503, 0.        ,\n",
       "       0.07869516, 0.34846172, 0.37854886, 0.26322541, 0.19765494,\n",
       "       0.09713123, 0.04695418, 0.135742  , 0.23359413, 0.08986918,\n",
       "       0.04184424, 0.04940313, 0.13175583, 0.39503424, 0.39967771,\n",
       "       0.32033586, 0.2493056 , 0.19422005, 0.13030342, 0.24630537,\n",
       "       0.20717512, 0.11291691, 0.08269194, 0.0879185 , 0.18269618,\n",
       "       0.42225897])"
      ]
     },
     "metadata": {},
     "output_type": "display_data"
    },
    {
     "data": {
      "text/plain": [
       "[0.7197894518059638,\n",
       " 0.7388829192546079,\n",
       " 0.7518158291172194,\n",
       " 0.7605759015327886,\n",
       " 0.7665095134995638,\n",
       " 0.7705286299294328,\n",
       " 0.9722070836563207,\n",
       " 1.0456842745092108,\n",
       " 0.9886760828641803,\n",
       " 0.8519011013813698,\n",
       " 0.6967491995296187,\n",
       " 0.574222495830857,\n",
       " 0.6608890832949168,\n",
       " 0.4882307939008749,\n",
       " 0.39122239727923236,\n",
       " 0.36325097077714363,\n",
       " 0.43818276051717975,\n",
       " 0.6952465696606387,\n",
       " 0.9118655296197404,\n",
       " 0.8689863434925016,\n",
       " 0.8266178091381078,\n",
       " 0.6722890444568136,\n",
       " 0.6226759560932221,\n",
       " 0.6982398716672886,\n",
       " 0.5403534388917982,\n",
       " 0.4329305817428752,\n",
       " 0.3853275076111205,\n",
       " 0.38659030286909724,\n",
       " 0.48236913384279156,\n",
       " 0.7897950666168427,\n",
       " 0.7333883134440098,\n",
       " 0.7242459468600547,\n",
       " 0.7049698280533985,\n",
       " 0.5742915321639062,\n",
       " 0.5507580959850618,\n",
       " 0.6609463600853132,\n",
       " 0.24119591416370414,\n",
       " 0.11170672428196157,\n",
       " 0.06300612909067833,\n",
       " 0.07732432675345532,\n",
       " 0.19565328074776772,\n",
       " 0.5282384602389942,\n",
       " 0.33142713065875423,\n",
       " 0.2310326772567466,\n",
       " 0.1288299615737398,\n",
       " 0.00034736857177761205,\n",
       " -0.05438753980113108,\n",
       " 0.04767619265574237,\n",
       " 0.08282240972855281,\n",
       " -0.06639553748328084,\n",
       " -0.13154313781111798,\n",
       " -0.14431374402812658,\n",
       " -0.05469798645154855,\n",
       " 0.24228201726649712,\n",
       " 0.3947550750539902,\n",
       " 0.2877837502313919,\n",
       " 0.19605119953845462,\n",
       " 0.0831911782423491,\n",
       " 0.03466262061998142,\n",
       " 0.12765776382833022,\n",
       " 0.2612740313680202,\n",
       " 0.11380868246033887,\n",
       " 0.05660920934016572,\n",
       " 0.050348055038466066,\n",
       " 0.13405711078617125,\n",
       " 0.4100627947072788]"
      ]
     },
     "metadata": {},
     "output_type": "display_data"
    },
    {
     "data": {
      "text/plain": [
       "'StateError: 0.1732331486573875'"
      ]
     },
     "metadata": {},
     "output_type": "display_data"
    },
    {
     "data": {
      "text/plain": [
       "array([0.95320428, 0.87633903, 0.80868258, 0.69517008, 0.514377  ,\n",
       "       0.26912235, 0.43262545])"
      ]
     },
     "metadata": {},
     "output_type": "display_data"
    },
    {
     "data": {
      "text/plain": [
       "array([0.37605713, 0.12948694, 0.09547078, 0.        , 0.07573764,\n",
       "       0.44766021])"
      ]
     },
     "metadata": {},
     "output_type": "display_data"
    },
    {
     "data": {
      "text/plain": [
       "array([0.68172706, 0.86784922, 0.91666553, 0.84359157, 0.720184  ,\n",
       "       0.62234103])"
      ]
     },
     "metadata": {},
     "output_type": "display_data"
    },
    {
     "data": {
      "text/plain": [
       "array([0.95320428, 0.87633903, 0.80868258, 0.69517008, 0.514377  ,\n",
       "       0.26912235, 0.43262545, 0.37605713, 0.12948694, 0.09547078,\n",
       "       0.        , 0.07573764, 0.44766021])"
      ]
     },
     "metadata": {},
     "output_type": "display_data"
    },
    {
     "data": {
      "text/plain": [
       "array([0.61247886, 0.73613982, 0.91298628, 0.80454802, 0.79533922,\n",
       "       0.97763578])"
      ]
     },
     "metadata": {},
     "output_type": "display_data"
    },
    {
     "data": {
      "text/plain": [
       "array([0.52486481, 0.59212174, 0.70545965, 0.88599529, 1.13089502,\n",
       "       0.9675486 ])"
      ]
     },
     "metadata": {},
     "output_type": "display_data"
    },
    {
     "data": {
      "text/plain": [
       "array([0.95320428, 0.87633903, 0.80868258, 0.69517008, 0.514377  ,\n",
       "       0.26912235, 0.43262545, 0.37605713, 0.12948694, 0.09547078,\n",
       "       0.        , 0.07573764, 0.44766021, 0.61247886, 0.73613982,\n",
       "       0.91298628, 0.80454802, 0.79533922, 0.97763578])"
      ]
     },
     "metadata": {},
     "output_type": "display_data"
    },
    {
     "data": {
      "text/plain": [
       "array([0.94324375, 0.63954144, 0.56831423, 0.47603834, 0.49126104,\n",
       "       0.87897012])"
      ]
     },
     "metadata": {},
     "output_type": "display_data"
    },
    {
     "data": {
      "text/plain": [
       "array([0.98395091, 0.81894441, 0.77146985, 0.64829461, 0.62062846,\n",
       "       0.78408651])"
      ]
     },
     "metadata": {},
     "output_type": "display_data"
    },
    {
     "data": {
      "text/plain": [
       "array([0.95320428, 0.87633903, 0.80868258, 0.69517008, 0.514377  ,\n",
       "       0.26912235, 0.43262545, 0.37605713, 0.12948694, 0.09547078,\n",
       "       0.        , 0.07573764, 0.44766021, 0.61247886, 0.73613982,\n",
       "       0.91298628, 0.80454802, 0.79533922, 0.97763578, 0.94324375,\n",
       "       0.63954144, 0.56831423, 0.47603834, 0.49126104, 0.87897012])"
      ]
     },
     "metadata": {},
     "output_type": "display_data"
    },
    {
     "data": {
      "text/plain": [
       "array([0.96072167, 1.        , 0.88442022, 0.85566623, 0.7968427 ,\n",
       "       0.95827852])"
      ]
     },
     "metadata": {},
     "output_type": "display_data"
    },
    {
     "data": {
      "text/plain": [
       "array([0.92348957, 0.91102929, 0.9329036 , 0.70011807, 0.56052307,\n",
       "       0.60421066])"
      ]
     },
     "metadata": {},
     "output_type": "display_data"
    },
    {
     "data": {
      "text/plain": [
       "array([0.95320428, 0.87633903, 0.80868258, 0.69517008, 0.514377  ,\n",
       "       0.26912235, 0.43262545, 0.37605713, 0.12948694, 0.09547078,\n",
       "       0.        , 0.07573764, 0.44766021, 0.61247886, 0.73613982,\n",
       "       0.91298628, 0.80454802, 0.79533922, 0.97763578, 0.94324375,\n",
       "       0.63954144, 0.56831423, 0.47603834, 0.49126104, 0.87897012,\n",
       "       0.96072167, 1.        , 0.88442022, 0.85566623, 0.7968427 ,\n",
       "       0.95827852])"
      ]
     },
     "metadata": {},
     "output_type": "display_data"
    },
    {
     "data": {
      "text/plain": [
       "array([0.8767149 , 0.68370607, 0.6393535 , 0.47603834, 0.50253712,\n",
       "       0.8767149 ])"
      ]
     },
     "metadata": {},
     "output_type": "display_data"
    },
    {
     "data": {
      "text/plain": [
       "array([0.8424277 , 0.50992582, 0.37540754, 0.23553387, 0.19865036,\n",
       "       0.48380985])"
      ]
     },
     "metadata": {},
     "output_type": "display_data"
    },
    {
     "data": {
      "text/plain": [
       "array([0.95320428, 0.87633903, 0.80868258, 0.69517008, 0.514377  ,\n",
       "       0.26912235, 0.43262545, 0.37605713, 0.12948694, 0.09547078,\n",
       "       0.        , 0.07573764, 0.44766021, 0.61247886, 0.73613982,\n",
       "       0.91298628, 0.80454802, 0.79533922, 0.97763578, 0.94324375,\n",
       "       0.63954144, 0.56831423, 0.47603834, 0.49126104, 0.87897012,\n",
       "       0.96072167, 1.        , 0.88442022, 0.85566623, 0.7968427 ,\n",
       "       0.95827852, 0.8767149 , 0.68370607, 0.6393535 , 0.47603834,\n",
       "       0.50253712, 0.8767149 ])"
      ]
     },
     "metadata": {},
     "output_type": "display_data"
    },
    {
     "data": {
      "text/plain": [
       "array([0.88855478, 0.74666416, 0.67975944, 0.55816576, 0.55929337,\n",
       "       0.70757376])"
      ]
     },
     "metadata": {},
     "output_type": "display_data"
    },
    {
     "data": {
      "text/plain": [
       "array([0.99621461, 1.06102268, 1.11770672, 1.00606736, 0.95589263,\n",
       "       1.09189555])"
      ]
     },
     "metadata": {},
     "output_type": "display_data"
    },
    {
     "data": {
      "text/plain": [
       "array([0.95320428, 0.87633903, 0.80868258, 0.69517008, 0.514377  ,\n",
       "       0.26912235, 0.43262545, 0.37605713, 0.12948694, 0.09547078,\n",
       "       0.        , 0.07573764, 0.44766021, 0.61247886, 0.73613982,\n",
       "       0.91298628, 0.80454802, 0.79533922, 0.97763578, 0.94324375,\n",
       "       0.63954144, 0.56831423, 0.47603834, 0.49126104, 0.87897012,\n",
       "       0.96072167, 1.        , 0.88442022, 0.85566623, 0.7968427 ,\n",
       "       0.95827852, 0.8767149 , 0.68370607, 0.6393535 , 0.47603834,\n",
       "       0.50253712, 0.8767149 , 0.88855478, 0.74666416, 0.67975944,\n",
       "       0.55816576, 0.55929337, 0.70757376])"
      ]
     },
     "metadata": {},
     "output_type": "display_data"
    },
    {
     "data": {
      "text/plain": [
       "array([0.62958091, 0.33865815, 0.28077429, 0.21405751, 0.17985341,\n",
       "       0.49990603])"
      ]
     },
     "metadata": {},
     "output_type": "display_data"
    },
    {
     "data": {
      "text/plain": [
       "array([0.64723625, 0.43738535, 0.40185709, 0.29801487, 0.34790987,\n",
       "       0.71507113])"
      ]
     },
     "metadata": {},
     "output_type": "display_data"
    },
    {
     "data": {
      "text/plain": [
       "array([0.95320428, 0.87633903, 0.80868258, 0.69517008, 0.514377  ,\n",
       "       0.26912235, 0.43262545, 0.37605713, 0.12948694, 0.09547078,\n",
       "       0.        , 0.07573764, 0.44766021, 0.61247886, 0.73613982,\n",
       "       0.91298628, 0.80454802, 0.79533922, 0.97763578, 0.94324375,\n",
       "       0.63954144, 0.56831423, 0.47603834, 0.49126104, 0.87897012,\n",
       "       0.96072167, 1.        , 0.88442022, 0.85566623, 0.7968427 ,\n",
       "       0.95827852, 0.8767149 , 0.68370607, 0.6393535 , 0.47603834,\n",
       "       0.50253712, 0.8767149 , 0.88855478, 0.74666416, 0.67975944,\n",
       "       0.55816576, 0.55929337, 0.70757376, 0.62958091, 0.33865815,\n",
       "       0.28077429, 0.21405751, 0.17985341, 0.49990603])"
      ]
     },
     "metadata": {},
     "output_type": "display_data"
    },
    {
     "data": {
      "text/plain": [
       "array([0.52339786, 0.48374366, 0.63916557, 0.45141891, 0.37248637,\n",
       "       0.47415899])"
      ]
     },
     "metadata": {},
     "output_type": "display_data"
    },
    {
     "data": {
      "text/plain": [
       "array([0.56895075, 0.59245781, 0.54217   , 0.53595115, 0.53875706,\n",
       "       0.72031448])"
      ]
     },
     "metadata": {},
     "output_type": "display_data"
    },
    {
     "data": {
      "text/plain": [
       "array([0.95320428, 0.87633903, 0.80868258, 0.69517008, 0.514377  ,\n",
       "       0.26912235, 0.43262545, 0.37605713, 0.12948694, 0.09547078,\n",
       "       0.        , 0.07573764, 0.44766021, 0.61247886, 0.73613982,\n",
       "       0.91298628, 0.80454802, 0.79533922, 0.97763578, 0.94324375,\n",
       "       0.63954144, 0.56831423, 0.47603834, 0.49126104, 0.87897012,\n",
       "       0.96072167, 1.        , 0.88442022, 0.85566623, 0.7968427 ,\n",
       "       0.95827852, 0.8767149 , 0.68370607, 0.6393535 , 0.47603834,\n",
       "       0.50253712, 0.8767149 , 0.88855478, 0.74666416, 0.67975944,\n",
       "       0.55816576, 0.55929337, 0.70757376, 0.62958091, 0.33865815,\n",
       "       0.28077429, 0.21405751, 0.17985341, 0.49990603, 0.52339786,\n",
       "       0.48374366, 0.63916557, 0.45141891, 0.37248637, 0.47415899])"
      ]
     },
     "metadata": {},
     "output_type": "display_data"
    },
    {
     "data": {
      "text/plain": [
       "array([0.59706822, 0.32663033, 0.32475099, 0.25277204, 0.25577899,\n",
       "       0.59612855])"
      ]
     },
     "metadata": {},
     "output_type": "display_data"
    },
    {
     "data": {
      "text/plain": [
       "array([0.43881487, 0.21221247, 0.19431038, 0.14081562, 0.18176993,\n",
       "       0.56044489])"
      ]
     },
     "metadata": {},
     "output_type": "display_data"
    },
    {
     "data": {
      "text/plain": [
       "array([0.95320428, 0.87633903, 0.80868258, 0.69517008, 0.514377  ,\n",
       "       0.26912235, 0.43262545, 0.37605713, 0.12948694, 0.09547078,\n",
       "       0.        , 0.07573764, 0.44766021, 0.61247886, 0.73613982,\n",
       "       0.91298628, 0.80454802, 0.79533922, 0.97763578, 0.94324375,\n",
       "       0.63954144, 0.56831423, 0.47603834, 0.49126104, 0.87897012,\n",
       "       0.96072167, 1.        , 0.88442022, 0.85566623, 0.7968427 ,\n",
       "       0.95827852, 0.8767149 , 0.68370607, 0.6393535 , 0.47603834,\n",
       "       0.50253712, 0.8767149 , 0.88855478, 0.74666416, 0.67975944,\n",
       "       0.55816576, 0.55929337, 0.70757376, 0.62958091, 0.33865815,\n",
       "       0.28077429, 0.21405751, 0.17985341, 0.49990603, 0.52339786,\n",
       "       0.48374366, 0.63916557, 0.45141891, 0.37248637, 0.47415899,\n",
       "       0.59706822, 0.32663033, 0.32475099, 0.25277204, 0.25577899,\n",
       "       0.59612855])"
      ]
     },
     "metadata": {},
     "output_type": "display_data"
    },
    {
     "data": {
      "text/plain": [
       "array([0.67863184, 0.71302387, 0.72166886, 0.59669235, 0.46664161,\n",
       "       0.61642548])"
      ]
     },
     "metadata": {},
     "output_type": "display_data"
    },
    {
     "data": {
      "text/plain": [
       "array([0.64455268, 0.62262338, 0.66519478, 0.54976134, 0.50058373,\n",
       "       0.63101964])"
      ]
     },
     "metadata": {},
     "output_type": "display_data"
    },
    {
     "data": {
      "text/plain": [
       "array([0.95320428, 0.87633903, 0.80868258, 0.69517008, 0.514377  ,\n",
       "       0.26912235, 0.43262545, 0.37605713, 0.12948694, 0.09547078,\n",
       "       0.        , 0.07573764, 0.44766021, 0.61247886, 0.73613982,\n",
       "       0.91298628, 0.80454802, 0.79533922, 0.97763578, 0.94324375,\n",
       "       0.63954144, 0.56831423, 0.47603834, 0.49126104, 0.87897012,\n",
       "       0.96072167, 1.        , 0.88442022, 0.85566623, 0.7968427 ,\n",
       "       0.95827852, 0.8767149 , 0.68370607, 0.6393535 , 0.47603834,\n",
       "       0.50253712, 0.8767149 , 0.88855478, 0.74666416, 0.67975944,\n",
       "       0.55816576, 0.55929337, 0.70757376, 0.62958091, 0.33865815,\n",
       "       0.28077429, 0.21405751, 0.17985341, 0.49990603, 0.52339786,\n",
       "       0.48374366, 0.63916557, 0.45141891, 0.37248637, 0.47415899,\n",
       "       0.59706822, 0.32663033, 0.32475099, 0.25277204, 0.25577899,\n",
       "       0.59612855, 0.67863184, 0.71302387, 0.72166886, 0.59669235,\n",
       "       0.46664161, 0.61642548])"
      ]
     },
     "metadata": {},
     "output_type": "display_data"
    },
    {
     "data": {
      "text/plain": [
       "array([0.53974817, 0.30501785, 0.31967675, 0.21048675, 0.27194136,\n",
       "       0.53035144])"
      ]
     },
     "metadata": {},
     "output_type": "display_data"
    },
    {
     "data": {
      "text/plain": [
       "array([0.6235011 , 0.39663337, 0.38158952, 0.31091697, 0.34372969,\n",
       "       0.69880561])"
      ]
     },
     "metadata": {},
     "output_type": "display_data"
    },
    {
     "data": {
      "text/plain": [
       "array([0.37605713, 0.12948694, 0.09547078, 0.        , 0.07573764,\n",
       "       0.44766021, 0.61247886, 0.73613982, 0.91298628, 0.80454802,\n",
       "       0.79533922, 0.97763578, 0.94324375, 0.63954144, 0.56831423,\n",
       "       0.47603834, 0.49126104, 0.87897012, 0.96072167, 1.        ,\n",
       "       0.88442022, 0.85566623, 0.7968427 , 0.95827852, 0.8767149 ,\n",
       "       0.68370607, 0.6393535 , 0.47603834, 0.50253712, 0.8767149 ,\n",
       "       0.88855478, 0.74666416, 0.67975944, 0.55816576, 0.55929337,\n",
       "       0.70757376, 0.62958091, 0.33865815, 0.28077429, 0.21405751,\n",
       "       0.17985341, 0.49990603, 0.52339786, 0.48374366, 0.63916557,\n",
       "       0.45141891, 0.37248637, 0.47415899, 0.59706822, 0.32663033,\n",
       "       0.32475099, 0.25277204, 0.25577899, 0.59612855, 0.67863184,\n",
       "       0.71302387, 0.72166886, 0.59669235, 0.46664161, 0.61642548,\n",
       "       0.53974817, 0.30501785, 0.31967675, 0.21048675, 0.27194136,\n",
       "       0.53035144])"
      ]
     },
     "metadata": {},
     "output_type": "display_data"
    },
    {
     "data": {
      "text/plain": [
       "[0.6817270582429185,\n",
       " 0.8678492230808432,\n",
       " 0.9166655322587811,\n",
       " 0.8435915680715802,\n",
       " 0.72018399652653,\n",
       " 0.6223410260929969,\n",
       " 0.5248648135374486,\n",
       " 0.5921217370106864,\n",
       " 0.7054596534674537,\n",
       " 0.8859952948106281,\n",
       " 1.1308950153680042,\n",
       " 0.9675486014800223,\n",
       " 0.9839509069132041,\n",
       " 0.8189444058357263,\n",
       " 0.7714698488095153,\n",
       " 0.6482946131037831,\n",
       " 0.6206284637178388,\n",
       " 0.7840865095572443,\n",
       " 0.923489569923811,\n",
       " 0.9110292870734028,\n",
       " 0.9329035957297342,\n",
       " 0.7001180687345354,\n",
       " 0.5605230690133698,\n",
       " 0.6042106637484579,\n",
       " 0.8424277030631656,\n",
       " 0.5099258247070827,\n",
       " 0.37540754182763447,\n",
       " 0.23553387220640395,\n",
       " 0.19865035524346733,\n",
       " 0.4838098450193551,\n",
       " 0.9962146050879412,\n",
       " 1.0610226838854855,\n",
       " 1.1177067151082882,\n",
       " 1.0060673640159556,\n",
       " 0.9558926274205563,\n",
       " 1.091895550782447,\n",
       " 0.6472362483573536,\n",
       " 0.43738535173030996,\n",
       " 0.4018570941610124,\n",
       " 0.2980148665545393,\n",
       " 0.34790987189227546,\n",
       " 0.7150711288020173,\n",
       " 0.5689507465224591,\n",
       " 0.5924578076192754,\n",
       " 0.5421699965688314,\n",
       " 0.5359511460088345,\n",
       " 0.5387570550813243,\n",
       " 0.7203144849390073,\n",
       " 0.4388148714945291,\n",
       " 0.212212466596529,\n",
       " 0.1943103777559821,\n",
       " 0.14081561576444881,\n",
       " 0.18176993112302722,\n",
       " 0.5604448933629447,\n",
       " 0.6445526836637024,\n",
       " 0.6226233788766714,\n",
       " 0.6651947847590287,\n",
       " 0.5497613368727006,\n",
       " 0.5005837287030113,\n",
       " 0.6310196408438451,\n",
       " 0.6235011039873233,\n",
       " 0.39663337172092533,\n",
       " 0.38158951527209534,\n",
       " 0.3109169726527383,\n",
       " 0.34372969016908406,\n",
       " 0.6988056131770256]"
      ]
     },
     "metadata": {},
     "output_type": "display_data"
    },
    {
     "data": {
      "text/plain": [
       "'StateError: 0.26402052247195157'"
      ]
     },
     "metadata": {},
     "output_type": "display_data"
    },
    {
     "data": {
      "text/plain": [
       "array([0.82842503, 0.79726285, 0.70031894, 0.66245115, 0.56186685,\n",
       "       0.47334745, 0.56963126])"
      ]
     },
     "metadata": {},
     "output_type": "display_data"
    },
    {
     "data": {
      "text/plain": [
       "array([0.47917729, 0.33178437, 0.25168294, 0.20577624, 0.29356365,\n",
       "       0.65248422])"
      ]
     },
     "metadata": {},
     "output_type": "display_data"
    },
    {
     "data": {
      "text/plain": [
       "array([0.65970872, 0.66862587, 0.6735119 , 0.67618914, 0.6776561 ,\n",
       "       0.6784599 ])"
      ]
     },
     "metadata": {},
     "output_type": "display_data"
    },
    {
     "data": {
      "text/plain": [
       "array([0.82842503, 0.79726285, 0.70031894, 0.66245115, 0.56186685,\n",
       "       0.47334745, 0.56963126, 0.47917729, 0.33178437, 0.25168294,\n",
       "       0.20577624, 0.29356365, 0.65248422])"
      ]
     },
     "metadata": {},
     "output_type": "display_data"
    },
    {
     "data": {
      "text/plain": [
       "array([0.74689228, 0.82223573, 0.91774832, 0.85584225, 0.85224109,\n",
       "       0.97384416])"
      ]
     },
     "metadata": {},
     "output_type": "display_data"
    },
    {
     "data": {
      "text/plain": [
       "array([0.89182   , 0.96264924, 0.88619266, 0.72782183, 0.56309711,\n",
       "       0.44946555])"
      ]
     },
     "metadata": {},
     "output_type": "display_data"
    },
    {
     "data": {
      "text/plain": [
       "array([0.82842503, 0.79726285, 0.70031894, 0.66245115, 0.56186685,\n",
       "       0.47334745, 0.56963126, 0.47917729, 0.33178437, 0.25168294,\n",
       "       0.20577624, 0.29356365, 0.65248422, 0.74689228, 0.82223573,\n",
       "       0.91774832, 0.85584225, 0.85224109, 0.97384416])"
      ]
     },
     "metadata": {},
     "output_type": "display_data"
    },
    {
     "data": {
      "text/plain": [
       "array([0.96160281, 0.78219808, 0.67470557, 0.63074651, 0.64564788,\n",
       "       0.95666837])"
      ]
     },
     "metadata": {},
     "output_type": "display_data"
    },
    {
     "data": {
      "text/plain": [
       "array([0.83306159, 0.66566506, 0.49818702, 0.30898133, 0.30742854,\n",
       "       0.53310357])"
      ]
     },
     "metadata": {},
     "output_type": "display_data"
    },
    {
     "data": {
      "text/plain": [
       "array([0.82842503, 0.79726285, 0.70031894, 0.66245115, 0.56186685,\n",
       "       0.47334745, 0.56963126, 0.47917729, 0.33178437, 0.25168294,\n",
       "       0.20577624, 0.29356365, 0.65248422, 0.74689228, 0.82223573,\n",
       "       0.91774832, 0.85584225, 0.85224109, 0.97384416, 0.96160281,\n",
       "       0.78219808, 0.67470557, 0.63074651, 0.64564788, 0.95666837])"
      ]
     },
     "metadata": {},
     "output_type": "display_data"
    },
    {
     "data": {
      "text/plain": [
       "array([1.        , 0.92881325, 0.82867339, 0.66951623, 0.61025058,\n",
       "       0.69450871])"
      ]
     },
     "metadata": {},
     "output_type": "display_data"
    },
    {
     "data": {
      "text/plain": [
       "array([1.0003735 , 1.02321005, 1.06357181, 0.96050922, 0.91371958,\n",
       "       0.98592622])"
      ]
     },
     "metadata": {},
     "output_type": "display_data"
    },
    {
     "data": {
      "text/plain": [
       "array([0.82842503, 0.79726285, 0.70031894, 0.66245115, 0.56186685,\n",
       "       0.47334745, 0.56963126, 0.47917729, 0.33178437, 0.25168294,\n",
       "       0.20577624, 0.29356365, 0.65248422, 0.74689228, 0.82223573,\n",
       "       0.91774832, 0.85584225, 0.85224109, 0.97384416, 0.96160281,\n",
       "       0.78219808, 0.67470557, 0.63074651, 0.64564788, 0.95666837,\n",
       "       1.        , 0.92881325, 0.82867339, 0.66951623, 0.61025058,\n",
       "       0.69450871])"
      ]
     },
     "metadata": {},
     "output_type": "display_data"
    },
    {
     "data": {
      "text/plain": [
       "array([0.69599231, 0.46703397, 0.35647622, 0.30006666, 0.32611793,\n",
       "       0.6277793 ])"
      ]
     },
     "metadata": {},
     "output_type": "display_data"
    },
    {
     "data": {
      "text/plain": [
       "array([0.61984143, 0.46340311, 0.37606482, 0.33209622, 0.39665207,\n",
       "       0.72949634])"
      ]
     },
     "metadata": {},
     "output_type": "display_data"
    },
    {
     "data": {
      "text/plain": [
       "array([0.82842503, 0.79726285, 0.70031894, 0.66245115, 0.56186685,\n",
       "       0.47334745, 0.56963126, 0.47917729, 0.33178437, 0.25168294,\n",
       "       0.20577624, 0.29356365, 0.65248422, 0.74689228, 0.82223573,\n",
       "       0.91774832, 0.85584225, 0.85224109, 0.97384416, 0.96160281,\n",
       "       0.78219808, 0.67470557, 0.63074651, 0.64564788, 0.95666837,\n",
       "       1.        , 0.92881325, 0.82867339, 0.66951623, 0.61025058,\n",
       "       0.69450871, 0.69599231, 0.46703397, 0.35647622, 0.30006666,\n",
       "       0.32611793, 0.6277793 ])"
      ]
     },
     "metadata": {},
     "output_type": "display_data"
    },
    {
     "data": {
      "text/plain": [
       "array([0.61059697, 0.53210985, 0.44779943, 0.33839849, 0.25906174,\n",
       "       0.31326223])"
      ]
     },
     "metadata": {},
     "output_type": "display_data"
    },
    {
     "data": {
      "text/plain": [
       "array([0.70265749, 0.68381964, 0.64341536, 0.5489953 , 0.5421097 ,\n",
       "       0.66010153])"
      ]
     },
     "metadata": {},
     "output_type": "display_data"
    },
    {
     "data": {
      "text/plain": [
       "array([0.82842503, 0.79726285, 0.70031894, 0.66245115, 0.56186685,\n",
       "       0.47334745, 0.56963126, 0.47917729, 0.33178437, 0.25168294,\n",
       "       0.20577624, 0.29356365, 0.65248422, 0.74689228, 0.82223573,\n",
       "       0.91774832, 0.85584225, 0.85224109, 0.97384416, 0.96160281,\n",
       "       0.78219808, 0.67470557, 0.63074651, 0.64564788, 0.95666837,\n",
       "       1.        , 0.92881325, 0.82867339, 0.66951623, 0.61025058,\n",
       "       0.69450871, 0.69599231, 0.46703397, 0.35647622, 0.30006666,\n",
       "       0.32611793, 0.6277793 , 0.61059697, 0.53210985, 0.44779943,\n",
       "       0.33839849, 0.25906174, 0.31326223])"
      ]
     },
     "metadata": {},
     "output_type": "display_data"
    },
    {
     "data": {
      "text/plain": [
       "array([0.35448283, 0.15566056, 0.07001686, 0.        , 0.03727305,\n",
       "       0.34530018])"
      ]
     },
     "metadata": {},
     "output_type": "display_data"
    },
    {
     "data": {
      "text/plain": [
       "array([ 0.24593061,  0.07936444,  0.01089407, -0.01389989,  0.08377471,\n",
       "        0.44655956])"
      ]
     },
     "metadata": {},
     "output_type": "display_data"
    },
    {
     "data": {
      "text/plain": [
       "array([0.82842503, 0.79726285, 0.70031894, 0.66245115, 0.56186685,\n",
       "       0.47334745, 0.56963126, 0.47917729, 0.33178437, 0.25168294,\n",
       "       0.20577624, 0.29356365, 0.65248422, 0.74689228, 0.82223573,\n",
       "       0.91774832, 0.85584225, 0.85224109, 0.97384416, 0.96160281,\n",
       "       0.78219808, 0.67470557, 0.63074651, 0.64564788, 0.95666837,\n",
       "       1.        , 0.92881325, 0.82867339, 0.66951623, 0.61025058,\n",
       "       0.69450871, 0.69599231, 0.46703397, 0.35647622, 0.30006666,\n",
       "       0.32611793, 0.6277793 , 0.61059697, 0.53210985, 0.44779943,\n",
       "       0.33839849, 0.25906174, 0.31326223, 0.35448283, 0.15566056,\n",
       "       0.07001686, 0.        , 0.03727305, 0.34530018])"
      ]
     },
     "metadata": {},
     "output_type": "display_data"
    },
    {
     "data": {
      "text/plain": [
       "array([0.42149981, 0.39046181, 0.41267009, 0.32219652, 0.30318419,\n",
       "       0.43588487])"
      ]
     },
     "metadata": {},
     "output_type": "display_data"
    },
    {
     "data": {
      "text/plain": [
       "array([0.34759907, 0.28644075, 0.21546921, 0.11823422, 0.04691102,\n",
       "       0.09821842])"
      ]
     },
     "metadata": {},
     "output_type": "display_data"
    },
    {
     "data": {
      "text/plain": [
       "array([0.82842503, 0.79726285, 0.70031894, 0.66245115, 0.56186685,\n",
       "       0.47334745, 0.56963126, 0.47917729, 0.33178437, 0.25168294,\n",
       "       0.20577624, 0.29356365, 0.65248422, 0.74689228, 0.82223573,\n",
       "       0.91774832, 0.85584225, 0.85224109, 0.97384416, 0.96160281,\n",
       "       0.78219808, 0.67470557, 0.63074651, 0.64564788, 0.95666837,\n",
       "       1.        , 0.92881325, 0.82867339, 0.66951623, 0.61025058,\n",
       "       0.69450871, 0.69599231, 0.46703397, 0.35647622, 0.30006666,\n",
       "       0.32611793, 0.6277793 , 0.61059697, 0.53210985, 0.44779943,\n",
       "       0.33839849, 0.25906174, 0.31326223, 0.35448283, 0.15566056,\n",
       "       0.07001686, 0.        , 0.03727305, 0.34530018, 0.42149981,\n",
       "       0.39046181, 0.41267009, 0.32219652, 0.30318419, 0.43588487])"
      ]
     },
     "metadata": {},
     "output_type": "display_data"
    },
    {
     "data": {
      "text/plain": [
       "array([0.45204763, 0.27899559, 0.24531064, 0.21496543, 0.26492425,\n",
       "       0.56646798])"
      ]
     },
     "metadata": {},
     "output_type": "display_data"
    },
    {
     "data": {
      "text/plain": [
       "array([0.47839386, 0.30615415, 0.22025534, 0.16771687, 0.19575469,\n",
       "       0.49454308])"
      ]
     },
     "metadata": {},
     "output_type": "display_data"
    },
    {
     "data": {
      "text/plain": [
       "array([0.82842503, 0.79726285, 0.70031894, 0.66245115, 0.56186685,\n",
       "       0.47334745, 0.56963126, 0.47917729, 0.33178437, 0.25168294,\n",
       "       0.20577624, 0.29356365, 0.65248422, 0.74689228, 0.82223573,\n",
       "       0.91774832, 0.85584225, 0.85224109, 0.97384416, 0.96160281,\n",
       "       0.78219808, 0.67470557, 0.63074651, 0.64564788, 0.95666837,\n",
       "       1.        , 0.92881325, 0.82867339, 0.66951623, 0.61025058,\n",
       "       0.69450871, 0.69599231, 0.46703397, 0.35647622, 0.30006666,\n",
       "       0.32611793, 0.6277793 , 0.61059697, 0.53210985, 0.44779943,\n",
       "       0.33839849, 0.25906174, 0.31326223, 0.35448283, 0.15566056,\n",
       "       0.07001686, 0.        , 0.03727305, 0.34530018, 0.42149981,\n",
       "       0.39046181, 0.41267009, 0.32219652, 0.30318419, 0.43588487,\n",
       "       0.45204763, 0.27899559, 0.24531064, 0.21496543, 0.26492425,\n",
       "       0.56646798])"
      ]
     },
     "metadata": {},
     "output_type": "display_data"
    },
    {
     "data": {
      "text/plain": [
       "array([0.63481824, 0.59462374, 0.57420624, 0.5349202 , 0.47724272,\n",
       "       0.5591284 ])"
      ]
     },
     "metadata": {},
     "output_type": "display_data"
    },
    {
     "data": {
      "text/plain": [
       "array([0.60566204, 0.56454036, 0.54418528, 0.44334937, 0.39907604,\n",
       "       0.49624386])"
      ]
     },
     "metadata": {},
     "output_type": "display_data"
    },
    {
     "data": {
      "text/plain": [
       "array([0.82842503, 0.79726285, 0.70031894, 0.66245115, 0.56186685,\n",
       "       0.47334745, 0.56963126, 0.47917729, 0.33178437, 0.25168294,\n",
       "       0.20577624, 0.29356365, 0.65248422, 0.74689228, 0.82223573,\n",
       "       0.91774832, 0.85584225, 0.85224109, 0.97384416, 0.96160281,\n",
       "       0.78219808, 0.67470557, 0.63074651, 0.64564788, 0.95666837,\n",
       "       1.        , 0.92881325, 0.82867339, 0.66951623, 0.61025058,\n",
       "       0.69450871, 0.69599231, 0.46703397, 0.35647622, 0.30006666,\n",
       "       0.32611793, 0.6277793 , 0.61059697, 0.53210985, 0.44779943,\n",
       "       0.33839849, 0.25906174, 0.31326223, 0.35448283, 0.15566056,\n",
       "       0.07001686, 0.        , 0.03727305, 0.34530018, 0.42149981,\n",
       "       0.39046181, 0.41267009, 0.32219652, 0.30318419, 0.43588487,\n",
       "       0.45204763, 0.27899559, 0.24531064, 0.21496543, 0.26492425,\n",
       "       0.56646798, 0.63481824, 0.59462374, 0.57420624, 0.5349202 ,\n",
       "       0.47724272, 0.5591284 ])"
      ]
     },
     "metadata": {},
     "output_type": "display_data"
    },
    {
     "data": {
      "text/plain": [
       "array([0.6359816 , 0.51252238, 0.44081278, 0.42233638, 0.45258356,\n",
       "       0.70780884])"
      ]
     },
     "metadata": {},
     "output_type": "display_data"
    },
    {
     "data": {
      "text/plain": [
       "array([0.56468004, 0.36803182, 0.2962537 , 0.24994171, 0.28659275,\n",
       "       0.5787686 ])"
      ]
     },
     "metadata": {},
     "output_type": "display_data"
    },
    {
     "data": {
      "text/plain": [
       "array([0.47917729, 0.33178437, 0.25168294, 0.20577624, 0.29356365,\n",
       "       0.65248422, 0.74689228, 0.82223573, 0.91774832, 0.85584225,\n",
       "       0.85224109, 0.97384416, 0.96160281, 0.78219808, 0.67470557,\n",
       "       0.63074651, 0.64564788, 0.95666837, 1.        , 0.92881325,\n",
       "       0.82867339, 0.66951623, 0.61025058, 0.69450871, 0.69599231,\n",
       "       0.46703397, 0.35647622, 0.30006666, 0.32611793, 0.6277793 ,\n",
       "       0.61059697, 0.53210985, 0.44779943, 0.33839849, 0.25906174,\n",
       "       0.31326223, 0.35448283, 0.15566056, 0.07001686, 0.        ,\n",
       "       0.03727305, 0.34530018, 0.42149981, 0.39046181, 0.41267009,\n",
       "       0.32219652, 0.30318419, 0.43588487, 0.45204763, 0.27899559,\n",
       "       0.24531064, 0.21496543, 0.26492425, 0.56646798, 0.63481824,\n",
       "       0.59462374, 0.57420624, 0.5349202 , 0.47724272, 0.5591284 ,\n",
       "       0.6359816 , 0.51252238, 0.44081278, 0.42233638, 0.45258356,\n",
       "       0.70780884])"
      ]
     },
     "metadata": {},
     "output_type": "display_data"
    },
    {
     "data": {
      "text/plain": [
       "[0.6597087156078792,\n",
       " 0.6686258674788879,\n",
       " 0.6735119037752997,\n",
       " 0.6761891432162328,\n",
       " 0.6776561014190098,\n",
       " 0.6784599019068529,\n",
       " 0.891820001431519,\n",
       " 0.9626492353032408,\n",
       " 0.8861926551298447,\n",
       " 0.7278218268884364,\n",
       " 0.563097113682894,\n",
       " 0.449465549991306,\n",
       " 0.8330615932788221,\n",
       " 0.6656650588237844,\n",
       " 0.49818702236228796,\n",
       " 0.30898132601830436,\n",
       " 0.30742854035804773,\n",
       " 0.533103570142718,\n",
       " 1.000373501670574,\n",
       " 1.0232100524364716,\n",
       " 1.0635718100729217,\n",
       " 0.9605092210405977,\n",
       " 0.9137195848568395,\n",
       " 0.9859262152612286,\n",
       " 0.6198414297795259,\n",
       " 0.46340310654049943,\n",
       " 0.37606481530643876,\n",
       " 0.3320962178757069,\n",
       " 0.3966520675566815,\n",
       " 0.7294963417531447,\n",
       " 0.702657490532442,\n",
       " 0.683819641864115,\n",
       " 0.6434153617034173,\n",
       " 0.5489953002672583,\n",
       " 0.5421097005196183,\n",
       " 0.6601015299292369,\n",
       " 0.24593061431150995,\n",
       " 0.07936443935180651,\n",
       " 0.010894072451494508,\n",
       " -0.013899891009255252,\n",
       " 0.08377470516557614,\n",
       " 0.4465595646479345,\n",
       " 0.3475990706528193,\n",
       " 0.28644074708084727,\n",
       " 0.21546921171579803,\n",
       " 0.11823421789463862,\n",
       " 0.046911017248940826,\n",
       " 0.09821842124904509,\n",
       " 0.47839386200168554,\n",
       " 0.30615415336853385,\n",
       " 0.2202553414443519,\n",
       " 0.16771686546405967,\n",
       " 0.19575468998327863,\n",
       " 0.4945430794586879,\n",
       " 0.605662036202123,\n",
       " 0.5645403569240102,\n",
       " 0.5441852809269312,\n",
       " 0.44334937078788267,\n",
       " 0.3990760369657113,\n",
       " 0.49624386316767394,\n",
       " 0.5646800435168257,\n",
       " 0.3680318170825816,\n",
       " 0.2962536999416502,\n",
       " 0.24994171078924332,\n",
       " 0.28659274588429406,\n",
       " 0.5787686020183777]"
      ]
     },
     "metadata": {},
     "output_type": "display_data"
    },
    {
     "data": {
      "text/plain": [
       "'StateError: 0.20218202100003596'"
      ]
     },
     "metadata": {},
     "output_type": "display_data"
    },
    {
     "data": {
      "text/plain": [
       "array([0.99072516, 0.94988362, 0.85942704, 0.78782453, 0.66535363,\n",
       "       0.59561325, 0.71566697])"
      ]
     },
     "metadata": {},
     "output_type": "display_data"
    },
    {
     "data": {
      "text/plain": [
       "array([0.57854969, 0.48565801, 0.44127126, 0.41502238, 0.49828111,\n",
       "       0.85176365])"
      ]
     },
     "metadata": {},
     "output_type": "display_data"
    },
    {
     "data": {
      "text/plain": [
       "array([0.8160707 , 0.82296897, 0.82733133, 0.83009004, 0.8318346 ,\n",
       "       0.83293784])"
      ]
     },
     "metadata": {},
     "output_type": "display_data"
    },
    {
     "data": {
      "text/plain": [
       "array([0.99072516, 0.94988362, 0.85942704, 0.78782453, 0.66535363,\n",
       "       0.59561325, 0.71566697, 0.57854969, 0.48565801, 0.44127126,\n",
       "       0.41502238, 0.49828111, 0.85176365])"
      ]
     },
     "metadata": {},
     "output_type": "display_data"
    },
    {
     "data": {
      "text/plain": [
       "array([0.92377798, 0.94433303, 1.        , 0.87231871, 0.77967771,\n",
       "       0.88338406])"
      ]
     },
     "metadata": {},
     "output_type": "display_data"
    },
    {
     "data": {
      "text/plain": [
       "array([0.97867114, 1.04259417, 1.0365331 , 0.96803758, 0.85638651,\n",
       "       0.72769153])"
      ]
     },
     "metadata": {},
     "output_type": "display_data"
    },
    {
     "data": {
      "text/plain": [
       "array([0.99072516, 0.94988362, 0.85942704, 0.78782453, 0.66535363,\n",
       "       0.59561325, 0.71566697, 0.57854969, 0.48565801, 0.44127126,\n",
       "       0.41502238, 0.49828111, 0.85176365, 0.92377798, 0.94433303,\n",
       "       1.        , 0.87231871, 0.77967771, 0.88338406])"
      ]
     },
     "metadata": {},
     "output_type": "display_data"
    },
    {
     "data": {
      "text/plain": [
       "array([0.88628469, 0.69102954, 0.55727842, 0.49811996, 0.54320501,\n",
       "       0.86644584])"
      ]
     },
     "metadata": {},
     "output_type": "display_data"
    },
    {
     "data": {
      "text/plain": [
       "array([0.72304788, 0.58950417, 0.50360831, 0.44719033, 0.50261393,\n",
       "       0.80910092])"
      ]
     },
     "metadata": {},
     "output_type": "display_data"
    },
    {
     "data": {
      "text/plain": [
       "array([0.99072516, 0.94988362, 0.85942704, 0.78782453, 0.66535363,\n",
       "       0.59561325, 0.71566697, 0.57854969, 0.48565801, 0.44127126,\n",
       "       0.41502238, 0.49828111, 0.85176365, 0.92377798, 0.94433303,\n",
       "       1.        , 0.87231871, 0.77967771, 0.88338406, 0.88628469,\n",
       "       0.69102954, 0.55727842, 0.49811996, 0.54320501, 0.86644584])"
      ]
     },
     "metadata": {},
     "output_type": "display_data"
    },
    {
     "data": {
      "text/plain": [
       "array([0.89242614, 0.83076097, 0.73375112, 0.58863026, 0.51713518,\n",
       "       0.5915846 ])"
      ]
     },
     "metadata": {},
     "output_type": "display_data"
    },
    {
     "data": {
      "text/plain": [
       "array([0.93346826, 0.94175016, 0.97113223, 0.8598045 , 0.77907009,\n",
       "       0.85372366])"
      ]
     },
     "metadata": {},
     "output_type": "display_data"
    },
    {
     "data": {
      "text/plain": [
       "array([0.99072516, 0.94988362, 0.85942704, 0.78782453, 0.66535363,\n",
       "       0.59561325, 0.71566697, 0.57854969, 0.48565801, 0.44127126,\n",
       "       0.41502238, 0.49828111, 0.85176365, 0.92377798, 0.94433303,\n",
       "       1.        , 0.87231871, 0.77967771, 0.88338406, 0.88628469,\n",
       "       0.69102954, 0.55727842, 0.49811996, 0.54320501, 0.86644584,\n",
       "       0.89242614, 0.83076097, 0.73375112, 0.58863026, 0.51713518,\n",
       "       0.5915846 ])"
      ]
     },
     "metadata": {},
     "output_type": "display_data"
    },
    {
     "data": {
      "text/plain": [
       "array([0.5228111 , 0.36343778, 0.29256938, 0.26626679, 0.30854073,\n",
       "       0.61806625])"
      ]
     },
     "metadata": {},
     "output_type": "display_data"
    },
    {
     "data": {
      "text/plain": [
       "array([0.48413812, 0.40797875, 0.38112146, 0.37407754, 0.46754533,\n",
       "       0.81900068])"
      ]
     },
     "metadata": {},
     "output_type": "display_data"
    },
    {
     "data": {
      "text/plain": [
       "array([0.99072516, 0.94988362, 0.85942704, 0.78782453, 0.66535363,\n",
       "       0.59561325, 0.71566697, 0.57854969, 0.48565801, 0.44127126,\n",
       "       0.41502238, 0.49828111, 0.85176365, 0.92377798, 0.94433303,\n",
       "       1.        , 0.87231871, 0.77967771, 0.88338406, 0.88628469,\n",
       "       0.69102954, 0.55727842, 0.49811996, 0.54320501, 0.86644584,\n",
       "       0.89242614, 0.83076097, 0.73375112, 0.58863026, 0.51713518,\n",
       "       0.5915846 , 0.5228111 , 0.36343778, 0.29256938, 0.26626679,\n",
       "       0.30854073, 0.61806625])"
      ]
     },
     "metadata": {},
     "output_type": "display_data"
    },
    {
     "data": {
      "text/plain": [
       "array([0.56880931, 0.44250671, 0.36168308, 0.26879141, 0.25061773,\n",
       "       0.33747538])"
      ]
     },
     "metadata": {},
     "output_type": "display_data"
    },
    {
     "data": {
      "text/plain": [
       "array([0.73767771, 0.78864897, 0.82961219, 0.70735426, 0.63157147,\n",
       "       0.70104205])"
      ]
     },
     "metadata": {},
     "output_type": "display_data"
    },
    {
     "data": {
      "text/plain": [
       "array([0.99072516, 0.94988362, 0.85942704, 0.78782453, 0.66535363,\n",
       "       0.59561325, 0.71566697, 0.57854969, 0.48565801, 0.44127126,\n",
       "       0.41502238, 0.49828111, 0.85176365, 0.92377798, 0.94433303,\n",
       "       1.        , 0.87231871, 0.77967771, 0.88338406, 0.88628469,\n",
       "       0.69102954, 0.55727842, 0.49811996, 0.54320501, 0.86644584,\n",
       "       0.89242614, 0.83076097, 0.73375112, 0.58863026, 0.51713518,\n",
       "       0.5915846 , 0.5228111 , 0.36343778, 0.29256938, 0.26626679,\n",
       "       0.30854073, 0.61806625, 0.56880931, 0.44250671, 0.36168308,\n",
       "       0.26879141, 0.25061773, 0.33747538])"
      ]
     },
     "metadata": {},
     "output_type": "display_data"
    },
    {
     "data": {
      "text/plain": [
       "array([0.24583706, 0.11217547, 0.05471799, 0.        , 0.03554163,\n",
       "       0.32003581])"
      ]
     },
     "metadata": {},
     "output_type": "display_data"
    },
    {
     "data": {
      "text/plain": [
       "array([0.20527752, 0.10228347, 0.05841406, 0.03527848, 0.10819977,\n",
       "       0.4449254 ])"
      ]
     },
     "metadata": {},
     "output_type": "display_data"
    },
    {
     "data": {
      "text/plain": [
       "array([0.99072516, 0.94988362, 0.85942704, 0.78782453, 0.66535363,\n",
       "       0.59561325, 0.71566697, 0.57854969, 0.48565801, 0.44127126,\n",
       "       0.41502238, 0.49828111, 0.85176365, 0.92377798, 0.94433303,\n",
       "       1.        , 0.87231871, 0.77967771, 0.88338406, 0.88628469,\n",
       "       0.69102954, 0.55727842, 0.49811996, 0.54320501, 0.86644584,\n",
       "       0.89242614, 0.83076097, 0.73375112, 0.58863026, 0.51713518,\n",
       "       0.5915846 , 0.5228111 , 0.36343778, 0.29256938, 0.26626679,\n",
       "       0.30854073, 0.61806625, 0.56880931, 0.44250671, 0.36168308,\n",
       "       0.26879141, 0.25061773, 0.33747538, 0.24583706, 0.11217547,\n",
       "       0.05471799, 0.        , 0.03554163, 0.32003581])"
      ]
     },
     "metadata": {},
     "output_type": "display_data"
    },
    {
     "data": {
      "text/plain": [
       "array([0.34266786, 0.26230976, 0.25047449, 0.17196061, 0.14164727,\n",
       "       0.27222919])"
      ]
     },
     "metadata": {},
     "output_type": "display_data"
    },
    {
     "data": {
      "text/plain": [
       "array([0.31197473, 0.24295966, 0.19148799, 0.07483933, 0.01685567,\n",
       "       0.10708483])"
      ]
     },
     "metadata": {},
     "output_type": "display_data"
    },
    {
     "data": {
      "text/plain": [
       "array([0.99072516, 0.94988362, 0.85942704, 0.78782453, 0.66535363,\n",
       "       0.59561325, 0.71566697, 0.57854969, 0.48565801, 0.44127126,\n",
       "       0.41502238, 0.49828111, 0.85176365, 0.92377798, 0.94433303,\n",
       "       1.        , 0.87231871, 0.77967771, 0.88338406, 0.88628469,\n",
       "       0.69102954, 0.55727842, 0.49811996, 0.54320501, 0.86644584,\n",
       "       0.89242614, 0.83076097, 0.73375112, 0.58863026, 0.51713518,\n",
       "       0.5915846 , 0.5228111 , 0.36343778, 0.29256938, 0.26626679,\n",
       "       0.30854073, 0.61806625, 0.56880931, 0.44250671, 0.36168308,\n",
       "       0.26879141, 0.25061773, 0.33747538, 0.24583706, 0.11217547,\n",
       "       0.05471799, 0.        , 0.03554163, 0.32003581, 0.34266786,\n",
       "       0.26230976, 0.25047449, 0.17196061, 0.14164727, 0.27222919])"
      ]
     },
     "metadata": {},
     "output_type": "display_data"
    },
    {
     "data": {
      "text/plain": [
       "array([0.22639212, 0.09702775, 0.09887198, 0.05973142, 0.12671441,\n",
       "       0.43881826])"
      ]
     },
     "metadata": {},
     "output_type": "display_data"
    },
    {
     "data": {
      "text/plain": [
       "array([ 0.25699881,  0.0888478 , -0.01645021, -0.07113861, -0.03004502,\n",
       "        0.27402036])"
      ]
     },
     "metadata": {},
     "output_type": "display_data"
    },
    {
     "data": {
      "text/plain": [
       "array([0.99072516, 0.94988362, 0.85942704, 0.78782453, 0.66535363,\n",
       "       0.59561325, 0.71566697, 0.57854969, 0.48565801, 0.44127126,\n",
       "       0.41502238, 0.49828111, 0.85176365, 0.92377798, 0.94433303,\n",
       "       1.        , 0.87231871, 0.77967771, 0.88338406, 0.88628469,\n",
       "       0.69102954, 0.55727842, 0.49811996, 0.54320501, 0.86644584,\n",
       "       0.89242614, 0.83076097, 0.73375112, 0.58863026, 0.51713518,\n",
       "       0.5915846 , 0.5228111 , 0.36343778, 0.29256938, 0.26626679,\n",
       "       0.30854073, 0.61806625, 0.56880931, 0.44250671, 0.36168308,\n",
       "       0.26879141, 0.25061773, 0.33747538, 0.24583706, 0.11217547,\n",
       "       0.05471799, 0.        , 0.03554163, 0.32003581, 0.34266786,\n",
       "       0.26230976, 0.25047449, 0.17196061, 0.14164727, 0.27222919,\n",
       "       0.22639212, 0.09702775, 0.09887198, 0.05973142, 0.12671441,\n",
       "       0.43881826])"
      ]
     },
     "metadata": {},
     "output_type": "display_data"
    },
    {
     "data": {
      "text/plain": [
       "array([0.45496867, 0.4185855 , 0.41283796, 0.34354521, 0.29063563,\n",
       "       0.40202328])"
      ]
     },
     "metadata": {},
     "output_type": "display_data"
    },
    {
     "data": {
      "text/plain": [
       "array([0.4481499 , 0.37935249, 0.33953639, 0.23327392, 0.18270241,\n",
       "       0.2838925 ])"
      ]
     },
     "metadata": {},
     "output_type": "display_data"
    },
    {
     "data": {
      "text/plain": [
       "array([0.99072516, 0.94988362, 0.85942704, 0.78782453, 0.66535363,\n",
       "       0.59561325, 0.71566697, 0.57854969, 0.48565801, 0.44127126,\n",
       "       0.41502238, 0.49828111, 0.85176365, 0.92377798, 0.94433303,\n",
       "       1.        , 0.87231871, 0.77967771, 0.88338406, 0.88628469,\n",
       "       0.69102954, 0.55727842, 0.49811996, 0.54320501, 0.86644584,\n",
       "       0.89242614, 0.83076097, 0.73375112, 0.58863026, 0.51713518,\n",
       "       0.5915846 , 0.5228111 , 0.36343778, 0.29256938, 0.26626679,\n",
       "       0.30854073, 0.61806625, 0.56880931, 0.44250671, 0.36168308,\n",
       "       0.26879141, 0.25061773, 0.33747538, 0.24583706, 0.11217547,\n",
       "       0.05471799, 0.        , 0.03554163, 0.32003581, 0.34266786,\n",
       "       0.26230976, 0.25047449, 0.17196061, 0.14164727, 0.27222919,\n",
       "       0.22639212, 0.09702775, 0.09887198, 0.05973142, 0.12671441,\n",
       "       0.43881826, 0.45496867, 0.4185855 , 0.41283796, 0.34354521,\n",
       "       0.29063563, 0.40202328])"
      ]
     },
     "metadata": {},
     "output_type": "display_data"
    },
    {
     "data": {
      "text/plain": [
       "array([0.39496867, 0.25505819, 0.19113697, 0.15042077, 0.1887735 ,\n",
       "       0.45600716])"
      ]
     },
     "metadata": {},
     "output_type": "display_data"
    },
    {
     "data": {
      "text/plain": [
       "array([0.34096587, 0.20455524, 0.15267214, 0.1120246 , 0.16421465,\n",
       "       0.46769922])"
      ]
     },
     "metadata": {},
     "output_type": "display_data"
    },
    {
     "data": {
      "text/plain": [
       "array([0.57854969, 0.48565801, 0.44127126, 0.41502238, 0.49828111,\n",
       "       0.85176365, 0.92377798, 0.94433303, 1.        , 0.87231871,\n",
       "       0.77967771, 0.88338406, 0.88628469, 0.69102954, 0.55727842,\n",
       "       0.49811996, 0.54320501, 0.86644584, 0.89242614, 0.83076097,\n",
       "       0.73375112, 0.58863026, 0.51713518, 0.5915846 , 0.5228111 ,\n",
       "       0.36343778, 0.29256938, 0.26626679, 0.30854073, 0.61806625,\n",
       "       0.56880931, 0.44250671, 0.36168308, 0.26879141, 0.25061773,\n",
       "       0.33747538, 0.24583706, 0.11217547, 0.05471799, 0.        ,\n",
       "       0.03554163, 0.32003581, 0.34266786, 0.26230976, 0.25047449,\n",
       "       0.17196061, 0.14164727, 0.27222919, 0.22639212, 0.09702775,\n",
       "       0.09887198, 0.05973142, 0.12671441, 0.43881826, 0.45496867,\n",
       "       0.4185855 , 0.41283796, 0.34354521, 0.29063563, 0.40202328,\n",
       "       0.39496867, 0.25505819, 0.19113697, 0.15042077, 0.1887735 ,\n",
       "       0.45600716])"
      ]
     },
     "metadata": {},
     "output_type": "display_data"
    },
    {
     "data": {
      "text/plain": [
       "[0.8160707044696742,\n",
       " 0.8229689663885397,\n",
       " 0.8273313336572006,\n",
       " 0.830090035546243,\n",
       " 0.8318346012015192,\n",
       " 0.8329378408584237,\n",
       " 0.9786711360042297,\n",
       " 1.0425941723207899,\n",
       " 1.0365331015827557,\n",
       " 0.9680375819994131,\n",
       " 0.8563865138553475,\n",
       " 0.7276915298071374,\n",
       " 0.7230478767446317,\n",
       " 0.5895041729440741,\n",
       " 0.5036083081535134,\n",
       " 0.4471903315463953,\n",
       " 0.5026139300254023,\n",
       " 0.8091009187612791,\n",
       " 0.9334682648492223,\n",
       " 0.9417501617470839,\n",
       " 0.9711322304128771,\n",
       " 0.8598045020963399,\n",
       " 0.7790700883131276,\n",
       " 0.8537236566623347,\n",
       " 0.48413812308207127,\n",
       " 0.40797875325274136,\n",
       " 0.3811214618238682,\n",
       " 0.37407754250189,\n",
       " 0.4675453250595839,\n",
       " 0.8190006781629882,\n",
       " 0.7376777134131093,\n",
       " 0.7886489710499451,\n",
       " 0.8296121939116239,\n",
       " 0.7073542564690131,\n",
       " 0.631571472526809,\n",
       " 0.7010420504307804,\n",
       " 0.20527751611691045,\n",
       " 0.10228347217925447,\n",
       " 0.058414064974201,\n",
       " 0.03527847966493707,\n",
       " 0.10819976889087646,\n",
       " 0.4449253980942193,\n",
       " 0.31197473362251515,\n",
       " 0.24295966493384397,\n",
       " 0.19148799287774668,\n",
       " 0.074839333710832,\n",
       " 0.016855667627138547,\n",
       " 0.10708483451621711,\n",
       " 0.2569988068633507,\n",
       " 0.08884779816739899,\n",
       " -0.016450206664386166,\n",
       " -0.07113860936852859,\n",
       " -0.030045023175067367,\n",
       " 0.2740203613797261,\n",
       " 0.4481499023516405,\n",
       " 0.37935248691085566,\n",
       " 0.33953638825531185,\n",
       " 0.23327391836638128,\n",
       " 0.18270240616842331,\n",
       " 0.2838924970575048,\n",
       " 0.3409658683661351,\n",
       " 0.2045552419840956,\n",
       " 0.15267214052652078,\n",
       " 0.1120245961434625,\n",
       " 0.16421465475156538,\n",
       " 0.46769921528984626]"
      ]
     },
     "metadata": {},
     "output_type": "display_data"
    },
    {
     "data": {
      "text/plain": [
       "'StateError: 0.17958413521150476'"
      ]
     },
     "metadata": {},
     "output_type": "display_data"
    },
    {
     "data": {
      "text/plain": [
       "array([0.89539528, 0.81827793, 0.66392576, 0.54651709, 0.39956537,\n",
       "       0.32230119, 0.4524257 ])"
      ]
     },
     "metadata": {},
     "output_type": "display_data"
    },
    {
     "data": {
      "text/plain": [
       "array([0.34144837, 0.22500881, 0.17476213, 0.18733114, 0.38717256,\n",
       "       0.8665864 ])"
      ]
     },
     "metadata": {},
     "output_type": "display_data"
    },
    {
     "data": {
      "text/plain": [
       "array([0.6545876 , 0.83454104, 0.91509058, 0.8686224 , 0.72536814,\n",
       "       0.55565961])"
      ]
     },
     "metadata": {},
     "output_type": "display_data"
    },
    {
     "data": {
      "text/plain": [
       "array([0.89539528, 0.81827793, 0.66392576, 0.54651709, 0.39956537,\n",
       "       0.32230119, 0.4524257 , 0.34144837, 0.22500881, 0.17476213,\n",
       "       0.18733114, 0.38717256, 0.8665864 ])"
      ]
     },
     "metadata": {},
     "output_type": "display_data"
    },
    {
     "data": {
      "text/plain": [
       "array([0.95639023, 0.98167509, 1.        , 0.83225655, 0.78159873,\n",
       "       0.89375073])"
      ]
     },
     "metadata": {},
     "output_type": "display_data"
    },
    {
     "data": {
      "text/plain": [
       "array([1.16080311, 1.21522442, 1.06055876, 0.7863483 , 0.50148147,\n",
       "       0.29653743])"
      ]
     },
     "metadata": {},
     "output_type": "display_data"
    },
    {
     "data": {
      "text/plain": [
       "array([0.89539528, 0.81827793, 0.66392576, 0.54651709, 0.39956537,\n",
       "       0.32230119, 0.4524257 , 0.34144837, 0.22500881, 0.17476213,\n",
       "       0.18733114, 0.38717256, 0.8665864 , 0.95639023, 0.98167509,\n",
       "       1.        , 0.83225655, 0.78159873, 0.89375073])"
      ]
     },
     "metadata": {},
     "output_type": "display_data"
    },
    {
     "data": {
      "text/plain": [
       "array([0.88984494, 0.62715846, 0.4837895 , 0.4630565 , 0.56407847,\n",
       "       0.96904734])"
      ]
     },
     "metadata": {},
     "output_type": "display_data"
    },
    {
     "data": {
      "text/plain": [
       "array([0.70783912, 0.48452527, 0.30467766, 0.17937777, 0.24085373,\n",
       "       0.5892737 ])"
      ]
     },
     "metadata": {},
     "output_type": "display_data"
    },
    {
     "data": {
      "text/plain": [
       "array([0.89539528, 0.81827793, 0.66392576, 0.54651709, 0.39956537,\n",
       "       0.32230119, 0.4524257 , 0.34144837, 0.22500881, 0.17476213,\n",
       "       0.18733114, 0.38717256, 0.8665864 , 0.95639023, 0.98167509,\n",
       "       1.        , 0.83225655, 0.78159873, 0.89375073, 0.88984494,\n",
       "       0.62715846, 0.4837895 , 0.4630565 , 0.56407847, 0.96904734])"
      ]
     },
     "metadata": {},
     "output_type": "display_data"
    },
    {
     "data": {
      "text/plain": [
       "array([0.99074944, 0.88514625, 0.71646306, 0.53292024, 0.45973805,\n",
       "       0.58815929])"
      ]
     },
     "metadata": {},
     "output_type": "display_data"
    },
    {
     "data": {
      "text/plain": [
       "array([0.9478334 , 0.86198141, 0.78154933, 0.53722773, 0.42396666,\n",
       "       0.4781053 ])"
      ]
     },
     "metadata": {},
     "output_type": "display_data"
    },
    {
     "data": {
      "text/plain": [
       "array([0.89539528, 0.81827793, 0.66392576, 0.54651709, 0.39956537,\n",
       "       0.32230119, 0.4524257 , 0.34144837, 0.22500881, 0.17476213,\n",
       "       0.18733114, 0.38717256, 0.8665864 , 0.95639023, 0.98167509,\n",
       "       1.        , 0.83225655, 0.78159873, 0.89375073, 0.88984494,\n",
       "       0.62715846, 0.4837895 , 0.4630565 , 0.56407847, 0.96904734,\n",
       "       0.99074944, 0.88514625, 0.71646306, 0.53292024, 0.45973805,\n",
       "       0.58815929])"
      ]
     },
     "metadata": {},
     "output_type": "display_data"
    },
    {
     "data": {
      "text/plain": [
       "array([0.50731235, 0.31011394, 0.22133795, 0.21778456, 0.35851051,\n",
       "       0.80415247])"
      ]
     },
     "metadata": {},
     "output_type": "display_data"
    },
    {
     "data": {
      "text/plain": [
       "array([0.49181593, 0.34695143, 0.27259071, 0.26848133, 0.43765956,\n",
       "       0.88381381])"
      ]
     },
     "metadata": {},
     "output_type": "display_data"
    },
    {
     "data": {
      "text/plain": [
       "array([0.89539528, 0.81827793, 0.66392576, 0.54651709, 0.39956537,\n",
       "       0.32230119, 0.4524257 , 0.34144837, 0.22500881, 0.17476213,\n",
       "       0.18733114, 0.38717256, 0.8665864 , 0.95639023, 0.98167509,\n",
       "       1.        , 0.83225655, 0.78159873, 0.89375073, 0.88984494,\n",
       "       0.62715846, 0.4837895 , 0.4630565 , 0.56407847, 0.96904734,\n",
       "       0.99074944, 0.88514625, 0.71646306, 0.53292024, 0.45973805,\n",
       "       0.58815929, 0.50731235, 0.31011394, 0.22133795, 0.21778456,\n",
       "       0.35851051, 0.80415247])"
      ]
     },
     "metadata": {},
     "output_type": "display_data"
    },
    {
     "data": {
      "text/plain": [
       "array([0.72991307, 0.56695642, 0.38705509, 0.21343827, 0.191883  ,\n",
       "       0.31983437])"
      ]
     },
     "metadata": {},
     "output_type": "display_data"
    },
    {
     "data": {
      "text/plain": [
       "array([0.88509143, 0.90125395, 0.90508962, 0.75120013, 0.70890923,\n",
       "       0.82871199])"
      ]
     },
     "metadata": {},
     "output_type": "display_data"
    },
    {
     "data": {
      "text/plain": [
       "array([0.89539528, 0.81827793, 0.66392576, 0.54651709, 0.39956537,\n",
       "       0.32230119, 0.4524257 , 0.34144837, 0.22500881, 0.17476213,\n",
       "       0.18733114, 0.38717256, 0.8665864 , 0.95639023, 0.98167509,\n",
       "       1.        , 0.83225655, 0.78159873, 0.89375073, 0.88984494,\n",
       "       0.62715846, 0.4837895 , 0.4630565 , 0.56407847, 0.96904734,\n",
       "       0.99074944, 0.88514625, 0.71646306, 0.53292024, 0.45973805,\n",
       "       0.58815929, 0.50731235, 0.31011394, 0.22133795, 0.21778456,\n",
       "       0.35851051, 0.80415247, 0.72991307, 0.56695642, 0.38705509,\n",
       "       0.21343827, 0.191883  , 0.31983437])"
      ]
     },
     "metadata": {},
     "output_type": "display_data"
    },
    {
     "data": {
      "text/plain": [
       "array([0.20418771, 0.05074592, 0.        , 0.00957359, 0.10387055,\n",
       "       0.49723952])"
      ]
     },
     "metadata": {},
     "output_type": "display_data"
    },
    {
     "data": {
      "text/plain": [
       "array([0.22380694, 0.11103429, 0.07048588, 0.0944868 , 0.29721727,\n",
       "       0.78146824])"
      ]
     },
     "metadata": {},
     "output_type": "display_data"
    },
    {
     "data": {
      "text/plain": [
       "array([0.89539528, 0.81827793, 0.66392576, 0.54651709, 0.39956537,\n",
       "       0.32230119, 0.4524257 , 0.34144837, 0.22500881, 0.17476213,\n",
       "       0.18733114, 0.38717256, 0.8665864 , 0.95639023, 0.98167509,\n",
       "       1.        , 0.83225655, 0.78159873, 0.89375073, 0.88984494,\n",
       "       0.62715846, 0.4837895 , 0.4630565 , 0.56407847, 0.96904734,\n",
       "       0.99074944, 0.88514625, 0.71646306, 0.53292024, 0.45973805,\n",
       "       0.58815929, 0.50731235, 0.31011394, 0.22133795, 0.21778456,\n",
       "       0.35851051, 0.80415247, 0.72991307, 0.56695642, 0.38705509,\n",
       "       0.21343827, 0.191883  , 0.31983437, 0.20418771, 0.05074592,\n",
       "       0.        , 0.00957359, 0.10387055, 0.49723952])"
      ]
     },
     "metadata": {},
     "output_type": "display_data"
    },
    {
     "data": {
      "text/plain": [
       "array([0.51168801, 0.40229649, 0.35278398, 0.26183484, 0.23886996,\n",
       "       0.38508751])"
      ]
     },
     "metadata": {},
     "output_type": "display_data"
    },
    {
     "data": {
      "text/plain": [
       "array([0.54777393, 0.55132295, 0.55034099, 0.42252584, 0.41277839,\n",
       "       0.56107718])"
      ]
     },
     "metadata": {},
     "output_type": "display_data"
    },
    {
     "data": {
      "text/plain": [
       "array([0.89539528, 0.81827793, 0.66392576, 0.54651709, 0.39956537,\n",
       "       0.32230119, 0.4524257 , 0.34144837, 0.22500881, 0.17476213,\n",
       "       0.18733114, 0.38717256, 0.8665864 , 0.95639023, 0.98167509,\n",
       "       1.        , 0.83225655, 0.78159873, 0.89375073, 0.88984494,\n",
       "       0.62715846, 0.4837895 , 0.4630565 , 0.56407847, 0.96904734,\n",
       "       0.99074944, 0.88514625, 0.71646306, 0.53292024, 0.45973805,\n",
       "       0.58815929, 0.50731235, 0.31011394, 0.22133795, 0.21778456,\n",
       "       0.35851051, 0.80415247, 0.72991307, 0.56695642, 0.38705509,\n",
       "       0.21343827, 0.191883  , 0.31983437, 0.20418771, 0.05074592,\n",
       "       0.        , 0.00957359, 0.10387055, 0.49723952, 0.51168801,\n",
       "       0.40229649, 0.35278398, 0.26183484, 0.23886996, 0.38508751])"
      ]
     },
     "metadata": {},
     "output_type": "display_data"
    },
    {
     "data": {
      "text/plain": [
       "array([0.32197815, 0.16962293, 0.11291554, 0.1056032 , 0.22638905,\n",
       "       0.66653941])"
      ]
     },
     "metadata": {},
     "output_type": "display_data"
    },
    {
     "data": {
      "text/plain": [
       "array([0.32017223, 0.14735799, 0.06800702, 0.06678408, 0.19334822,\n",
       "       0.60493006])"
      ]
     },
     "metadata": {},
     "output_type": "display_data"
    },
    {
     "data": {
      "text/plain": [
       "array([0.89539528, 0.81827793, 0.66392576, 0.54651709, 0.39956537,\n",
       "       0.32230119, 0.4524257 , 0.34144837, 0.22500881, 0.17476213,\n",
       "       0.18733114, 0.38717256, 0.8665864 , 0.95639023, 0.98167509,\n",
       "       1.        , 0.83225655, 0.78159873, 0.89375073, 0.88984494,\n",
       "       0.62715846, 0.4837895 , 0.4630565 , 0.56407847, 0.96904734,\n",
       "       0.99074944, 0.88514625, 0.71646306, 0.53292024, 0.45973805,\n",
       "       0.58815929, 0.50731235, 0.31011394, 0.22133795, 0.21778456,\n",
       "       0.35851051, 0.80415247, 0.72991307, 0.56695642, 0.38705509,\n",
       "       0.21343827, 0.191883  , 0.31983437, 0.20418771, 0.05074592,\n",
       "       0.        , 0.00957359, 0.10387055, 0.49723952, 0.51168801,\n",
       "       0.40229649, 0.35278398, 0.26183484, 0.23886996, 0.38508751,\n",
       "       0.32197815, 0.16962293, 0.11291554, 0.1056032 , 0.22638905,\n",
       "       0.66653941])"
      ]
     },
     "metadata": {},
     "output_type": "display_data"
    },
    {
     "data": {
      "text/plain": [
       "array([0.6866557 , 0.60980265, 0.51947022, 0.43101727, 0.35439915,\n",
       "       0.50032304])"
      ]
     },
     "metadata": {},
     "output_type": "display_data"
    },
    {
     "data": {
      "text/plain": [
       "array([0.67275519, 0.57591783, 0.47979046, 0.33293142, 0.28697642,\n",
       "       0.41458975])"
      ]
     },
     "metadata": {},
     "output_type": "display_data"
    },
    {
     "data": {
      "text/plain": [
       "array([0.89539528, 0.81827793, 0.66392576, 0.54651709, 0.39956537,\n",
       "       0.32230119, 0.4524257 , 0.34144837, 0.22500881, 0.17476213,\n",
       "       0.18733114, 0.38717256, 0.8665864 , 0.95639023, 0.98167509,\n",
       "       1.        , 0.83225655, 0.78159873, 0.89375073, 0.88984494,\n",
       "       0.62715846, 0.4837895 , 0.4630565 , 0.56407847, 0.96904734,\n",
       "       0.99074944, 0.88514625, 0.71646306, 0.53292024, 0.45973805,\n",
       "       0.58815929, 0.50731235, 0.31011394, 0.22133795, 0.21778456,\n",
       "       0.35851051, 0.80415247, 0.72991307, 0.56695642, 0.38705509,\n",
       "       0.21343827, 0.191883  , 0.31983437, 0.20418771, 0.05074592,\n",
       "       0.        , 0.00957359, 0.10387055, 0.49723952, 0.51168801,\n",
       "       0.40229649, 0.35278398, 0.26183484, 0.23886996, 0.38508751,\n",
       "       0.32197815, 0.16962293, 0.11291554, 0.1056032 , 0.22638905,\n",
       "       0.66653941, 0.6866557 , 0.60980265, 0.51947022, 0.43101727,\n",
       "       0.35439915, 0.50032304])"
      ]
     },
     "metadata": {},
     "output_type": "display_data"
    },
    {
     "data": {
      "text/plain": [
       "array([0.5159462 , 0.31125925, 0.24638788, 0.25628451, 0.34893692,\n",
       "       0.71467168])"
      ]
     },
     "metadata": {},
     "output_type": "display_data"
    },
    {
     "data": {
      "text/plain": [
       "array([0.43432875, 0.26508815, 0.19049452, 0.18797147, 0.31321438,\n",
       "       0.73179593])"
      ]
     },
     "metadata": {},
     "output_type": "display_data"
    },
    {
     "data": {
      "text/plain": [
       "array([0.34144837, 0.22500881, 0.17476213, 0.18733114, 0.38717256,\n",
       "       0.8665864 , 0.95639023, 0.98167509, 1.        , 0.83225655,\n",
       "       0.78159873, 0.89375073, 0.88984494, 0.62715846, 0.4837895 ,\n",
       "       0.4630565 , 0.56407847, 0.96904734, 0.99074944, 0.88514625,\n",
       "       0.71646306, 0.53292024, 0.45973805, 0.58815929, 0.50731235,\n",
       "       0.31011394, 0.22133795, 0.21778456, 0.35851051, 0.80415247,\n",
       "       0.72991307, 0.56695642, 0.38705509, 0.21343827, 0.191883  ,\n",
       "       0.31983437, 0.20418771, 0.05074592, 0.        , 0.00957359,\n",
       "       0.10387055, 0.49723952, 0.51168801, 0.40229649, 0.35278398,\n",
       "       0.26183484, 0.23886996, 0.38508751, 0.32197815, 0.16962293,\n",
       "       0.11291554, 0.1056032 , 0.22638905, 0.66653941, 0.6866557 ,\n",
       "       0.60980265, 0.51947022, 0.43101727, 0.35439915, 0.50032304,\n",
       "       0.5159462 , 0.31125925, 0.24638788, 0.25628451, 0.34893692,\n",
       "       0.71467168])"
      ]
     },
     "metadata": {},
     "output_type": "display_data"
    },
    {
     "data": {
      "text/plain": [
       "[0.6545875971170259,\n",
       " 0.8345410427478057,\n",
       " 0.9150905821285396,\n",
       " 0.8686224022537754,\n",
       " 0.7253681356129413,\n",
       " 0.5556596117836208,\n",
       " 1.1608031053357042,\n",
       " 1.215224419576643,\n",
       " 1.0605587629291657,\n",
       " 0.7863482997106577,\n",
       " 0.5014814662525342,\n",
       " 0.29653742672801675,\n",
       " 0.7078391233693918,\n",
       " 0.4845252670691186,\n",
       " 0.3046776621505414,\n",
       " 0.17937777326567614,\n",
       " 0.24085373398547497,\n",
       " 0.5892736952512033,\n",
       " 0.9478334012893241,\n",
       " 0.861981407859099,\n",
       " 0.7815493258525427,\n",
       " 0.5372277300176184,\n",
       " 0.4239666620723242,\n",
       " 0.47810529851198696,\n",
       " 0.49181592854143896,\n",
       " 0.3469514287059887,\n",
       " 0.2725907109337569,\n",
       " 0.2684813300262389,\n",
       " 0.4376595604055681,\n",
       " 0.883813808315701,\n",
       " 0.8850914250380268,\n",
       " 0.901253945939107,\n",
       " 0.9050896177697589,\n",
       " 0.7512001348272463,\n",
       " 0.708909230156935,\n",
       " 0.8287119894942057,\n",
       " 0.2238069395521809,\n",
       " 0.11103429084661637,\n",
       " 0.07048587881425866,\n",
       " 0.09448679761009257,\n",
       " 0.29721727094306194,\n",
       " 0.7814682418437972,\n",
       " 0.5477739319756498,\n",
       " 0.5513229517090239,\n",
       " 0.5503409854198013,\n",
       " 0.42252584077011884,\n",
       " 0.4127783936354485,\n",
       " 0.5610771764259787,\n",
       " 0.3201722291165754,\n",
       " 0.14735799110388278,\n",
       " 0.06800701744196544,\n",
       " 0.0667840833521998,\n",
       " 0.19334822355234588,\n",
       " 0.6049300569081445,\n",
       " 0.6727551878217134,\n",
       " 0.5759178290233407,\n",
       " 0.4797904561550944,\n",
       " 0.3329314197925436,\n",
       " 0.28697641590814965,\n",
       " 0.4145897529818099,\n",
       " 0.434328747896523,\n",
       " 0.26508815078863796,\n",
       " 0.19049452433954087,\n",
       " 0.18797147150912122,\n",
       " 0.31321438088377207,\n",
       " 0.7317959268771763]"
      ]
     },
     "metadata": {},
     "output_type": "display_data"
    },
    {
     "data": {
      "text/plain": [
       "'StateError: 0.25344202141383126'"
      ]
     },
     "metadata": {},
     "output_type": "display_data"
    },
    {
     "data": {
      "text/plain": [
       "array([0.45878076, 0.40564107, 0.31947365, 0.27935253, 0.20486724,\n",
       "       0.12083999, 0.15948449])"
      ]
     },
     "metadata": {},
     "output_type": "display_data"
    },
    {
     "data": {
      "text/plain": [
       "array([0.23737161, 0.18168989, 0.11201764, 0.13517631, 0.23895104,\n",
       "       0.55442473])"
      ]
     },
     "metadata": {},
     "output_type": "display_data"
    },
    {
     "data": {
      "text/plain": [
       "array([0.22422649, 0.24453309, 0.25992079, 0.2715811 , 0.28041692,\n",
       "       0.28711242])"
      ]
     },
     "metadata": {},
     "output_type": "display_data"
    },
    {
     "data": {
      "text/plain": [
       "array([0.45878076, 0.40564107, 0.31947365, 0.27935253, 0.20486724,\n",
       "       0.12083999, 0.15948449, 0.23737161, 0.18168989, 0.11201764,\n",
       "       0.13517631, 0.23895104, 0.55442473])"
      ]
     },
     "metadata": {},
     "output_type": "display_data"
    },
    {
     "data": {
      "text/plain": [
       "array([0.60032149, 0.70253549, 0.80074018, 0.77428248, 0.79520752,\n",
       "       0.83481463])"
      ]
     },
     "metadata": {},
     "output_type": "display_data"
    },
    {
     "data": {
      "text/plain": [
       "array([0.83226235, 0.80156076, 0.58657181, 0.34330836, 0.18317374,\n",
       "       0.14274102])"
      ]
     },
     "metadata": {},
     "output_type": "display_data"
    },
    {
     "data": {
      "text/plain": [
       "array([0.45878076, 0.40564107, 0.31947365, 0.27935253, 0.20486724,\n",
       "       0.12083999, 0.15948449, 0.23737161, 0.18168989, 0.11201764,\n",
       "       0.13517631, 0.23895104, 0.55442473, 0.60032149, 0.70253549,\n",
       "       0.80074018, 0.77428248, 0.79520752, 0.83481463])"
      ]
     },
     "metadata": {},
     "output_type": "display_data"
    },
    {
     "data": {
      "text/plain": [
       "array([0.97302829, 0.86762741, 0.74258185, 0.71531107, 0.74212391,\n",
       "       1.        ])"
      ]
     },
     "metadata": {},
     "output_type": "display_data"
    },
    {
     "data": {
      "text/plain": [
       "array([0.76273906, 0.80716632, 0.86424213, 0.84119334, 0.74856359,\n",
       "       0.47253993])"
      ]
     },
     "metadata": {},
     "output_type": "display_data"
    },
    {
     "data": {
      "text/plain": [
       "array([0.45878076, 0.40564107, 0.31947365, 0.27935253, 0.20486724,\n",
       "       0.12083999, 0.15948449, 0.23737161, 0.18168989, 0.11201764,\n",
       "       0.13517631, 0.23895104, 0.55442473, 0.60032149, 0.70253549,\n",
       "       0.80074018, 0.77428248, 0.79520752, 0.83481463, 0.97302829,\n",
       "       0.86762741, 0.74258185, 0.71531107, 0.74212391, 1.        ])"
      ]
     },
     "metadata": {},
     "output_type": "display_data"
    },
    {
     "data": {
      "text/plain": [
       "array([0.97526191, 0.9019355 , 0.80176821, 0.6683302 , 0.58146186,\n",
       "       0.58133102])"
      ]
     },
     "metadata": {},
     "output_type": "display_data"
    },
    {
     "data": {
      "text/plain": [
       "array([1.04048104, 1.12635701, 1.20899178, 1.19110321, 1.21141813,\n",
       "       1.24679552])"
      ]
     },
     "metadata": {},
     "output_type": "display_data"
    },
    {
     "data": {
      "text/plain": [
       "array([0.45878076, 0.40564107, 0.31947365, 0.27935253, 0.20486724,\n",
       "       0.12083999, 0.15948449, 0.23737161, 0.18168989, 0.11201764,\n",
       "       0.13517631, 0.23895104, 0.55442473, 0.60032149, 0.70253549,\n",
       "       0.80074018, 0.77428248, 0.79520752, 0.83481463, 0.97302829,\n",
       "       0.86762741, 0.74258185, 0.71531107, 0.74212391, 1.        ,\n",
       "       0.97526191, 0.9019355 , 0.80176821, 0.6683302 , 0.58146186,\n",
       "       0.58133102])"
      ]
     },
     "metadata": {},
     "output_type": "display_data"
    },
    {
     "data": {
      "text/plain": [
       "array([0.6826011 , 0.51092046, 0.38331417, 0.34931449, 0.35439856,\n",
       "       0.53934075])"
      ]
     },
     "metadata": {},
     "output_type": "display_data"
    },
    {
     "data": {
      "text/plain": [
       "array([0.64349633, 0.56873866, 0.48505293, 0.49549746, 0.58218736,\n",
       "       0.87842358])"
      ]
     },
     "metadata": {},
     "output_type": "display_data"
    },
    {
     "data": {
      "text/plain": [
       "array([0.45878076, 0.40564107, 0.31947365, 0.27935253, 0.20486724,\n",
       "       0.12083999, 0.15948449, 0.23737161, 0.18168989, 0.11201764,\n",
       "       0.13517631, 0.23895104, 0.55442473, 0.60032149, 0.70253549,\n",
       "       0.80074018, 0.77428248, 0.79520752, 0.83481463, 0.97302829,\n",
       "       0.86762741, 0.74258185, 0.71531107, 0.74212391, 1.        ,\n",
       "       0.97526191, 0.9019355 , 0.80176821, 0.6683302 , 0.58146186,\n",
       "       0.58133102, 0.6826011 , 0.51092046, 0.38331417, 0.34931449,\n",
       "       0.35439856, 0.53934075])"
      ]
     },
     "metadata": {},
     "output_type": "display_data"
    },
    {
     "data": {
      "text/plain": [
       "array([0.46333212, 0.38470668, 0.29407202, 0.19695143, 0.12588667,\n",
       "       0.15970879])"
      ]
     },
     "metadata": {},
     "output_type": "display_data"
    },
    {
     "data": {
      "text/plain": [
       "array([0.50329453, 0.43896713, 0.36542777, 0.27643228, 0.24126179,\n",
       "       0.29381886])"
      ]
     },
     "metadata": {},
     "output_type": "display_data"
    },
    {
     "data": {
      "text/plain": [
       "array([0.45878076, 0.40564107, 0.31947365, 0.27935253, 0.20486724,\n",
       "       0.12083999, 0.15948449, 0.23737161, 0.18168989, 0.11201764,\n",
       "       0.13517631, 0.23895104, 0.55442473, 0.60032149, 0.70253549,\n",
       "       0.80074018, 0.77428248, 0.79520752, 0.83481463, 0.97302829,\n",
       "       0.86762741, 0.74258185, 0.71531107, 0.74212391, 1.        ,\n",
       "       0.97526191, 0.9019355 , 0.80176821, 0.6683302 , 0.58146186,\n",
       "       0.58133102, 0.6826011 , 0.51092046, 0.38331417, 0.34931449,\n",
       "       0.35439856, 0.53934075, 0.46333212, 0.38470668, 0.29407202,\n",
       "       0.19695143, 0.12588667, 0.15970879])"
      ]
     },
     "metadata": {},
     "output_type": "display_data"
    },
    {
     "data": {
      "text/plain": [
       "array([0.25643686, 0.11452229, 0.03820525, 0.        , 0.03253241,\n",
       "       0.22743713])"
      ]
     },
     "metadata": {},
     "output_type": "display_data"
    },
    {
     "data": {
      "text/plain": [
       "array([0.30205937, 0.21458924, 0.17429425, 0.22188683, 0.30616933,\n",
       "       0.54836737])"
      ]
     },
     "metadata": {},
     "output_type": "display_data"
    },
    {
     "data": {
      "text/plain": [
       "array([0.45878076, 0.40564107, 0.31947365, 0.27935253, 0.20486724,\n",
       "       0.12083999, 0.15948449, 0.23737161, 0.18168989, 0.11201764,\n",
       "       0.13517631, 0.23895104, 0.55442473, 0.60032149, 0.70253549,\n",
       "       0.80074018, 0.77428248, 0.79520752, 0.83481463, 0.97302829,\n",
       "       0.86762741, 0.74258185, 0.71531107, 0.74212391, 1.        ,\n",
       "       0.97526191, 0.9019355 , 0.80176821, 0.6683302 , 0.58146186,\n",
       "       0.58133102, 0.6826011 , 0.51092046, 0.38331417, 0.34931449,\n",
       "       0.35439856, 0.53934075, 0.46333212, 0.38470668, 0.29407202,\n",
       "       0.19695143, 0.12588667, 0.15970879, 0.25643686, 0.11452229,\n",
       "       0.03820525, 0.        , 0.03253241, 0.22743713])"
      ]
     },
     "metadata": {},
     "output_type": "display_data"
    },
    {
     "data": {
      "text/plain": [
       "array([0.24111924, 0.19074588, 0.18093289, 0.11012981, 0.0871861 ,\n",
       "       0.14729769])"
      ]
     },
     "metadata": {},
     "output_type": "display_data"
    },
    {
     "data": {
      "text/plain": [
       "array([0.20542629, 0.18409958, 0.16327164, 0.1141882 , 0.09984071,\n",
       "       0.1742928 ])"
      ]
     },
     "metadata": {},
     "output_type": "display_data"
    },
    {
     "data": {
      "text/plain": [
       "array([0.45878076, 0.40564107, 0.31947365, 0.27935253, 0.20486724,\n",
       "       0.12083999, 0.15948449, 0.23737161, 0.18168989, 0.11201764,\n",
       "       0.13517631, 0.23895104, 0.55442473, 0.60032149, 0.70253549,\n",
       "       0.80074018, 0.77428248, 0.79520752, 0.83481463, 0.97302829,\n",
       "       0.86762741, 0.74258185, 0.71531107, 0.74212391, 1.        ,\n",
       "       0.97526191, 0.9019355 , 0.80176821, 0.6683302 , 0.58146186,\n",
       "       0.58133102, 0.6826011 , 0.51092046, 0.38331417, 0.34931449,\n",
       "       0.35439856, 0.53934075, 0.46333212, 0.38470668, 0.29407202,\n",
       "       0.19695143, 0.12588667, 0.15970879, 0.25643686, 0.11452229,\n",
       "       0.03820525, 0.        , 0.03253241, 0.22743713, 0.24111924,\n",
       "       0.19074588, 0.18093289, 0.11012981, 0.0871861 , 0.14729769])"
      ]
     },
     "metadata": {},
     "output_type": "display_data"
    },
    {
     "data": {
      "text/plain": [
       "array([0.26447416, 0.1738395 , 0.13566228, 0.13002682, 0.17984879,\n",
       "       0.38168802])"
      ]
     },
     "metadata": {},
     "output_type": "display_data"
    },
    {
     "data": {
      "text/plain": [
       "array([0.28586094, 0.20852265, 0.15274805, 0.17371431, 0.25290347,\n",
       "       0.51929338])"
      ]
     },
     "metadata": {},
     "output_type": "display_data"
    },
    {
     "data": {
      "text/plain": [
       "array([0.45878076, 0.40564107, 0.31947365, 0.27935253, 0.20486724,\n",
       "       0.12083999, 0.15948449, 0.23737161, 0.18168989, 0.11201764,\n",
       "       0.13517631, 0.23895104, 0.55442473, 0.60032149, 0.70253549,\n",
       "       0.80074018, 0.77428248, 0.79520752, 0.83481463, 0.97302829,\n",
       "       0.86762741, 0.74258185, 0.71531107, 0.74212391, 1.        ,\n",
       "       0.97526191, 0.9019355 , 0.80176821, 0.6683302 , 0.58146186,\n",
       "       0.58133102, 0.6826011 , 0.51092046, 0.38331417, 0.34931449,\n",
       "       0.35439856, 0.53934075, 0.46333212, 0.38470668, 0.29407202,\n",
       "       0.19695143, 0.12588667, 0.15970879, 0.25643686, 0.11452229,\n",
       "       0.03820525, 0.        , 0.03253241, 0.22743713, 0.24111924,\n",
       "       0.19074588, 0.18093289, 0.11012981, 0.0871861 , 0.14729769,\n",
       "       0.26447416, 0.1738395 , 0.13566228, 0.13002682, 0.17984879,\n",
       "       0.38168802])"
      ]
     },
     "metadata": {},
     "output_type": "display_data"
    },
    {
     "data": {
      "text/plain": [
       "array([0.39034215, 0.3556135 , 0.32275399, 0.28413753, 0.225325  ,\n",
       "       0.25093223])"
      ]
     },
     "metadata": {},
     "output_type": "display_data"
    },
    {
     "data": {
      "text/plain": [
       "array([0.37237346, 0.31057252, 0.25815923, 0.16344152, 0.11177821,\n",
       "       0.14472615])"
      ]
     },
     "metadata": {},
     "output_type": "display_data"
    },
    {
     "data": {
      "text/plain": [
       "array([0.45878076, 0.40564107, 0.31947365, 0.27935253, 0.20486724,\n",
       "       0.12083999, 0.15948449, 0.23737161, 0.18168989, 0.11201764,\n",
       "       0.13517631, 0.23895104, 0.55442473, 0.60032149, 0.70253549,\n",
       "       0.80074018, 0.77428248, 0.79520752, 0.83481463, 0.97302829,\n",
       "       0.86762741, 0.74258185, 0.71531107, 0.74212391, 1.        ,\n",
       "       0.97526191, 0.9019355 , 0.80176821, 0.6683302 , 0.58146186,\n",
       "       0.58133102, 0.6826011 , 0.51092046, 0.38331417, 0.34931449,\n",
       "       0.35439856, 0.53934075, 0.46333212, 0.38470668, 0.29407202,\n",
       "       0.19695143, 0.12588667, 0.15970879, 0.25643686, 0.11452229,\n",
       "       0.03820525, 0.        , 0.03253241, 0.22743713, 0.24111924,\n",
       "       0.19074588, 0.18093289, 0.11012981, 0.0871861 , 0.14729769,\n",
       "       0.26447416, 0.1738395 , 0.13566228, 0.13002682, 0.17984879,\n",
       "       0.38168802, 0.39034215, 0.3556135 , 0.32275399, 0.28413753,\n",
       "       0.225325  , 0.25093223])"
      ]
     },
     "metadata": {},
     "output_type": "display_data"
    },
    {
     "data": {
      "text/plain": [
       "array([0.36049196, 0.26110036, 0.18677396, 0.1763348 , 0.19824114,\n",
       "       0.3692115 ])"
      ]
     },
     "metadata": {},
     "output_type": "display_data"
    },
    {
     "data": {
      "text/plain": [
       "array([0.34506006, 0.22404492, 0.14592348, 0.12102255, 0.15350702,\n",
       "       0.35139908])"
      ]
     },
     "metadata": {},
     "output_type": "display_data"
    },
    {
     "data": {
      "text/plain": [
       "array([0.23737161, 0.18168989, 0.11201764, 0.13517631, 0.23895104,\n",
       "       0.55442473, 0.60032149, 0.70253549, 0.80074018, 0.77428248,\n",
       "       0.79520752, 0.83481463, 0.97302829, 0.86762741, 0.74258185,\n",
       "       0.71531107, 0.74212391, 1.        , 0.97526191, 0.9019355 ,\n",
       "       0.80176821, 0.6683302 , 0.58146186, 0.58133102, 0.6826011 ,\n",
       "       0.51092046, 0.38331417, 0.34931449, 0.35439856, 0.53934075,\n",
       "       0.46333212, 0.38470668, 0.29407202, 0.19695143, 0.12588667,\n",
       "       0.15970879, 0.25643686, 0.11452229, 0.03820525, 0.        ,\n",
       "       0.03253241, 0.22743713, 0.24111924, 0.19074588, 0.18093289,\n",
       "       0.11012981, 0.0871861 , 0.14729769, 0.26447416, 0.1738395 ,\n",
       "       0.13566228, 0.13002682, 0.17984879, 0.38168802, 0.39034215,\n",
       "       0.3556135 , 0.32275399, 0.28413753, 0.225325  , 0.25093223,\n",
       "       0.36049196, 0.26110036, 0.18677396, 0.1763348 , 0.19824114,\n",
       "       0.3692115 ])"
      ]
     },
     "metadata": {},
     "output_type": "display_data"
    },
    {
     "data": {
      "text/plain": [
       "[0.224226489791771,\n",
       " 0.24453309118349037,\n",
       " 0.25992079067668666,\n",
       " 0.271581102076184,\n",
       " 0.2804169168120621,\n",
       " 0.2871124174185147,\n",
       " 0.832262351875311,\n",
       " 0.8015607617933169,\n",
       " 0.5865718075325694,\n",
       " 0.3433083596635901,\n",
       " 0.18317374190533173,\n",
       " 0.14274102152716625,\n",
       " 0.7627390565304872,\n",
       " 0.8071663231637838,\n",
       " 0.864242125081301,\n",
       " 0.8411933379946137,\n",
       " 0.7485635908828894,\n",
       " 0.4725399349173527,\n",
       " 1.040481041725977,\n",
       " 1.126357006847188,\n",
       " 1.2089917843173852,\n",
       " 1.191103212654266,\n",
       " 1.2114181262851182,\n",
       " 1.246795519508002,\n",
       " 0.6434963316495937,\n",
       " 0.5687386550442183,\n",
       " 0.48505292527512234,\n",
       " 0.4954974639858037,\n",
       " 0.5821873647827056,\n",
       " 0.8784235807777466,\n",
       " 0.5032945295153425,\n",
       " 0.4389671295527287,\n",
       " 0.36542776663988324,\n",
       " 0.2764322753371144,\n",
       " 0.24126178983085772,\n",
       " 0.2938188567456261,\n",
       " 0.30205937309686864,\n",
       " 0.21458923776959415,\n",
       " 0.17429425175350405,\n",
       " 0.22188682612759986,\n",
       " 0.30616932547487985,\n",
       " 0.548367367254322,\n",
       " 0.20542629065127035,\n",
       " 0.18409958213604147,\n",
       " 0.1632716379909182,\n",
       " 0.11418819795577617,\n",
       " 0.0998407143044214,\n",
       " 0.17429280032804292,\n",
       " 0.28586093728502954,\n",
       " 0.208522648067893,\n",
       " 0.15274805045210987,\n",
       " 0.17371431134760823,\n",
       " 0.2529034663607149,\n",
       " 0.5192933775407719,\n",
       " 0.3723734620938314,\n",
       " 0.3105725243305764,\n",
       " 0.25815922629298704,\n",
       " 0.16344152363199843,\n",
       " 0.11177821053924136,\n",
       " 0.14472615110699255,\n",
       " 0.3450600648283618,\n",
       " 0.22404491745388677,\n",
       " 0.14592348343607614,\n",
       " 0.12102255243588135,\n",
       " 0.15350702361231586,\n",
       " 0.3513990814812711]"
      ]
     },
     "metadata": {},
     "output_type": "display_data"
    },
    {
     "data": {
      "text/plain": [
       "'StateError: 0.23191449111688625'"
      ]
     },
     "metadata": {},
     "output_type": "display_data"
    },
    {
     "data": {
      "text/plain": [
       "array([0.86371635, 0.78198257, 0.63553191, 0.4835865 , 0.33779657,\n",
       "       0.21968946, 0.21412053])"
      ]
     },
     "metadata": {},
     "output_type": "display_data"
    },
    {
     "data": {
      "text/plain": [
       "array([0.26767932, 0.23680077, 0.11458776, 0.134079  , 0.28796613,\n",
       "       0.74525866])"
      ]
     },
     "metadata": {},
     "output_type": "display_data"
    },
    {
     "data": {
      "text/plain": [
       "array([0.29698601, 0.44519247, 0.61868254, 0.77125225, 0.86284826,\n",
       "       0.870074  ])"
      ]
     },
     "metadata": {},
     "output_type": "display_data"
    },
    {
     "data": {
      "text/plain": [
       "array([0.86371635, 0.78198257, 0.63553191, 0.4835865 , 0.33779657,\n",
       "       0.21968946, 0.21412053, 0.26767932, 0.23680077, 0.11458776,\n",
       "       0.134079  , 0.28796613, 0.74525866])"
      ]
     },
     "metadata": {},
     "output_type": "display_data"
    },
    {
     "data": {
      "text/plain": [
       "array([0.78632444, 0.82421472, 0.76197218, 0.63829615, 0.61233254,\n",
       "       0.61453045])"
      ]
     },
     "metadata": {},
     "output_type": "display_data"
    },
    {
     "data": {
      "text/plain": [
       "array([1.08804279, 1.24629213, 1.20548351, 1.00271449, 0.71046872,\n",
       "       0.41374907])"
      ]
     },
     "metadata": {},
     "output_type": "display_data"
    },
    {
     "data": {
      "text/plain": [
       "array([0.86371635, 0.78198257, 0.63553191, 0.4835865 , 0.33779657,\n",
       "       0.21968946, 0.21412053, 0.26767932, 0.23680077, 0.11458776,\n",
       "       0.134079  , 0.28796613, 0.74525866, 0.78632444, 0.82421472,\n",
       "       0.76197218, 0.63829615, 0.61233254, 0.61453045])"
      ]
     },
     "metadata": {},
     "output_type": "display_data"
    },
    {
     "data": {
      "text/plain": [
       "array([0.71262717, 0.68356223, 0.52495567, 0.53761049, 0.6020307 ,\n",
       "       1.        ])"
      ]
     },
     "metadata": {},
     "output_type": "display_data"
    },
    {
     "data": {
      "text/plain": [
       "array([0.59622531, 0.57053627, 0.54669688, 0.52954219, 0.52025438,\n",
       "       0.51765097])"
      ]
     },
     "metadata": {},
     "output_type": "display_data"
    },
    {
     "data": {
      "text/plain": [
       "array([0.86371635, 0.78198257, 0.63553191, 0.4835865 , 0.33779657,\n",
       "       0.21968946, 0.21412053, 0.26767932, 0.23680077, 0.11458776,\n",
       "       0.134079  , 0.28796613, 0.74525866, 0.78632444, 0.82421472,\n",
       "       0.76197218, 0.63829615, 0.61233254, 0.61453045, 0.71262717,\n",
       "       0.68356223, 0.52495567, 0.53761049, 0.6020307 , 1.        ])"
      ]
     },
     "metadata": {},
     "output_type": "display_data"
    },
    {
     "data": {
      "text/plain": [
       "array([0.99947412, 0.9046001 , 0.66428673, 0.48958017, 0.39960087,\n",
       "       0.36843241])"
      ]
     },
     "metadata": {},
     "output_type": "display_data"
    },
    {
     "data": {
      "text/plain": [
       "array([0.9634574 , 0.91539243, 0.77012436, 0.56779336, 0.46006257,\n",
       "       0.38652983])"
      ]
     },
     "metadata": {},
     "output_type": "display_data"
    },
    {
     "data": {
      "text/plain": [
       "array([0.86371635, 0.78198257, 0.63553191, 0.4835865 , 0.33779657,\n",
       "       0.21968946, 0.21412053, 0.26767932, 0.23680077, 0.11458776,\n",
       "       0.134079  , 0.28796613, 0.74525866, 0.78632444, 0.82421472,\n",
       "       0.76197218, 0.63829615, 0.61233254, 0.61453045, 0.71262717,\n",
       "       0.68356223, 0.52495567, 0.53761049, 0.6020307 , 1.        ,\n",
       "       0.99947412, 0.9046001 , 0.66428673, 0.48958017, 0.39960087,\n",
       "       0.36843241])"
      ]
     },
     "metadata": {},
     "output_type": "display_data"
    },
    {
     "data": {
      "text/plain": [
       "array([0.46032645, 0.32419787, 0.23987514, 0.2497792 , 0.33592902,\n",
       "       0.68580058])"
      ]
     },
     "metadata": {},
     "output_type": "display_data"
    },
    {
     "data": {
      "text/plain": [
       "array([0.4224289 , 0.38768683, 0.25597636, 0.27559936, 0.39319114,\n",
       "       0.81475133])"
      ]
     },
     "metadata": {},
     "output_type": "display_data"
    },
    {
     "data": {
      "text/plain": [
       "array([0.86371635, 0.78198257, 0.63553191, 0.4835865 , 0.33779657,\n",
       "       0.21968946, 0.21412053, 0.26767932, 0.23680077, 0.11458776,\n",
       "       0.134079  , 0.28796613, 0.74525866, 0.78632444, 0.82421472,\n",
       "       0.76197218, 0.63829615, 0.61233254, 0.61453045, 0.71262717,\n",
       "       0.68356223, 0.52495567, 0.53761049, 0.6020307 , 1.        ,\n",
       "       0.99947412, 0.9046001 , 0.66428673, 0.48958017, 0.39960087,\n",
       "       0.36843241, 0.46032645, 0.32419787, 0.23987514, 0.2497792 ,\n",
       "       0.33592902, 0.68580058])"
      ]
     },
     "metadata": {},
     "output_type": "display_data"
    },
    {
     "data": {
      "text/plain": [
       "array([0.61989037, 0.47153847, 0.28437936, 0.17020961, 0.09969459,\n",
       "       0.10516912])"
      ]
     },
     "metadata": {},
     "output_type": "display_data"
    },
    {
     "data": {
      "text/plain": [
       "array([0.7004069 , 0.70106463, 0.59947255, 0.485268  , 0.45643883,\n",
       "       0.4620704 ])"
      ]
     },
     "metadata": {},
     "output_type": "display_data"
    },
    {
     "data": {
      "text/plain": [
       "array([0.86371635, 0.78198257, 0.63553191, 0.4835865 , 0.33779657,\n",
       "       0.21968946, 0.21412053, 0.26767932, 0.23680077, 0.11458776,\n",
       "       0.134079  , 0.28796613, 0.74525866, 0.78632444, 0.82421472,\n",
       "       0.76197218, 0.63829615, 0.61233254, 0.61453045, 0.71262717,\n",
       "       0.68356223, 0.52495567, 0.53761049, 0.6020307 , 1.        ,\n",
       "       0.99947412, 0.9046001 , 0.66428673, 0.48958017, 0.39960087,\n",
       "       0.36843241, 0.46032645, 0.32419787, 0.23987514, 0.2497792 ,\n",
       "       0.33592902, 0.68580058, 0.61989037, 0.47153847, 0.28437936,\n",
       "       0.17020961, 0.09969459, 0.10516912])"
      ]
     },
     "metadata": {},
     "output_type": "display_data"
    },
    {
     "data": {
      "text/plain": [
       "array([0.18841987, 0.07048806, 0.00930402, 0.        , 0.06568098,\n",
       "       0.41526264])"
      ]
     },
     "metadata": {},
     "output_type": "display_data"
    },
    {
     "data": {
      "text/plain": [
       "array([0.18171434, 0.13646992, 0.04223634, 0.07061548, 0.22170341,\n",
       "       0.65798125])"
      ]
     },
     "metadata": {},
     "output_type": "display_data"
    },
    {
     "data": {
      "text/plain": [
       "array([0.86371635, 0.78198257, 0.63553191, 0.4835865 , 0.33779657,\n",
       "       0.21968946, 0.21412053, 0.26767932, 0.23680077, 0.11458776,\n",
       "       0.134079  , 0.28796613, 0.74525866, 0.78632444, 0.82421472,\n",
       "       0.76197218, 0.63829615, 0.61233254, 0.61453045, 0.71262717,\n",
       "       0.68356223, 0.52495567, 0.53761049, 0.6020307 , 1.        ,\n",
       "       0.99947412, 0.9046001 , 0.66428673, 0.48958017, 0.39960087,\n",
       "       0.36843241, 0.46032645, 0.32419787, 0.23987514, 0.2497792 ,\n",
       "       0.33592902, 0.68580058, 0.61989037, 0.47153847, 0.28437936,\n",
       "       0.17020961, 0.09969459, 0.10516912, 0.18841987, 0.07048806,\n",
       "       0.00930402, 0.        , 0.06568098, 0.41526264])"
      ]
     },
     "metadata": {},
     "output_type": "display_data"
    },
    {
     "data": {
      "text/plain": [
       "array([0.4335066 , 0.31500172, 0.19861384, 0.1041713 , 0.07528839,\n",
       "       0.10193294])"
      ]
     },
     "metadata": {},
     "output_type": "display_data"
    },
    {
     "data": {
      "text/plain": [
       "array([0.3794118 , 0.34807114, 0.29505355, 0.22638439, 0.22561772,\n",
       "       0.27217538])"
      ]
     },
     "metadata": {},
     "output_type": "display_data"
    },
    {
     "data": {
      "text/plain": [
       "array([0.86371635, 0.78198257, 0.63553191, 0.4835865 , 0.33779657,\n",
       "       0.21968946, 0.21412053, 0.26767932, 0.23680077, 0.11458776,\n",
       "       0.134079  , 0.28796613, 0.74525866, 0.78632444, 0.82421472,\n",
       "       0.76197218, 0.63829615, 0.61233254, 0.61453045, 0.71262717,\n",
       "       0.68356223, 0.52495567, 0.53761049, 0.6020307 , 1.        ,\n",
       "       0.99947412, 0.9046001 , 0.66428673, 0.48958017, 0.39960087,\n",
       "       0.36843241, 0.46032645, 0.32419787, 0.23987514, 0.2497792 ,\n",
       "       0.33592902, 0.68580058, 0.61989037, 0.47153847, 0.28437936,\n",
       "       0.17020961, 0.09969459, 0.10516912, 0.18841987, 0.07048806,\n",
       "       0.00930402, 0.        , 0.06568098, 0.41526264, 0.4335066 ,\n",
       "       0.31500172, 0.19861384, 0.1041713 , 0.07528839, 0.10193294])"
      ]
     },
     "metadata": {},
     "output_type": "display_data"
    },
    {
     "data": {
      "text/plain": [
       "array([0.19865429, 0.11785765, 0.07692671, 0.09622918, 0.19448771,\n",
       "       0.53990952])"
      ]
     },
     "metadata": {},
     "output_type": "display_data"
    },
    {
     "data": {
      "text/plain": [
       "array([0.19757307, 0.10509227, 0.02543206, 0.02721863, 0.10197527,\n",
       "       0.45074689])"
      ]
     },
     "metadata": {},
     "output_type": "display_data"
    },
    {
     "data": {
      "text/plain": [
       "array([0.86371635, 0.78198257, 0.63553191, 0.4835865 , 0.33779657,\n",
       "       0.21968946, 0.21412053, 0.26767932, 0.23680077, 0.11458776,\n",
       "       0.134079  , 0.28796613, 0.74525866, 0.78632444, 0.82421472,\n",
       "       0.76197218, 0.63829615, 0.61233254, 0.61453045, 0.71262717,\n",
       "       0.68356223, 0.52495567, 0.53761049, 0.6020307 , 1.        ,\n",
       "       0.99947412, 0.9046001 , 0.66428673, 0.48958017, 0.39960087,\n",
       "       0.36843241, 0.46032645, 0.32419787, 0.23987514, 0.2497792 ,\n",
       "       0.33592902, 0.68580058, 0.61989037, 0.47153847, 0.28437936,\n",
       "       0.17020961, 0.09969459, 0.10516912, 0.18841987, 0.07048806,\n",
       "       0.00930402, 0.        , 0.06568098, 0.41526264, 0.4335066 ,\n",
       "       0.31500172, 0.19861384, 0.1041713 , 0.07528839, 0.10193294,\n",
       "       0.19865429, 0.11785765, 0.07692671, 0.09622918, 0.19448771,\n",
       "       0.53990952])"
      ]
     },
     "metadata": {},
     "output_type": "display_data"
    },
    {
     "data": {
      "text/plain": [
       "array([0.55598929, 0.47021703, 0.32518895, 0.23937623, 0.18252058,\n",
       "       0.19726543])"
      ]
     },
     "metadata": {},
     "output_type": "display_data"
    },
    {
     "data": {
      "text/plain": [
       "array([0.5490229 , 0.44265829, 0.28425296, 0.1621374 , 0.11199003,\n",
       "       0.11587874])"
      ]
     },
     "metadata": {},
     "output_type": "display_data"
    },
    {
     "data": {
      "text/plain": [
       "array([0.86371635, 0.78198257, 0.63553191, 0.4835865 , 0.33779657,\n",
       "       0.21968946, 0.21412053, 0.26767932, 0.23680077, 0.11458776,\n",
       "       0.134079  , 0.28796613, 0.74525866, 0.78632444, 0.82421472,\n",
       "       0.76197218, 0.63829615, 0.61233254, 0.61453045, 0.71262717,\n",
       "       0.68356223, 0.52495567, 0.53761049, 0.6020307 , 1.        ,\n",
       "       0.99947412, 0.9046001 , 0.66428673, 0.48958017, 0.39960087,\n",
       "       0.36843241, 0.46032645, 0.32419787, 0.23987514, 0.2497792 ,\n",
       "       0.33592902, 0.68580058, 0.61989037, 0.47153847, 0.28437936,\n",
       "       0.17020961, 0.09969459, 0.10516912, 0.18841987, 0.07048806,\n",
       "       0.00930402, 0.        , 0.06568098, 0.41526264, 0.4335066 ,\n",
       "       0.31500172, 0.19861384, 0.1041713 , 0.07528839, 0.10193294,\n",
       "       0.19865429, 0.11785765, 0.07692671, 0.09622918, 0.19448771,\n",
       "       0.53990952, 0.55598929, 0.47021703, 0.32518895, 0.23937623,\n",
       "       0.18252058, 0.19726543])"
      ]
     },
     "metadata": {},
     "output_type": "display_data"
    },
    {
     "data": {
      "text/plain": [
       "array([0.29712182, 0.22589888, 0.15126447, 0.17022984, 0.2424506 ,\n",
       "       0.56956777])"
      ]
     },
     "metadata": {},
     "output_type": "display_data"
    },
    {
     "data": {
      "text/plain": [
       "array([0.29331838, 0.19730052, 0.14264775, 0.16026493, 0.25334499,\n",
       "       0.59175487])"
      ]
     },
     "metadata": {},
     "output_type": "display_data"
    },
    {
     "data": {
      "text/plain": [
       "array([0.26767932, 0.23680077, 0.11458776, 0.134079  , 0.28796613,\n",
       "       0.74525866, 0.78632444, 0.82421472, 0.76197218, 0.63829615,\n",
       "       0.61233254, 0.61453045, 0.71262717, 0.68356223, 0.52495567,\n",
       "       0.53761049, 0.6020307 , 1.        , 0.99947412, 0.9046001 ,\n",
       "       0.66428673, 0.48958017, 0.39960087, 0.36843241, 0.46032645,\n",
       "       0.32419787, 0.23987514, 0.2497792 , 0.33592902, 0.68580058,\n",
       "       0.61989037, 0.47153847, 0.28437936, 0.17020961, 0.09969459,\n",
       "       0.10516912, 0.18841987, 0.07048806, 0.00930402, 0.        ,\n",
       "       0.06568098, 0.41526264, 0.4335066 , 0.31500172, 0.19861384,\n",
       "       0.1041713 , 0.07528839, 0.10193294, 0.19865429, 0.11785765,\n",
       "       0.07692671, 0.09622918, 0.19448771, 0.53990952, 0.55598929,\n",
       "       0.47021703, 0.32518895, 0.23937623, 0.18252058, 0.19726543,\n",
       "       0.29712182, 0.22589888, 0.15126447, 0.17022984, 0.2424506 ,\n",
       "       0.56956777])"
      ]
     },
     "metadata": {},
     "output_type": "display_data"
    },
    {
     "data": {
      "text/plain": [
       "[0.2969860075566535,\n",
       " 0.4451924708668117,\n",
       " 0.6186825380131602,\n",
       " 0.7712522507526528,\n",
       " 0.8628482627027563,\n",
       " 0.8700740032169895,\n",
       " 1.0880427904436405,\n",
       " 1.2462921336792219,\n",
       " 1.2054835063899865,\n",
       " 1.0027144925882179,\n",
       " 0.7104687161495832,\n",
       " 0.4137490659916053,\n",
       " 0.5962253126936408,\n",
       " 0.5705362668296308,\n",
       " 0.5466968777139385,\n",
       " 0.5295421872779206,\n",
       " 0.5202543780010422,\n",
       " 0.517650966526339,\n",
       " 0.9634573975013045,\n",
       " 0.915392434293885,\n",
       " 0.7701243591649022,\n",
       " 0.5677933568041189,\n",
       " 0.46006256792356787,\n",
       " 0.3865298341135656,\n",
       " 0.4224289008811076,\n",
       " 0.3876868285223424,\n",
       " 0.255976356997046,\n",
       " 0.2755993645444194,\n",
       " 0.3931911352294204,\n",
       " 0.8147513310102715,\n",
       " 0.7004069033758272,\n",
       " 0.7010646307778176,\n",
       " 0.5994725454802622,\n",
       " 0.4852680033412231,\n",
       " 0.45643882922359497,\n",
       " 0.4620704038567453,\n",
       " 0.1817143400691787,\n",
       " 0.13646991595041477,\n",
       " 0.042236338307169025,\n",
       " 0.0706154814281053,\n",
       " 0.22170340939251026,\n",
       " 0.6579812492994713,\n",
       " 0.3794118007499277,\n",
       " 0.3480711384466068,\n",
       " 0.2950535549763315,\n",
       " 0.2263843851302665,\n",
       " 0.22561772278916387,\n",
       " 0.2721753811791424,\n",
       " 0.19757306564693478,\n",
       " 0.10509226916479748,\n",
       " 0.025432060914058585,\n",
       " 0.027218634641788447,\n",
       " 0.10197527122180224,\n",
       " 0.45074689349149094,\n",
       " 0.5490228996447307,\n",
       " 0.442658292563148,\n",
       " 0.28425295594609395,\n",
       " 0.16213740270707877,\n",
       " 0.11199002584926834,\n",
       " 0.11587873621438029,\n",
       " 0.2933183845632471,\n",
       " 0.19730051910699287,\n",
       " 0.14264774953984793,\n",
       " 0.16026493479810008,\n",
       " 0.25334498872965294,\n",
       " 0.5917548701293971]"
      ]
     },
     "metadata": {},
     "output_type": "display_data"
    },
    {
     "data": {
      "text/plain": [
       "'StateError: 0.20397496491934897'"
      ]
     },
     "metadata": {},
     "output_type": "display_data"
    },
    {
     "data": {
      "text/plain": [
       "array([1.        , 0.91034553, 0.83827438, 0.72776528, 0.58035167,\n",
       "       0.47975874, 0.5861787 ])"
      ]
     },
     "metadata": {},
     "output_type": "display_data"
    },
    {
     "data": {
      "text/plain": [
       "array([0.4978532 , 0.32324678, 0.27029237, 0.22152934, 0.31465958,\n",
       "       0.74841546])"
      ]
     },
     "metadata": {},
     "output_type": "display_data"
    },
    {
     "data": {
      "text/plain": [
       "array([0.76196063, 0.92807808, 1.01929959, 1.00854753, 0.91293509,\n",
       "       0.78136883])"
      ]
     },
     "metadata": {},
     "output_type": "display_data"
    },
    {
     "data": {
      "text/plain": [
       "array([1.        , 0.91034553, 0.83827438, 0.72776528, 0.58035167,\n",
       "       0.47975874, 0.5861787 , 0.4978532 , 0.32324678, 0.27029237,\n",
       "       0.22152934, 0.31465958, 0.74841546])"
      ]
     },
     "metadata": {},
     "output_type": "display_data"
    },
    {
     "data": {
      "text/plain": [
       "array([0.79922306, 0.88785524, 0.95031691, 0.79462278, 0.76088734,\n",
       "       0.87814353])"
      ]
     },
     "metadata": {},
     "output_type": "display_data"
    },
    {
     "data": {
      "text/plain": [
       "array([1.04565824, 1.15674071, 1.09914594, 0.93452557, 0.73907448,\n",
       "       0.57759507])"
      ]
     },
     "metadata": {},
     "output_type": "display_data"
    },
    {
     "data": {
      "text/plain": [
       "array([1.        , 0.91034553, 0.83827438, 0.72776528, 0.58035167,\n",
       "       0.47975874, 0.5861787 , 0.4978532 , 0.32324678, 0.27029237,\n",
       "       0.22152934, 0.31465958, 0.74841546, 0.79922306, 0.88785524,\n",
       "       0.95031691, 0.79462278, 0.76088734, 0.87814353])"
      ]
     },
     "metadata": {},
     "output_type": "display_data"
    },
    {
     "data": {
      "text/plain": [
       "array([0.89654467, 0.76088734, 0.5890411 , 0.57544469, 0.62615007,\n",
       "       0.97260274])"
      ]
     },
     "metadata": {},
     "output_type": "display_data"
    },
    {
     "data": {
      "text/plain": [
       "array([0.81211799, 0.73081107, 0.64723153, 0.57316667, 0.51770189,\n",
       "       0.48628725])"
      ]
     },
     "metadata": {},
     "output_type": "display_data"
    },
    {
     "data": {
      "text/plain": [
       "array([1.        , 0.91034553, 0.83827438, 0.72776528, 0.58035167,\n",
       "       0.47975874, 0.5861787 , 0.4978532 , 0.32324678, 0.27029237,\n",
       "       0.22152934, 0.31465958, 0.74841546, 0.79922306, 0.88785524,\n",
       "       0.95031691, 0.79462278, 0.76088734, 0.87814353, 0.89654467,\n",
       "       0.76088734, 0.5890411 , 0.57544469, 0.62615007, 0.97260274])"
      ]
     },
     "metadata": {},
     "output_type": "display_data"
    },
    {
     "data": {
      "text/plain": [
       "array([0.99243508, 0.92670211, 0.8515641 , 0.63903087, 0.55816806,\n",
       "       0.60989573])"
      ]
     },
     "metadata": {},
     "output_type": "display_data"
    },
    {
     "data": {
      "text/plain": [
       "array([0.90354408, 0.85071915, 0.76044335, 0.6135802 , 0.52085217,\n",
       "       0.6234918 ])"
      ]
     },
     "metadata": {},
     "output_type": "display_data"
    },
    {
     "data": {
      "text/plain": [
       "array([1.        , 0.91034553, 0.83827438, 0.72776528, 0.58035167,\n",
       "       0.47975874, 0.5861787 , 0.4978532 , 0.32324678, 0.27029237,\n",
       "       0.22152934, 0.31465958, 0.74841546, 0.79922306, 0.88785524,\n",
       "       0.95031691, 0.79462278, 0.76088734, 0.87814353, 0.89654467,\n",
       "       0.76088734, 0.5890411 , 0.57544469, 0.62615007, 0.97260274,\n",
       "       0.99243508, 0.92670211, 0.8515641 , 0.63903087, 0.55816806,\n",
       "       0.60989573])"
      ]
     },
     "metadata": {},
     "output_type": "display_data"
    },
    {
     "data": {
      "text/plain": [
       "array([0.59251687, 0.49437743, 0.40870988, 0.37763239, 0.41126559,\n",
       "       0.7417706 ])"
      ]
     },
     "metadata": {},
     "output_type": "display_data"
    },
    {
     "data": {
      "text/plain": [
       "array([0.53268197, 0.37794707, 0.31442611, 0.28479097, 0.37330671,\n",
       "       0.77293363])"
      ]
     },
     "metadata": {},
     "output_type": "display_data"
    },
    {
     "data": {
      "text/plain": [
       "array([1.        , 0.91034553, 0.83827438, 0.72776528, 0.58035167,\n",
       "       0.47975874, 0.5861787 , 0.4978532 , 0.32324678, 0.27029237,\n",
       "       0.22152934, 0.31465958, 0.74841546, 0.79922306, 0.88785524,\n",
       "       0.95031691, 0.79462278, 0.76088734, 0.87814353, 0.89654467,\n",
       "       0.76088734, 0.5890411 , 0.57544469, 0.62615007, 0.97260274,\n",
       "       0.99243508, 0.92670211, 0.8515641 , 0.63903087, 0.55816806,\n",
       "       0.60989573, 0.59251687, 0.49437743, 0.40870988, 0.37763239,\n",
       "       0.41126559, 0.7417706 ])"
      ]
     },
     "metadata": {},
     "output_type": "display_data"
    },
    {
     "data": {
      "text/plain": [
       "array([0.61643836, 0.53036189, 0.38887753, 0.2567982 , 0.23134328,\n",
       "       0.34635044])"
      ]
     },
     "metadata": {},
     "output_type": "display_data"
    },
    {
     "data": {
      "text/plain": [
       "array([0.76927276, 0.81672669, 0.85060085, 0.70263579, 0.66992484,\n",
       "       0.77129959])"
      ]
     },
     "metadata": {},
     "output_type": "display_data"
    },
    {
     "data": {
      "text/plain": [
       "array([1.        , 0.91034553, 0.83827438, 0.72776528, 0.58035167,\n",
       "       0.47975874, 0.5861787 , 0.4978532 , 0.32324678, 0.27029237,\n",
       "       0.22152934, 0.31465958, 0.74841546, 0.79922306, 0.88785524,\n",
       "       0.95031691, 0.79462278, 0.76088734, 0.87814353, 0.89654467,\n",
       "       0.76088734, 0.5890411 , 0.57544469, 0.62615007, 0.97260274,\n",
       "       0.99243508, 0.92670211, 0.8515641 , 0.63903087, 0.55816806,\n",
       "       0.60989573, 0.59251687, 0.49437743, 0.40870988, 0.37763239,\n",
       "       0.41126559, 0.7417706 , 0.61643836, 0.53036189, 0.38887753,\n",
       "       0.2567982 , 0.23134328, 0.34635044])"
      ]
     },
     "metadata": {},
     "output_type": "display_data"
    },
    {
     "data": {
      "text/plain": [
       "array([0.26507872, 0.13657739, 0.09088121, 0.        , 0.05847475,\n",
       "       0.33806992])"
      ]
     },
     "metadata": {},
     "output_type": "display_data"
    },
    {
     "data": {
      "text/plain": [
       "array([0.29271846, 0.14979203, 0.09978153, 0.06966213, 0.16213373,\n",
       "       0.57975672])"
      ]
     },
     "metadata": {},
     "output_type": "display_data"
    },
    {
     "data": {
      "text/plain": [
       "array([1.        , 0.91034553, 0.83827438, 0.72776528, 0.58035167,\n",
       "       0.47975874, 0.5861787 , 0.4978532 , 0.32324678, 0.27029237,\n",
       "       0.22152934, 0.31465958, 0.74841546, 0.79922306, 0.88785524,\n",
       "       0.95031691, 0.79462278, 0.76088734, 0.87814353, 0.89654467,\n",
       "       0.76088734, 0.5890411 , 0.57544469, 0.62615007, 0.97260274,\n",
       "       0.99243508, 0.92670211, 0.8515641 , 0.63903087, 0.55816806,\n",
       "       0.60989573, 0.59251687, 0.49437743, 0.40870988, 0.37763239,\n",
       "       0.41126559, 0.7417706 , 0.61643836, 0.53036189, 0.38887753,\n",
       "       0.2567982 , 0.23134328, 0.34635044, 0.26507872, 0.13657739,\n",
       "       0.09088121, 0.        , 0.05847475, 0.33806992])"
      ]
     },
     "metadata": {},
     "output_type": "display_data"
    },
    {
     "data": {
      "text/plain": [
       "array([0.3401145 , 0.24780209, 0.25986506, 0.19955019, 0.23267226,\n",
       "       0.35923124])"
      ]
     },
     "metadata": {},
     "output_type": "display_data"
    },
    {
     "data": {
      "text/plain": [
       "array([ 0.27979035,  0.23746643,  0.16903977,  0.01210621, -0.04621712,\n",
       "        0.0461179 ])"
      ]
     },
     "metadata": {},
     "output_type": "display_data"
    },
    {
     "data": {
      "text/plain": [
       "array([1.        , 0.91034553, 0.83827438, 0.72776528, 0.58035167,\n",
       "       0.47975874, 0.5861787 , 0.4978532 , 0.32324678, 0.27029237,\n",
       "       0.22152934, 0.31465958, 0.74841546, 0.79922306, 0.88785524,\n",
       "       0.95031691, 0.79462278, 0.76088734, 0.87814353, 0.89654467,\n",
       "       0.76088734, 0.5890411 , 0.57544469, 0.62615007, 0.97260274,\n",
       "       0.99243508, 0.92670211, 0.8515641 , 0.63903087, 0.55816806,\n",
       "       0.60989573, 0.59251687, 0.49437743, 0.40870988, 0.37763239,\n",
       "       0.41126559, 0.7417706 , 0.61643836, 0.53036189, 0.38887753,\n",
       "       0.2567982 , 0.23134328, 0.34635044, 0.26507872, 0.13657739,\n",
       "       0.09088121, 0.        , 0.05847475, 0.33806992, 0.3401145 ,\n",
       "       0.24780209, 0.25986506, 0.19955019, 0.23267226, 0.35923124])"
      ]
     },
     "metadata": {},
     "output_type": "display_data"
    },
    {
     "data": {
      "text/plain": [
       "array([0.41269679, 0.27509712, 0.19648334, 0.23052545, 0.31905541,\n",
       "       0.72633408])"
      ]
     },
     "metadata": {},
     "output_type": "display_data"
    },
    {
     "data": {
      "text/plain": [
       "array([0.33034065, 0.20620571, 0.12226615, 0.07698178, 0.1305977 ,\n",
       "       0.45521027])"
      ]
     },
     "metadata": {},
     "output_type": "display_data"
    },
    {
     "data": {
      "text/plain": [
       "array([1.        , 0.91034553, 0.83827438, 0.72776528, 0.58035167,\n",
       "       0.47975874, 0.5861787 , 0.4978532 , 0.32324678, 0.27029237,\n",
       "       0.22152934, 0.31465958, 0.74841546, 0.79922306, 0.88785524,\n",
       "       0.95031691, 0.79462278, 0.76088734, 0.87814353, 0.89654467,\n",
       "       0.76088734, 0.5890411 , 0.57544469, 0.62615007, 0.97260274,\n",
       "       0.99243508, 0.92670211, 0.8515641 , 0.63903087, 0.55816806,\n",
       "       0.60989573, 0.59251687, 0.49437743, 0.40870988, 0.37763239,\n",
       "       0.41126559, 0.7417706 , 0.61643836, 0.53036189, 0.38887753,\n",
       "       0.2567982 , 0.23134328, 0.34635044, 0.26507872, 0.13657739,\n",
       "       0.09088121, 0.        , 0.05847475, 0.33806992, 0.3401145 ,\n",
       "       0.24780209, 0.25986506, 0.19955019, 0.23267226, 0.35923124,\n",
       "       0.41269679, 0.27509712, 0.19648334, 0.23052545, 0.31905541,\n",
       "       0.72633408])"
      ]
     },
     "metadata": {},
     "output_type": "display_data"
    },
    {
     "data": {
      "text/plain": [
       "array([0.7703946 , 0.72827643, 0.71764465, 0.64741362, 0.56726641,\n",
       "       0.63688407])"
      ]
     },
     "metadata": {},
     "output_type": "display_data"
    },
    {
     "data": {
      "text/plain": [
       "array([0.72742929, 0.6918861 , 0.64709067, 0.51387577, 0.47629494,\n",
       "       0.57603178])"
      ]
     },
     "metadata": {},
     "output_type": "display_data"
    },
    {
     "data": {
      "text/plain": [
       "array([1.        , 0.91034553, 0.83827438, 0.72776528, 0.58035167,\n",
       "       0.47975874, 0.5861787 , 0.4978532 , 0.32324678, 0.27029237,\n",
       "       0.22152934, 0.31465958, 0.74841546, 0.79922306, 0.88785524,\n",
       "       0.95031691, 0.79462278, 0.76088734, 0.87814353, 0.89654467,\n",
       "       0.76088734, 0.5890411 , 0.57544469, 0.62615007, 0.97260274,\n",
       "       0.99243508, 0.92670211, 0.8515641 , 0.63903087, 0.55816806,\n",
       "       0.60989573, 0.59251687, 0.49437743, 0.40870988, 0.37763239,\n",
       "       0.41126559, 0.7417706 , 0.61643836, 0.53036189, 0.38887753,\n",
       "       0.2567982 , 0.23134328, 0.34635044, 0.26507872, 0.13657739,\n",
       "       0.09088121, 0.        , 0.05847475, 0.33806992, 0.3401145 ,\n",
       "       0.24780209, 0.25986506, 0.19955019, 0.23267226, 0.35923124,\n",
       "       0.41269679, 0.27509712, 0.19648334, 0.23052545, 0.31905541,\n",
       "       0.72633408, 0.7703946 , 0.72827643, 0.71764465, 0.64741362,\n",
       "       0.56726641, 0.63688407])"
      ]
     },
     "metadata": {},
     "output_type": "display_data"
    },
    {
     "data": {
      "text/plain": [
       "array([0.65232059, 0.51185852, 0.43160908, 0.38621959, 0.43804948,\n",
       "       0.7296054 ])"
      ]
     },
     "metadata": {},
     "output_type": "display_data"
    },
    {
     "data": {
      "text/plain": [
       "array([0.60746895, 0.47456108, 0.39132616, 0.36379273, 0.42501936,\n",
       "       0.76502925])"
      ]
     },
     "metadata": {},
     "output_type": "display_data"
    },
    {
     "data": {
      "text/plain": [
       "array([0.4978532 , 0.32324678, 0.27029237, 0.22152934, 0.31465958,\n",
       "       0.74841546, 0.79922306, 0.88785524, 0.95031691, 0.79462278,\n",
       "       0.76088734, 0.87814353, 0.89654467, 0.76088734, 0.5890411 ,\n",
       "       0.57544469, 0.62615007, 0.97260274, 0.99243508, 0.92670211,\n",
       "       0.8515641 , 0.63903087, 0.55816806, 0.60989573, 0.59251687,\n",
       "       0.49437743, 0.40870988, 0.37763239, 0.41126559, 0.7417706 ,\n",
       "       0.61643836, 0.53036189, 0.38887753, 0.2567982 , 0.23134328,\n",
       "       0.34635044, 0.26507872, 0.13657739, 0.09088121, 0.        ,\n",
       "       0.05847475, 0.33806992, 0.3401145 , 0.24780209, 0.25986506,\n",
       "       0.19955019, 0.23267226, 0.35923124, 0.41269679, 0.27509712,\n",
       "       0.19648334, 0.23052545, 0.31905541, 0.72633408, 0.7703946 ,\n",
       "       0.72827643, 0.71764465, 0.64741362, 0.56726641, 0.63688407,\n",
       "       0.65232059, 0.51185852, 0.43160908, 0.38621959, 0.43804948,\n",
       "       0.7296054 ])"
      ]
     },
     "metadata": {},
     "output_type": "display_data"
    },
    {
     "data": {
      "text/plain": [
       "[0.7619606271796695,\n",
       " 0.9280780796798358,\n",
       " 1.0192995910265763,\n",
       " 1.0085475251829426,\n",
       " 0.9129350919220887,\n",
       " 0.7813688335811442,\n",
       " 1.0456582430598653,\n",
       " 1.1567407088981239,\n",
       " 1.099145940002341,\n",
       " 0.9345255688602124,\n",
       " 0.7390744766749568,\n",
       " 0.5775950691633263,\n",
       " 0.8121179937599307,\n",
       " 0.7308110717955765,\n",
       " 0.6472315261037636,\n",
       " 0.573166669084472,\n",
       " 0.5177018936443246,\n",
       " 0.48628724576299676,\n",
       " 0.9035440761994428,\n",
       " 0.8507191490697062,\n",
       " 0.7604433521281809,\n",
       " 0.6135802047494274,\n",
       " 0.5208521678259572,\n",
       " 0.6234917969850396,\n",
       " 0.5326819681568448,\n",
       " 0.37794706515111853,\n",
       " 0.3144261137517316,\n",
       " 0.28479096619261235,\n",
       " 0.37330670622608286,\n",
       " 0.7729336337322044,\n",
       " 0.7692727587929218,\n",
       " 0.8167266883649478,\n",
       " 0.8506008452277102,\n",
       " 0.7026357895959213,\n",
       " 0.6699248388585349,\n",
       " 0.7712995883768605,\n",
       " 0.29271845502412763,\n",
       " 0.1497920256573004,\n",
       " 0.09978153249845455,\n",
       " 0.06966213238486642,\n",
       " 0.16213372825337147,\n",
       " 0.5797567238112539,\n",
       " 0.27979035374643485,\n",
       " 0.23746642888190594,\n",
       " 0.16903977232497075,\n",
       " 0.01210620782233085,\n",
       " -0.046217119131636765,\n",
       " 0.046117904949525855,\n",
       " 0.33034065055279827,\n",
       " 0.2062057101359488,\n",
       " 0.12226614571808368,\n",
       " 0.07698178499067643,\n",
       " 0.13059770213435357,\n",
       " 0.4552102719462935,\n",
       " 0.7274292949931465,\n",
       " 0.6918861042101259,\n",
       " 0.6470906711732973,\n",
       " 0.5138757738202011,\n",
       " 0.47629494405323275,\n",
       " 0.5760317775322081,\n",
       " 0.6074689461116967,\n",
       " 0.4745610789195469,\n",
       " 0.3913261564180323,\n",
       " 0.36379273468703316,\n",
       " 0.425019358945075,\n",
       " 0.7650292453791163]"
      ]
     },
     "metadata": {},
     "output_type": "display_data"
    },
    {
     "data": {
      "text/plain": [
       "'StateError: 0.24446272281213532'"
      ]
     },
     "metadata": {},
     "output_type": "display_data"
    },
    {
     "data": {
      "text/plain": [
       "array([1.        , 0.99941171, 0.92005099, 0.852613  , 0.71985489,\n",
       "       0.54295519, 0.57360526])"
      ]
     },
     "metadata": {},
     "output_type": "display_data"
    },
    {
     "data": {
      "text/plain": [
       "array([0.60919698, 0.45559369, 0.35356407, 0.26951662, 0.3307187 ,\n",
       "       0.73197372])"
      ]
     },
     "metadata": {},
     "output_type": "display_data"
    },
    {
     "data": {
      "text/plain": [
       "array([0.68254867, 0.71995678, 0.74630037, 0.7648521 , 0.77791662,\n",
       "       0.78711693])"
      ]
     },
     "metadata": {},
     "output_type": "display_data"
    },
    {
     "data": {
      "text/plain": [
       "array([1.        , 0.99941171, 0.92005099, 0.852613  , 0.71985489,\n",
       "       0.54295519, 0.57360526, 0.60919698, 0.45559369, 0.35356407,\n",
       "       0.26951662, 0.3307187 , 0.73197372])"
      ]
     },
     "metadata": {},
     "output_type": "display_data"
    },
    {
     "data": {
      "text/plain": [
       "array([0.79864693, 0.82280616, 0.86135896, 0.74028826, 0.68308658,\n",
       "       0.74048436])"
      ]
     },
     "metadata": {},
     "output_type": "display_data"
    },
    {
     "data": {
      "text/plain": [
       "array([1.01708834, 0.95291728, 0.8295325 , 0.77297603, 0.74705198,\n",
       "       0.73516906])"
      ]
     },
     "metadata": {},
     "output_type": "display_data"
    },
    {
     "data": {
      "text/plain": [
       "array([1.        , 0.99941171, 0.92005099, 0.852613  , 0.71985489,\n",
       "       0.54295519, 0.57360526, 0.60919698, 0.45559369, 0.35356407,\n",
       "       0.26951662, 0.3307187 , 0.73197372, 0.79864693, 0.82280616,\n",
       "       0.86135896, 0.74028826, 0.68308658, 0.74048436])"
      ]
     },
     "metadata": {},
     "output_type": "display_data"
    },
    {
     "data": {
      "text/plain": [
       "array([0.7981959 , 0.69308756, 0.5373468 , 0.48451809, 0.51067752,\n",
       "       0.85565251])"
      ]
     },
     "metadata": {},
     "output_type": "display_data"
    },
    {
     "data": {
      "text/plain": [
       "array([0.74911797, 0.57964126, 0.45136011, 0.3482094 , 0.37827927,\n",
       "       0.70007829])"
      ]
     },
     "metadata": {},
     "output_type": "display_data"
    },
    {
     "data": {
      "text/plain": [
       "array([1.        , 0.99941171, 0.92005099, 0.852613  , 0.71985489,\n",
       "       0.54295519, 0.57360526, 0.60919698, 0.45559369, 0.35356407,\n",
       "       0.26951662, 0.3307187 , 0.73197372, 0.79864693, 0.82280616,\n",
       "       0.86135896, 0.74028826, 0.68308658, 0.74048436, 0.7981959 ,\n",
       "       0.69308756, 0.5373468 , 0.48451809, 0.51067752, 0.85565251])"
      ]
     },
     "metadata": {},
     "output_type": "display_data"
    },
    {
     "data": {
      "text/plain": [
       "array([0.85494656, 0.78564565, 0.75452495, 0.60821649, 0.53471909,\n",
       "       0.61437396])"
      ]
     },
     "metadata": {},
     "output_type": "display_data"
    },
    {
     "data": {
      "text/plain": [
       "array([0.86411553, 0.83122772, 0.81576563, 0.65851023, 0.57281093,\n",
       "       0.60820478])"
      ]
     },
     "metadata": {},
     "output_type": "display_data"
    },
    {
     "data": {
      "text/plain": [
       "array([1.        , 0.99941171, 0.92005099, 0.852613  , 0.71985489,\n",
       "       0.54295519, 0.57360526, 0.60919698, 0.45559369, 0.35356407,\n",
       "       0.26951662, 0.3307187 , 0.73197372, 0.79864693, 0.82280616,\n",
       "       0.86135896, 0.74028826, 0.68308658, 0.74048436, 0.7981959 ,\n",
       "       0.69308756, 0.5373468 , 0.48451809, 0.51067752, 0.85565251,\n",
       "       0.85494656, 0.78564565, 0.75452495, 0.60821649, 0.53471909,\n",
       "       0.61437396])"
      ]
     },
     "metadata": {},
     "output_type": "display_data"
    },
    {
     "data": {
      "text/plain": [
       "array([0.64904402, 0.47116384, 0.3542112 , 0.27390921, 0.34066085,\n",
       "       0.71903128])"
      ]
     },
     "metadata": {},
     "output_type": "display_data"
    },
    {
     "data": {
      "text/plain": [
       "array([0.67748333, 0.55390869, 0.44021044, 0.36745531, 0.41226834,\n",
       "       0.7783839 ])"
      ]
     },
     "metadata": {},
     "output_type": "display_data"
    },
    {
     "data": {
      "text/plain": [
       "array([1.        , 0.99941171, 0.92005099, 0.852613  , 0.71985489,\n",
       "       0.54295519, 0.57360526, 0.60919698, 0.45559369, 0.35356407,\n",
       "       0.26951662, 0.3307187 , 0.73197372, 0.79864693, 0.82280616,\n",
       "       0.86135896, 0.74028826, 0.68308658, 0.74048436, 0.7981959 ,\n",
       "       0.69308756, 0.5373468 , 0.48451809, 0.51067752, 0.85565251,\n",
       "       0.85494656, 0.78564565, 0.75452495, 0.60821649, 0.53471909,\n",
       "       0.61437396, 0.64904402, 0.47116384, 0.3542112 , 0.27390921,\n",
       "       0.34066085, 0.71903128])"
      ]
     },
     "metadata": {},
     "output_type": "display_data"
    },
    {
     "data": {
      "text/plain": [
       "array([0.7688793 , 0.76958525, 0.72418865, 0.65371115, 0.57013433,\n",
       "       0.62904206])"
      ]
     },
     "metadata": {},
     "output_type": "display_data"
    },
    {
     "data": {
      "text/plain": [
       "array([0.77748589, 0.7938925 , 0.82767803, 0.7108167 , 0.65640425,\n",
       "       0.71770006])"
      ]
     },
     "metadata": {},
     "output_type": "display_data"
    },
    {
     "data": {
      "text/plain": [
       "array([1.        , 0.99941171, 0.92005099, 0.852613  , 0.71985489,\n",
       "       0.54295519, 0.57360526, 0.60919698, 0.45559369, 0.35356407,\n",
       "       0.26951662, 0.3307187 , 0.73197372, 0.79864693, 0.82280616,\n",
       "       0.86135896, 0.74028826, 0.68308658, 0.74048436, 0.7981959 ,\n",
       "       0.69308756, 0.5373468 , 0.48451809, 0.51067752, 0.85565251,\n",
       "       0.85494656, 0.78564565, 0.75452495, 0.60821649, 0.53471909,\n",
       "       0.61437396, 0.64904402, 0.47116384, 0.3542112 , 0.27390921,\n",
       "       0.34066085, 0.71903128, 0.7688793 , 0.76958525, 0.72418865,\n",
       "       0.65371115, 0.57013433, 0.62904206])"
      ]
     },
     "metadata": {},
     "output_type": "display_data"
    },
    {
     "data": {
      "text/plain": [
       "array([0.57848809, 0.37615452, 0.28526326, 0.18866556, 0.2293166 ,\n",
       "       0.52677714])"
      ]
     },
     "metadata": {},
     "output_type": "display_data"
    },
    {
     "data": {
      "text/plain": [
       "array([0.68782545, 0.57893926, 0.44679634, 0.39761368, 0.43988451,\n",
       "       0.78871721])"
      ]
     },
     "metadata": {},
     "output_type": "display_data"
    },
    {
     "data": {
      "text/plain": [
       "array([1.        , 0.99941171, 0.92005099, 0.852613  , 0.71985489,\n",
       "       0.54295519, 0.57360526, 0.60919698, 0.45559369, 0.35356407,\n",
       "       0.26951662, 0.3307187 , 0.73197372, 0.79864693, 0.82280616,\n",
       "       0.86135896, 0.74028826, 0.68308658, 0.74048436, 0.7981959 ,\n",
       "       0.69308756, 0.5373468 , 0.48451809, 0.51067752, 0.85565251,\n",
       "       0.85494656, 0.78564565, 0.75452495, 0.60821649, 0.53471909,\n",
       "       0.61437396, 0.64904402, 0.47116384, 0.3542112 , 0.27390921,\n",
       "       0.34066085, 0.71903128, 0.7688793 , 0.76958525, 0.72418865,\n",
       "       0.65371115, 0.57013433, 0.62904206, 0.57848809, 0.37615452,\n",
       "       0.28526326, 0.18866556, 0.2293166 , 0.52677714])"
      ]
     },
     "metadata": {},
     "output_type": "display_data"
    },
    {
     "data": {
      "text/plain": [
       "array([0.52577704, 0.46296696, 0.44067065, 0.2849495 , 0.20764781,\n",
       "       0.29975488])"
      ]
     },
     "metadata": {},
     "output_type": "display_data"
    },
    {
     "data": {
      "text/plain": [
       "array([0.55270516, 0.53935314, 0.52664397, 0.44749514, 0.39480066,\n",
       "       0.47951729])"
      ]
     },
     "metadata": {},
     "output_type": "display_data"
    },
    {
     "data": {
      "text/plain": [
       "array([1.        , 0.99941171, 0.92005099, 0.852613  , 0.71985489,\n",
       "       0.54295519, 0.57360526, 0.60919698, 0.45559369, 0.35356407,\n",
       "       0.26951662, 0.3307187 , 0.73197372, 0.79864693, 0.82280616,\n",
       "       0.86135896, 0.74028826, 0.68308658, 0.74048436, 0.7981959 ,\n",
       "       0.69308756, 0.5373468 , 0.48451809, 0.51067752, 0.85565251,\n",
       "       0.85494656, 0.78564565, 0.75452495, 0.60821649, 0.53471909,\n",
       "       0.61437396, 0.64904402, 0.47116384, 0.3542112 , 0.27390921,\n",
       "       0.34066085, 0.71903128, 0.7688793 , 0.76958525, 0.72418865,\n",
       "       0.65371115, 0.57013433, 0.62904206, 0.57848809, 0.37615452,\n",
       "       0.28526326, 0.18866556, 0.2293166 , 0.52677714, 0.52577704,\n",
       "       0.46296696, 0.44067065, 0.2849495 , 0.20764781, 0.29975488])"
      ]
     },
     "metadata": {},
     "output_type": "display_data"
    },
    {
     "data": {
      "text/plain": [
       "array([0.26416315, 0.12920875, 0.08240024, 0.        , 0.07659574,\n",
       "       0.3479949 ])"
      ]
     },
     "metadata": {},
     "output_type": "display_data"
    },
    {
     "data": {
      "text/plain": [
       "array([ 0.33511388,  0.18380653,  0.06084504, -0.01107965,  0.03610697,\n",
       "        0.38180539])"
      ]
     },
     "metadata": {},
     "output_type": "display_data"
    },
    {
     "data": {
      "text/plain": [
       "array([1.        , 0.99941171, 0.92005099, 0.852613  , 0.71985489,\n",
       "       0.54295519, 0.57360526, 0.60919698, 0.45559369, 0.35356407,\n",
       "       0.26951662, 0.3307187 , 0.73197372, 0.79864693, 0.82280616,\n",
       "       0.86135896, 0.74028826, 0.68308658, 0.74048436, 0.7981959 ,\n",
       "       0.69308756, 0.5373468 , 0.48451809, 0.51067752, 0.85565251,\n",
       "       0.85494656, 0.78564565, 0.75452495, 0.60821649, 0.53471909,\n",
       "       0.61437396, 0.64904402, 0.47116384, 0.3542112 , 0.27390921,\n",
       "       0.34066085, 0.71903128, 0.7688793 , 0.76958525, 0.72418865,\n",
       "       0.65371115, 0.57013433, 0.62904206, 0.57848809, 0.37615452,\n",
       "       0.28526326, 0.18866556, 0.2293166 , 0.52677714, 0.52577704,\n",
       "       0.46296696, 0.44067065, 0.2849495 , 0.20764781, 0.29975488,\n",
       "       0.26416315, 0.12920875, 0.08240024, 0.        , 0.07659574,\n",
       "       0.3479949 ])"
      ]
     },
     "metadata": {},
     "output_type": "display_data"
    },
    {
     "data": {
      "text/plain": [
       "array([0.31732523, 0.28979312, 0.2901657 , 0.22645357, 0.1461908 ,\n",
       "       0.22417884])"
      ]
     },
     "metadata": {},
     "output_type": "display_data"
    },
    {
     "data": {
      "text/plain": [
       "array([0.35938873, 0.32777534, 0.29338081, 0.18660606, 0.10870189,\n",
       "       0.17957283])"
      ]
     },
     "metadata": {},
     "output_type": "display_data"
    },
    {
     "data": {
      "text/plain": [
       "array([1.        , 0.99941171, 0.92005099, 0.852613  , 0.71985489,\n",
       "       0.54295519, 0.57360526, 0.60919698, 0.45559369, 0.35356407,\n",
       "       0.26951662, 0.3307187 , 0.73197372, 0.79864693, 0.82280616,\n",
       "       0.86135896, 0.74028826, 0.68308658, 0.74048436, 0.7981959 ,\n",
       "       0.69308756, 0.5373468 , 0.48451809, 0.51067752, 0.85565251,\n",
       "       0.85494656, 0.78564565, 0.75452495, 0.60821649, 0.53471909,\n",
       "       0.61437396, 0.64904402, 0.47116384, 0.3542112 , 0.27390921,\n",
       "       0.34066085, 0.71903128, 0.7688793 , 0.76958525, 0.72418865,\n",
       "       0.65371115, 0.57013433, 0.62904206, 0.57848809, 0.37615452,\n",
       "       0.28526326, 0.18866556, 0.2293166 , 0.52677714, 0.52577704,\n",
       "       0.46296696, 0.44067065, 0.2849495 , 0.20764781, 0.29975488,\n",
       "       0.26416315, 0.12920875, 0.08240024, 0.        , 0.07659574,\n",
       "       0.3479949 , 0.31732523, 0.28979312, 0.2901657 , 0.22645357,\n",
       "       0.1461908 , 0.22417884])"
      ]
     },
     "metadata": {},
     "output_type": "display_data"
    },
    {
     "data": {
      "text/plain": [
       "array([ 0.18772429,  0.06292774,  0.00954996, -0.04572997,  0.00437298,\n",
       "        0.26759486])"
      ]
     },
     "metadata": {},
     "output_type": "display_data"
    },
    {
     "data": {
      "text/plain": [
       "array([ 0.18346049,  0.01833035, -0.05017469, -0.13730397, -0.08300224,\n",
       "        0.19111936])"
      ]
     },
     "metadata": {},
     "output_type": "display_data"
    },
    {
     "data": {
      "text/plain": [
       "array([ 0.60919698,  0.45559369,  0.35356407,  0.26951662,  0.3307187 ,\n",
       "        0.73197372,  0.79864693,  0.82280616,  0.86135896,  0.74028826,\n",
       "        0.68308658,  0.74048436,  0.7981959 ,  0.69308756,  0.5373468 ,\n",
       "        0.48451809,  0.51067752,  0.85565251,  0.85494656,  0.78564565,\n",
       "        0.75452495,  0.60821649,  0.53471909,  0.61437396,  0.64904402,\n",
       "        0.47116384,  0.3542112 ,  0.27390921,  0.34066085,  0.71903128,\n",
       "        0.7688793 ,  0.76958525,  0.72418865,  0.65371115,  0.57013433,\n",
       "        0.62904206,  0.57848809,  0.37615452,  0.28526326,  0.18866556,\n",
       "        0.2293166 ,  0.52677714,  0.52577704,  0.46296696,  0.44067065,\n",
       "        0.2849495 ,  0.20764781,  0.29975488,  0.26416315,  0.12920875,\n",
       "        0.08240024,  0.        ,  0.07659574,  0.3479949 ,  0.31732523,\n",
       "        0.28979312,  0.2901657 ,  0.22645357,  0.1461908 ,  0.22417884,\n",
       "        0.18772429,  0.06292774,  0.00954996, -0.04572997,  0.00437298,\n",
       "        0.26759486])"
      ]
     },
     "metadata": {},
     "output_type": "display_data"
    },
    {
     "data": {
      "text/plain": [
       "[0.6825486743546624,\n",
       " 0.7199567809665617,\n",
       " 0.7463003724931573,\n",
       " 0.764852095030736,\n",
       " 0.7779166161976334,\n",
       " 0.7871169323933168,\n",
       " 1.0170883373239858,\n",
       " 0.9529172847016656,\n",
       " 0.8295324963440328,\n",
       " 0.7729760339313366,\n",
       " 0.7470519837853216,\n",
       " 0.7351690556935846,\n",
       " 0.7491179726166708,\n",
       " 0.5796412595097666,\n",
       " 0.45136010554960093,\n",
       " 0.3482094006642277,\n",
       " 0.3782792653154121,\n",
       " 0.7000782930282652,\n",
       " 0.8641155308042413,\n",
       " 0.8312277222958782,\n",
       " 0.8157656281058516,\n",
       " 0.6585102307632444,\n",
       " 0.5728109296569223,\n",
       " 0.6082047845961603,\n",
       " 0.6774833325591443,\n",
       " 0.5539086883196191,\n",
       " 0.4402104410342849,\n",
       " 0.3674553096207408,\n",
       " 0.4122683376853319,\n",
       " 0.7783839033105173,\n",
       " 0.7774858870656807,\n",
       " 0.7938924959823154,\n",
       " 0.8276780292965329,\n",
       " 0.7108167003904352,\n",
       " 0.6564042451937306,\n",
       " 0.7177000649680683,\n",
       " 0.6878254454683264,\n",
       " 0.5789392566677134,\n",
       " 0.44679633976895,\n",
       " 0.39761367592031466,\n",
       " 0.4398845088634186,\n",
       " 0.7887172067619472,\n",
       " 0.5527051624654333,\n",
       " 0.5393531387591748,\n",
       " 0.5266439736767097,\n",
       " 0.44749513627548604,\n",
       " 0.3948006627940703,\n",
       " 0.47951729226587475,\n",
       " 0.33511388005170845,\n",
       " 0.18380653127185884,\n",
       " 0.06084504094804315,\n",
       " -0.01107964700162277,\n",
       " 0.036106973354196714,\n",
       " 0.38180539379420736,\n",
       " 0.35938873210986394,\n",
       " 0.32777533762936173,\n",
       " 0.2933808129306089,\n",
       " 0.186606064890992,\n",
       " 0.10870189484498133,\n",
       " 0.17957282972191496,\n",
       " 0.1834604923190109,\n",
       " 0.01833035412182052,\n",
       " -0.050174694816804616,\n",
       " -0.13730396882859422,\n",
       " -0.0830022430389708,\n",
       " 0.1911193596909851]"
      ]
     },
     "metadata": {},
     "output_type": "display_data"
    },
    {
     "data": {
      "text/plain": [
       "'StateError: 0.14005270729959055'"
      ]
     },
     "metadata": {},
     "output_type": "display_data"
    },
    {
     "data": {
      "text/plain": [
       "array([1.        , 0.98954479, 0.92491624, 0.83846226, 0.71382053,\n",
       "       0.59840952, 0.6076537 ])"
      ]
     },
     "metadata": {},
     "output_type": "display_data"
    },
    {
     "data": {
      "text/plain": [
       "array([0.61958906, 0.51810488, 0.44159479, 0.43077627, 0.50405695,\n",
       "       0.7872223 ])"
      ]
     },
     "metadata": {},
     "output_type": "display_data"
    },
    {
     "data": {
      "text/plain": [
       "array([0.6986065 , 0.83214164, 0.95480957, 1.02009101, 1.00589337,\n",
       "       0.92176897])"
      ]
     },
     "metadata": {},
     "output_type": "display_data"
    },
    {
     "data": {
      "text/plain": [
       "array([1.        , 0.98954479, 0.92491624, 0.83846226, 0.71382053,\n",
       "       0.59840952, 0.6076537 , 0.61958906, 0.51810488, 0.44159479,\n",
       "       0.43077627, 0.50405695, 0.7872223 ])"
      ]
     },
     "metadata": {},
     "output_type": "display_data"
    },
    {
     "data": {
      "text/plain": [
       "array([0.81823809, 0.79921149, 0.71827442, 0.58297563, 0.50812062,\n",
       "       0.50292665])"
      ]
     },
     "metadata": {},
     "output_type": "display_data"
    },
    {
     "data": {
      "text/plain": [
       "array([1.11284548, 1.25659105, 1.21867508, 1.05461802, 0.84494128,\n",
       "       0.66457956])"
      ]
     },
     "metadata": {},
     "output_type": "display_data"
    },
    {
     "data": {
      "text/plain": [
       "array([1.        , 0.98954479, 0.92491624, 0.83846226, 0.71382053,\n",
       "       0.59840952, 0.6076537 , 0.61958906, 0.51810488, 0.44159479,\n",
       "       0.43077627, 0.50405695, 0.7872223 , 0.81823809, 0.79921149,\n",
       "       0.71827442, 0.58297563, 0.50812062, 0.50292665])"
      ]
     },
     "metadata": {},
     "output_type": "display_data"
    },
    {
     "data": {
      "text/plain": [
       "array([0.50116393, 0.38713888, 0.29176366, 0.29320344, 0.35717265,\n",
       "       0.61937376])"
      ]
     },
     "metadata": {},
     "output_type": "display_data"
    },
    {
     "data": {
      "text/plain": [
       "array([0.5164385 , 0.43177418, 0.37392065, 0.37826109, 0.46054921,\n",
       "       0.73808473])"
      ]
     },
     "metadata": {},
     "output_type": "display_data"
    },
    {
     "data": {
      "text/plain": [
       "array([1.        , 0.98954479, 0.92491624, 0.83846226, 0.71382053,\n",
       "       0.59840952, 0.6076537 , 0.61958906, 0.51810488, 0.44159479,\n",
       "       0.43077627, 0.50405695, 0.7872223 , 0.81823809, 0.79921149,\n",
       "       0.71827442, 0.58297563, 0.50812062, 0.50292665, 0.50116393,\n",
       "       0.38713888, 0.29176366, 0.29320344, 0.35717265, 0.61937376])"
      ]
     },
     "metadata": {},
     "output_type": "display_data"
    },
    {
     "data": {
      "text/plain": [
       "array([0.66056219, 0.61446237, 0.45801095, 0.32263143, 0.23783253,\n",
       "       0.24896053])"
      ]
     },
     "metadata": {},
     "output_type": "display_data"
    },
    {
     "data": {
      "text/plain": [
       "array([0.64460833, 0.62405644, 0.54455363, 0.41278614, 0.33967758,\n",
       "       0.33406604])"
      ]
     },
     "metadata": {},
     "output_type": "display_data"
    },
    {
     "data": {
      "text/plain": [
       "array([1.        , 0.98954479, 0.92491624, 0.83846226, 0.71382053,\n",
       "       0.59840952, 0.6076537 , 0.61958906, 0.51810488, 0.44159479,\n",
       "       0.43077627, 0.50405695, 0.7872223 , 0.81823809, 0.79921149,\n",
       "       0.71827442, 0.58297563, 0.50812062, 0.50292665, 0.50116393,\n",
       "       0.38713888, 0.29176366, 0.29320344, 0.35717265, 0.61937376,\n",
       "       0.66056219, 0.61446237, 0.45801095, 0.32263143, 0.23783253,\n",
       "       0.24896053])"
      ]
     },
     "metadata": {},
     "output_type": "display_data"
    },
    {
     "data": {
      "text/plain": [
       "array([0.23808819, 0.13088526, 0.08781302, 0.10243955, 0.22347511,\n",
       "       0.51653054])"
      ]
     },
     "metadata": {},
     "output_type": "display_data"
    },
    {
     "data": {
      "text/plain": [
       "array([0.25226486, 0.14406896, 0.05244531, 0.05322884, 0.11383159,\n",
       "       0.3645144 ])"
      ]
     },
     "metadata": {},
     "output_type": "display_data"
    },
    {
     "data": {
      "text/plain": [
       "array([1.        , 0.98954479, 0.92491624, 0.83846226, 0.71382053,\n",
       "       0.59840952, 0.6076537 , 0.61958906, 0.51810488, 0.44159479,\n",
       "       0.43077627, 0.50405695, 0.7872223 , 0.81823809, 0.79921149,\n",
       "       0.71827442, 0.58297563, 0.50812062, 0.50292665, 0.50116393,\n",
       "       0.38713888, 0.29176366, 0.29320344, 0.35717265, 0.61937376,\n",
       "       0.66056219, 0.61446237, 0.45801095, 0.32263143, 0.23783253,\n",
       "       0.24896053, 0.23808819, 0.13088526, 0.08781302, 0.10243955,\n",
       "       0.22347511, 0.51653054])"
      ]
     },
     "metadata": {},
     "output_type": "display_data"
    },
    {
     "data": {
      "text/plain": [
       "array([0.5169073 , 0.43331943, 0.31122085, 0.21696247, 0.17380949,\n",
       "       0.21223946])"
      ]
     },
     "metadata": {},
     "output_type": "display_data"
    },
    {
     "data": {
      "text/plain": [
       "array([0.57249432, 0.53464025, 0.38698138, 0.25785661, 0.17651763,\n",
       "       0.18679626])"
      ]
     },
     "metadata": {},
     "output_type": "display_data"
    },
    {
     "data": {
      "text/plain": [
       "array([1.        , 0.98954479, 0.92491624, 0.83846226, 0.71382053,\n",
       "       0.59840952, 0.6076537 , 0.61958906, 0.51810488, 0.44159479,\n",
       "       0.43077627, 0.50405695, 0.7872223 , 0.81823809, 0.79921149,\n",
       "       0.71827442, 0.58297563, 0.50812062, 0.50292665, 0.50116393,\n",
       "       0.38713888, 0.29176366, 0.29320344, 0.35717265, 0.61937376,\n",
       "       0.66056219, 0.61446237, 0.45801095, 0.32263143, 0.23783253,\n",
       "       0.24896053, 0.23808819, 0.13088526, 0.08781302, 0.10243955,\n",
       "       0.22347511, 0.51653054, 0.5169073 , 0.43331943, 0.31122085,\n",
       "       0.21696247, 0.17380949, 0.21223946])"
      ]
     },
     "metadata": {},
     "output_type": "display_data"
    },
    {
     "data": {
      "text/plain": [
       "array([0.1784114 , 0.10771425, 0.07973949, 0.07750582, 0.1491987 ,\n",
       "       0.35972927])"
      ]
     },
     "metadata": {},
     "output_type": "display_data"
    },
    {
     "data": {
      "text/plain": [
       "array([0.21244137, 0.09621943, 0.02217298, 0.02911515, 0.12047085,\n",
       "       0.39100551])"
      ]
     },
     "metadata": {},
     "output_type": "display_data"
    },
    {
     "data": {
      "text/plain": [
       "array([1.        , 0.98954479, 0.92491624, 0.83846226, 0.71382053,\n",
       "       0.59840952, 0.6076537 , 0.61958906, 0.51810488, 0.44159479,\n",
       "       0.43077627, 0.50405695, 0.7872223 , 0.81823809, 0.79921149,\n",
       "       0.71827442, 0.58297563, 0.50812062, 0.50292665, 0.50116393,\n",
       "       0.38713888, 0.29176366, 0.29320344, 0.35717265, 0.61937376,\n",
       "       0.66056219, 0.61446237, 0.45801095, 0.32263143, 0.23783253,\n",
       "       0.24896053, 0.23808819, 0.13088526, 0.08781302, 0.10243955,\n",
       "       0.22347511, 0.51653054, 0.5169073 , 0.43331943, 0.31122085,\n",
       "       0.21696247, 0.17380949, 0.21223946, 0.1784114 , 0.10771425,\n",
       "       0.07973949, 0.07750582, 0.1491987 , 0.35972927])"
      ]
     },
     "metadata": {},
     "output_type": "display_data"
    },
    {
     "data": {
      "text/plain": [
       "array([0.39536042, 0.31994026, 0.22685254, 0.12725218, 0.08744971,\n",
       "       0.11919211])"
      ]
     },
     "metadata": {},
     "output_type": "display_data"
    },
    {
     "data": {
      "text/plain": [
       "array([ 0.33427843,  0.24514908,  0.12581021,  0.03486737, -0.00727741,\n",
       "        0.02738962])"
      ]
     },
     "metadata": {},
     "output_type": "display_data"
    },
    {
     "data": {
      "text/plain": [
       "array([1.        , 0.98954479, 0.92491624, 0.83846226, 0.71382053,\n",
       "       0.59840952, 0.6076537 , 0.61958906, 0.51810488, 0.44159479,\n",
       "       0.43077627, 0.50405695, 0.7872223 , 0.81823809, 0.79921149,\n",
       "       0.71827442, 0.58297563, 0.50812062, 0.50292665, 0.50116393,\n",
       "       0.38713888, 0.29176366, 0.29320344, 0.35717265, 0.61937376,\n",
       "       0.66056219, 0.61446237, 0.45801095, 0.32263143, 0.23783253,\n",
       "       0.24896053, 0.23808819, 0.13088526, 0.08781302, 0.10243955,\n",
       "       0.22347511, 0.51653054, 0.5169073 , 0.43331943, 0.31122085,\n",
       "       0.21696247, 0.17380949, 0.21223946, 0.1784114 , 0.10771425,\n",
       "       0.07973949, 0.07750582, 0.1491987 , 0.35972927, 0.39536042,\n",
       "       0.31994026, 0.22685254, 0.12725218, 0.08744971, 0.11919211])"
      ]
     },
     "metadata": {},
     "output_type": "display_data"
    },
    {
     "data": {
      "text/plain": [
       "array([0.07655045, 0.01178734, 0.        , 0.00557073, 0.09812021,\n",
       "       0.30243417])"
      ]
     },
     "metadata": {},
     "output_type": "display_data"
    },
    {
     "data": {
      "text/plain": [
       "array([ 0.09330008,  0.01566049, -0.01560513, -0.01377649,  0.06737581,\n",
       "        0.29008588])"
      ]
     },
     "metadata": {},
     "output_type": "display_data"
    },
    {
     "data": {
      "text/plain": [
       "array([1.        , 0.98954479, 0.92491624, 0.83846226, 0.71382053,\n",
       "       0.59840952, 0.6076537 , 0.61958906, 0.51810488, 0.44159479,\n",
       "       0.43077627, 0.50405695, 0.7872223 , 0.81823809, 0.79921149,\n",
       "       0.71827442, 0.58297563, 0.50812062, 0.50292665, 0.50116393,\n",
       "       0.38713888, 0.29176366, 0.29320344, 0.35717265, 0.61937376,\n",
       "       0.66056219, 0.61446237, 0.45801095, 0.32263143, 0.23783253,\n",
       "       0.24896053, 0.23808819, 0.13088526, 0.08781302, 0.10243955,\n",
       "       0.22347511, 0.51653054, 0.5169073 , 0.43331943, 0.31122085,\n",
       "       0.21696247, 0.17380949, 0.21223946, 0.1784114 , 0.10771425,\n",
       "       0.07973949, 0.07750582, 0.1491987 , 0.35972927, 0.39536042,\n",
       "       0.31994026, 0.22685254, 0.12725218, 0.08744971, 0.11919211,\n",
       "       0.07655045, 0.01178734, 0.        , 0.00557073, 0.09812021,\n",
       "       0.30243417])"
      ]
     },
     "metadata": {},
     "output_type": "display_data"
    },
    {
     "data": {
      "text/plain": [
       "array([0.3120282 , 0.26373508, 0.18386103, 0.09124426, 0.02870137,\n",
       "       0.05165709])"
      ]
     },
     "metadata": {},
     "output_type": "display_data"
    },
    {
     "data": {
      "text/plain": [
       "array([0.32447644, 0.24896393, 0.15301218, 0.05832157, 0.01899921,\n",
       "       0.05016381])"
      ]
     },
     "metadata": {},
     "output_type": "display_data"
    },
    {
     "data": {
      "text/plain": [
       "array([1.        , 0.98954479, 0.92491624, 0.83846226, 0.71382053,\n",
       "       0.59840952, 0.6076537 , 0.61958906, 0.51810488, 0.44159479,\n",
       "       0.43077627, 0.50405695, 0.7872223 , 0.81823809, 0.79921149,\n",
       "       0.71827442, 0.58297563, 0.50812062, 0.50292665, 0.50116393,\n",
       "       0.38713888, 0.29176366, 0.29320344, 0.35717265, 0.61937376,\n",
       "       0.66056219, 0.61446237, 0.45801095, 0.32263143, 0.23783253,\n",
       "       0.24896053, 0.23808819, 0.13088526, 0.08781302, 0.10243955,\n",
       "       0.22347511, 0.51653054, 0.5169073 , 0.43331943, 0.31122085,\n",
       "       0.21696247, 0.17380949, 0.21223946, 0.1784114 , 0.10771425,\n",
       "       0.07973949, 0.07750582, 0.1491987 , 0.35972927, 0.39536042,\n",
       "       0.31994026, 0.22685254, 0.12725218, 0.08744971, 0.11919211,\n",
       "       0.07655045, 0.01178734, 0.        , 0.00557073, 0.09812021,\n",
       "       0.30243417, 0.3120282 , 0.26373508, 0.18386103, 0.09124426,\n",
       "       0.02870137, 0.05165709])"
      ]
     },
     "metadata": {},
     "output_type": "display_data"
    },
    {
     "data": {
      "text/plain": [
       "array([ 0.01414212, -0.02614476, -0.03292652, -0.01344242,  0.04712246,\n",
       "        0.23611018])"
      ]
     },
     "metadata": {},
     "output_type": "display_data"
    },
    {
     "data": {
      "text/plain": [
       "array([ 0.01489186, -0.04687978, -0.0631135 , -0.06102959,  0.02071072,\n",
       "        0.21821039])"
      ]
     },
     "metadata": {},
     "output_type": "display_data"
    },
    {
     "data": {
      "text/plain": [
       "array([ 0.61958906,  0.51810488,  0.44159479,  0.43077627,  0.50405695,\n",
       "        0.7872223 ,  0.81823809,  0.79921149,  0.71827442,  0.58297563,\n",
       "        0.50812062,  0.50292665,  0.50116393,  0.38713888,  0.29176366,\n",
       "        0.29320344,  0.35717265,  0.61937376,  0.66056219,  0.61446237,\n",
       "        0.45801095,  0.32263143,  0.23783253,  0.24896053,  0.23808819,\n",
       "        0.13088526,  0.08781302,  0.10243955,  0.22347511,  0.51653054,\n",
       "        0.5169073 ,  0.43331943,  0.31122085,  0.21696247,  0.17380949,\n",
       "        0.21223946,  0.1784114 ,  0.10771425,  0.07973949,  0.07750582,\n",
       "        0.1491987 ,  0.35972927,  0.39536042,  0.31994026,  0.22685254,\n",
       "        0.12725218,  0.08744971,  0.11919211,  0.07655045,  0.01178734,\n",
       "        0.        ,  0.00557073,  0.09812021,  0.30243417,  0.3120282 ,\n",
       "        0.26373508,  0.18386103,  0.09124426,  0.02870137,  0.05165709,\n",
       "        0.01414212, -0.02614476, -0.03292652, -0.01344242,  0.04712246,\n",
       "        0.23611018])"
      ]
     },
     "metadata": {},
     "output_type": "display_data"
    },
    {
     "data": {
      "text/plain": [
       "[0.6986064953149582,\n",
       " 0.8321416392069076,\n",
       " 0.954809573527334,\n",
       " 1.0200910058296642,\n",
       " 1.0058933713122227,\n",
       " 0.9217689671228438,\n",
       " 1.1128454792002083,\n",
       " 1.2565910528524464,\n",
       " 1.2186750786910063,\n",
       " 1.0546180181233673,\n",
       " 0.8449412835018806,\n",
       " 0.6645795605344943,\n",
       " 0.5164384992997934,\n",
       " 0.43177418485941754,\n",
       " 0.3739206540044995,\n",
       " 0.3782610893363662,\n",
       " 0.4605492131040817,\n",
       " 0.7380847300150554,\n",
       " 0.6446083265923458,\n",
       " 0.6240564427669519,\n",
       " 0.544553625138388,\n",
       " 0.41278613986428253,\n",
       " 0.3396775756167301,\n",
       " 0.3340660414652457,\n",
       " 0.25226486387123287,\n",
       " 0.14406896031622884,\n",
       " 0.052445305521136715,\n",
       " 0.05322884452094458,\n",
       " 0.11383159387802848,\n",
       " 0.3645144005507471,\n",
       " 0.5724943219770102,\n",
       " 0.534640253227805,\n",
       " 0.38698138008250166,\n",
       " 0.2578566149203524,\n",
       " 0.17651762764211495,\n",
       " 0.18679625976964892,\n",
       " 0.21244137062171903,\n",
       " 0.09621943141683995,\n",
       " 0.022172980238786763,\n",
       " 0.029115152367030307,\n",
       " 0.12047084988435114,\n",
       " 0.39100550655468574,\n",
       " 0.33427842510472244,\n",
       " 0.2451490813888081,\n",
       " 0.12581021421810978,\n",
       " 0.0348673731481573,\n",
       " -0.007277410739814846,\n",
       " 0.027389619154739052,\n",
       " 0.09330007583802011,\n",
       " 0.015660487403618806,\n",
       " -0.015605127834231715,\n",
       " -0.013776493096696665,\n",
       " 0.06737581048838757,\n",
       " 0.29008588494830195,\n",
       " 0.32447643653664104,\n",
       " 0.24896392881677687,\n",
       " 0.15301217698403846,\n",
       " 0.0583215654767371,\n",
       " 0.018999205430326363,\n",
       " 0.050163811273873614,\n",
       " 0.014891855427667668,\n",
       " -0.04687977916571684,\n",
       " -0.06311349830261967,\n",
       " -0.06102958619398479,\n",
       " 0.020710719428831605,\n",
       " 0.2182103947500453]"
      ]
     },
     "metadata": {},
     "output_type": "display_data"
    },
    {
     "data": {
      "text/plain": [
       "'StateError: 0.17805482669157113'"
      ]
     },
     "metadata": {},
     "output_type": "display_data"
    },
    {
     "data": {
      "text/plain": [
       "array([1.        , 0.96858884, 0.87065888, 0.7718093 , 0.62422013,\n",
       "       0.50126222, 0.48415017])"
      ]
     },
     "metadata": {},
     "output_type": "display_data"
    },
    {
     "data": {
      "text/plain": [
       "array([0.46912979, 0.38326301, 0.33771503, 0.39361318, 0.50254246,\n",
       "       0.80015507])"
      ]
     },
     "metadata": {},
     "output_type": "display_data"
    },
    {
     "data": {
      "text/plain": [
       "array([0.55050565, 0.6766201 , 0.82154993, 0.9403188 , 0.99780009,\n",
       "       0.9790178 ])"
      ]
     },
     "metadata": {},
     "output_type": "display_data"
    },
    {
     "data": {
      "text/plain": [
       "array([1.        , 0.96858884, 0.87065888, 0.7718093 , 0.62422013,\n",
       "       0.50126222, 0.48415017, 0.46912979, 0.38326301, 0.33771503,\n",
       "       0.39361318, 0.50254246, 0.80015507])"
      ]
     },
     "metadata": {},
     "output_type": "display_data"
    },
    {
     "data": {
      "text/plain": [
       "array([0.82218977, 0.79990263, 0.68161492, 0.5075192 , 0.41590032,\n",
       "       0.36341015])"
      ]
     },
     "metadata": {},
     "output_type": "display_data"
    },
    {
     "data": {
      "text/plain": [
       "array([1.04965823, 1.20608276, 1.24812664, 1.17985204, 1.02708929,\n",
       "       0.82985162])"
      ]
     },
     "metadata": {},
     "output_type": "display_data"
    },
    {
     "data": {
      "text/plain": [
       "array([1.        , 0.96858884, 0.87065888, 0.7718093 , 0.62422013,\n",
       "       0.50126222, 0.48415017, 0.46912979, 0.38326301, 0.33771503,\n",
       "       0.39361318, 0.50254246, 0.80015507, 0.82218977, 0.79990263,\n",
       "       0.68161492, 0.5075192 , 0.41590032, 0.36341015])"
      ]
     },
     "metadata": {},
     "output_type": "display_data"
    },
    {
     "data": {
      "text/plain": [
       "array([0.38109921, 0.2796711 , 0.22031087, 0.30572686, 0.42273432,\n",
       "       0.72761369])"
      ]
     },
     "metadata": {},
     "output_type": "display_data"
    },
    {
     "data": {
      "text/plain": [
       "array([0.34955885, 0.3001983 , 0.29364753, 0.37088238, 0.48706292,\n",
       "       0.75010923])"
      ]
     },
     "metadata": {},
     "output_type": "display_data"
    },
    {
     "data": {
      "text/plain": [
       "array([1.        , 0.96858884, 0.87065888, 0.7718093 , 0.62422013,\n",
       "       0.50126222, 0.48415017, 0.46912979, 0.38326301, 0.33771503,\n",
       "       0.39361318, 0.50254246, 0.80015507, 0.82218977, 0.79990263,\n",
       "       0.68161492, 0.5075192 , 0.41590032, 0.36341015, 0.38109921,\n",
       "       0.2796711 , 0.22031087, 0.30572686, 0.42273432, 0.72761369])"
      ]
     },
     "metadata": {},
     "output_type": "display_data"
    },
    {
     "data": {
      "text/plain": [
       "array([0.77489271, 0.71221465, 0.47394425, 0.28771322, 0.17167947,\n",
       "       0.1530167 ])"
      ]
     },
     "metadata": {},
     "output_type": "display_data"
    },
    {
     "data": {
      "text/plain": [
       "array([0.76832835, 0.76082317, 0.66064921, 0.5063672 , 0.42560618,\n",
       "       0.37943872])"
      ]
     },
     "metadata": {},
     "output_type": "display_data"
    },
    {
     "data": {
      "text/plain": [
       "array([1.        , 0.96858884, 0.87065888, 0.7718093 , 0.62422013,\n",
       "       0.50126222, 0.48415017, 0.46912979, 0.38326301, 0.33771503,\n",
       "       0.39361318, 0.50254246, 0.80015507, 0.82218977, 0.79990263,\n",
       "       0.68161492, 0.5075192 , 0.41590032, 0.36341015, 0.38109921,\n",
       "       0.2796711 , 0.22031087, 0.30572686, 0.42273432, 0.72761369,\n",
       "       0.77489271, 0.71221465, 0.47394425, 0.28771322, 0.17167947,\n",
       "       0.1530167 ])"
      ]
     },
     "metadata": {},
     "output_type": "display_data"
    },
    {
     "data": {
      "text/plain": [
       "array([0.17465469, 0.11084064, 0.09039273, 0.19394857, 0.34916513,\n",
       "       0.67200404])"
      ]
     },
     "metadata": {},
     "output_type": "display_data"
    },
    {
     "data": {
      "text/plain": [
       "array([0.20686643, 0.15529805, 0.13785941, 0.24439635, 0.37325417,\n",
       "       0.66454302])"
      ]
     },
     "metadata": {},
     "output_type": "display_data"
    },
    {
     "data": {
      "text/plain": [
       "array([1.        , 0.96858884, 0.87065888, 0.7718093 , 0.62422013,\n",
       "       0.50126222, 0.48415017, 0.46912979, 0.38326301, 0.33771503,\n",
       "       0.39361318, 0.50254246, 0.80015507, 0.82218977, 0.79990263,\n",
       "       0.68161492, 0.5075192 , 0.41590032, 0.36341015, 0.38109921,\n",
       "       0.2796711 , 0.22031087, 0.30572686, 0.42273432, 0.72761369,\n",
       "       0.77489271, 0.71221465, 0.47394425, 0.28771322, 0.17167947,\n",
       "       0.1530167 , 0.17465469, 0.11084064, 0.09039273, 0.19394857,\n",
       "       0.34916513, 0.67200404])"
      ]
     },
     "metadata": {},
     "output_type": "display_data"
    },
    {
     "data": {
      "text/plain": [
       "array([0.6738613 , 0.58936492, 0.42100328, 0.27977929, 0.19998918,\n",
       "       0.17559234])"
      ]
     },
     "metadata": {},
     "output_type": "display_data"
    },
    {
     "data": {
      "text/plain": [
       "array([0.73073503, 0.67741054, 0.45612408, 0.28209207, 0.17317829,\n",
       "       0.1551588 ])"
      ]
     },
     "metadata": {},
     "output_type": "display_data"
    },
    {
     "data": {
      "text/plain": [
       "array([1.        , 0.96858884, 0.87065888, 0.7718093 , 0.62422013,\n",
       "       0.50126222, 0.48415017, 0.46912979, 0.38326301, 0.33771503,\n",
       "       0.39361318, 0.50254246, 0.80015507, 0.82218977, 0.79990263,\n",
       "       0.68161492, 0.5075192 , 0.41590032, 0.36341015, 0.38109921,\n",
       "       0.2796711 , 0.22031087, 0.30572686, 0.42273432, 0.72761369,\n",
       "       0.77489271, 0.71221465, 0.47394425, 0.28771322, 0.17167947,\n",
       "       0.1530167 , 0.17465469, 0.11084064, 0.09039273, 0.19394857,\n",
       "       0.34916513, 0.67200404, 0.6738613 , 0.58936492, 0.42100328,\n",
       "       0.27977929, 0.19998918, 0.17559234])"
      ]
     },
     "metadata": {},
     "output_type": "display_data"
    },
    {
     "data": {
      "text/plain": [
       "array([0.14730066, 0.07607559, 0.065491  , 0.14852681, 0.2548956 ,\n",
       "       0.5280753 ])"
      ]
     },
     "metadata": {},
     "output_type": "display_data"
    },
    {
     "data": {
      "text/plain": [
       "array([0.18978064, 0.1140311 , 0.07902323, 0.16539888, 0.29606766,\n",
       "       0.59687591])"
      ]
     },
     "metadata": {},
     "output_type": "display_data"
    },
    {
     "data": {
      "text/plain": [
       "array([1.        , 0.96858884, 0.87065888, 0.7718093 , 0.62422013,\n",
       "       0.50126222, 0.48415017, 0.46912979, 0.38326301, 0.33771503,\n",
       "       0.39361318, 0.50254246, 0.80015507, 0.82218977, 0.79990263,\n",
       "       0.68161492, 0.5075192 , 0.41590032, 0.36341015, 0.38109921,\n",
       "       0.2796711 , 0.22031087, 0.30572686, 0.42273432, 0.72761369,\n",
       "       0.77489271, 0.71221465, 0.47394425, 0.28771322, 0.17167947,\n",
       "       0.1530167 , 0.17465469, 0.11084064, 0.09039273, 0.19394857,\n",
       "       0.34916513, 0.67200404, 0.6738613 , 0.58936492, 0.42100328,\n",
       "       0.27977929, 0.19998918, 0.17559234, 0.14730066, 0.07607559,\n",
       "       0.065491  , 0.14852681, 0.2548956 , 0.5280753 ])"
      ]
     },
     "metadata": {},
     "output_type": "display_data"
    },
    {
     "data": {
      "text/plain": [
       "array([0.5406614 , 0.4410004 , 0.30069602, 0.15934581, 0.08278337,\n",
       "       0.08296368])"
      ]
     },
     "metadata": {},
     "output_type": "display_data"
    },
    {
     "data": {
      "text/plain": [
       "array([0.53102136, 0.4602677 , 0.29671247, 0.13935341, 0.04272838,\n",
       "       0.01590901])"
      ]
     },
     "metadata": {},
     "output_type": "display_data"
    },
    {
     "data": {
      "text/plain": [
       "array([1.        , 0.96858884, 0.87065888, 0.7718093 , 0.62422013,\n",
       "       0.50126222, 0.48415017, 0.46912979, 0.38326301, 0.33771503,\n",
       "       0.39361318, 0.50254246, 0.80015507, 0.82218977, 0.79990263,\n",
       "       0.68161492, 0.5075192 , 0.41590032, 0.36341015, 0.38109921,\n",
       "       0.2796711 , 0.22031087, 0.30572686, 0.42273432, 0.72761369,\n",
       "       0.77489271, 0.71221465, 0.47394425, 0.28771322, 0.17167947,\n",
       "       0.1530167 , 0.17465469, 0.11084064, 0.09039273, 0.19394857,\n",
       "       0.34916513, 0.67200404, 0.6738613 , 0.58936492, 0.42100328,\n",
       "       0.27977929, 0.19998918, 0.17559234, 0.14730066, 0.07607559,\n",
       "       0.065491  , 0.14852681, 0.2548956 , 0.5280753 , 0.5406614 ,\n",
       "       0.4410004 , 0.30069602, 0.15934581, 0.08278337, 0.08296368])"
      ]
     },
     "metadata": {},
     "output_type": "display_data"
    },
    {
     "data": {
      "text/plain": [
       "array([0.0496592 , 0.        , 0.01411879, 0.08107036, 0.19533701,\n",
       "       0.45153089])"
      ]
     },
     "metadata": {},
     "output_type": "display_data"
    },
    {
     "data": {
      "text/plain": [
       "array([ 0.08355098,  0.01626017, -0.00316632,  0.0795355 ,  0.19377739,\n",
       "        0.47081856])"
      ]
     },
     "metadata": {},
     "output_type": "display_data"
    },
    {
     "data": {
      "text/plain": [
       "array([1.        , 0.96858884, 0.87065888, 0.7718093 , 0.62422013,\n",
       "       0.50126222, 0.48415017, 0.46912979, 0.38326301, 0.33771503,\n",
       "       0.39361318, 0.50254246, 0.80015507, 0.82218977, 0.79990263,\n",
       "       0.68161492, 0.5075192 , 0.41590032, 0.36341015, 0.38109921,\n",
       "       0.2796711 , 0.22031087, 0.30572686, 0.42273432, 0.72761369,\n",
       "       0.77489271, 0.71221465, 0.47394425, 0.28771322, 0.17167947,\n",
       "       0.1530167 , 0.17465469, 0.11084064, 0.09039273, 0.19394857,\n",
       "       0.34916513, 0.67200404, 0.6738613 , 0.58936492, 0.42100328,\n",
       "       0.27977929, 0.19998918, 0.17559234, 0.14730066, 0.07607559,\n",
       "       0.065491  , 0.14852681, 0.2548956 , 0.5280753 , 0.5406614 ,\n",
       "       0.4410004 , 0.30069602, 0.15934581, 0.08278337, 0.08296368,\n",
       "       0.0496592 , 0.        , 0.01411879, 0.08107036, 0.19533701,\n",
       "       0.45153089])"
      ]
     },
     "metadata": {},
     "output_type": "display_data"
    },
    {
     "data": {
      "text/plain": [
       "array([0.4567781 , 0.37828627, 0.23821631, 0.11033575, 0.00869126,\n",
       "       0.00084749])"
      ]
     },
     "metadata": {},
     "output_type": "display_data"
    },
    {
     "data": {
      "text/plain": [
       "array([0.46259635, 0.36806455, 0.23529595, 0.10154714, 0.02877069,\n",
       "       0.0282164 ])"
      ]
     },
     "metadata": {},
     "output_type": "display_data"
    },
    {
     "data": {
      "text/plain": [
       "array([1.00000000e+00, 9.68588842e-01, 8.70658877e-01, 7.71809297e-01,\n",
       "       6.24220131e-01, 5.01262216e-01, 4.84150168e-01, 4.69129792e-01,\n",
       "       3.83263010e-01, 3.37715028e-01, 3.93613185e-01, 5.02542465e-01,\n",
       "       8.00155072e-01, 8.22189765e-01, 7.99902629e-01, 6.81614916e-01,\n",
       "       5.07519204e-01, 4.15900321e-01, 3.63410148e-01, 3.81099210e-01,\n",
       "       2.79671102e-01, 2.20310866e-01, 3.05726856e-01, 4.22734321e-01,\n",
       "       7.27613690e-01, 7.74892712e-01, 7.12214649e-01, 4.73944246e-01,\n",
       "       2.87713224e-01, 1.71679469e-01, 1.53016697e-01, 1.74654694e-01,\n",
       "       1.10840636e-01, 9.03927296e-02, 1.93948574e-01, 3.49165134e-01,\n",
       "       6.72004039e-01, 6.73861300e-01, 5.89364925e-01, 4.21003282e-01,\n",
       "       2.79779292e-01, 1.99989181e-01, 1.75592340e-01, 1.47300660e-01,\n",
       "       7.60755887e-02, 6.54910022e-02, 1.48526813e-01, 2.54895597e-01,\n",
       "       5.28075300e-01, 5.40661401e-01, 4.41000397e-01, 3.00696022e-01,\n",
       "       1.59345811e-01, 8.27833676e-02, 8.29636842e-02, 4.96592016e-02,\n",
       "       0.00000000e+00, 1.41187926e-02, 8.10703596e-02, 1.95337012e-01,\n",
       "       4.51530888e-01, 4.56778102e-01, 3.78286271e-01, 2.38216308e-01,\n",
       "       1.10335750e-01, 8.69126186e-03, 8.47488189e-04])"
      ]
     },
     "metadata": {},
     "output_type": "display_data"
    },
    {
     "data": {
      "text/plain": [
       "array([-0.00815031, -0.04055321, -0.01572361,  0.08694868,  0.17380721,\n",
       "        0.38178441])"
      ]
     },
     "metadata": {},
     "output_type": "display_data"
    },
    {
     "data": {
      "text/plain": [
       "array([-0.02178177, -0.07970283, -0.08005383, -0.00730937,  0.10558635,\n",
       "        0.36781746])"
      ]
     },
     "metadata": {},
     "output_type": "display_data"
    },
    {
     "data": {
      "text/plain": [
       "array([ 0.46912979,  0.38326301,  0.33771503,  0.39361318,  0.50254246,\n",
       "        0.80015507,  0.82218977,  0.79990263,  0.68161492,  0.5075192 ,\n",
       "        0.41590032,  0.36341015,  0.38109921,  0.2796711 ,  0.22031087,\n",
       "        0.30572686,  0.42273432,  0.72761369,  0.77489271,  0.71221465,\n",
       "        0.47394425,  0.28771322,  0.17167947,  0.1530167 ,  0.17465469,\n",
       "        0.11084064,  0.09039273,  0.19394857,  0.34916513,  0.67200404,\n",
       "        0.6738613 ,  0.58936492,  0.42100328,  0.27977929,  0.19998918,\n",
       "        0.17559234,  0.14730066,  0.07607559,  0.065491  ,  0.14852681,\n",
       "        0.2548956 ,  0.5280753 ,  0.5406614 ,  0.4410004 ,  0.30069602,\n",
       "        0.15934581,  0.08278337,  0.08296368,  0.0496592 ,  0.        ,\n",
       "        0.01411879,  0.08107036,  0.19533701,  0.45153089,  0.4567781 ,\n",
       "        0.37828627,  0.23821631,  0.11033575,  0.00869126,  0.00084749,\n",
       "       -0.00815031, -0.04055321, -0.01572361,  0.08694868,  0.17380721,\n",
       "        0.38178441])"
      ]
     },
     "metadata": {},
     "output_type": "display_data"
    },
    {
     "data": {
      "text/plain": [
       "[0.5505056496090189,\n",
       " 0.6766201046996916,\n",
       " 0.8215499264318418,\n",
       " 0.9403188038547342,\n",
       " 0.9978000928895338,\n",
       " 0.979017797154605,\n",
       " 1.0496582312168874,\n",
       " 1.2060827634538533,\n",
       " 1.2481266444975119,\n",
       " 1.1798520404014827,\n",
       " 1.0270892859439873,\n",
       " 0.8298516156413421,\n",
       " 0.34955884809126225,\n",
       " 0.3001983032903271,\n",
       " 0.293647529526316,\n",
       " 0.3708823834448428,\n",
       " 0.4870629228260723,\n",
       " 0.7501092279513889,\n",
       " 0.7683283485593974,\n",
       " 0.7608231679695404,\n",
       " 0.6606492068607935,\n",
       " 0.5063671992114385,\n",
       " 0.4256061758959135,\n",
       " 0.3794387168876508,\n",
       " 0.2068664348210765,\n",
       " 0.15529805461617585,\n",
       " 0.13785940714047176,\n",
       " 0.24439634649744507,\n",
       " 0.3732541710759337,\n",
       " 0.664543017214408,\n",
       " 0.7307350299423732,\n",
       " 0.6774105363037345,\n",
       " 0.45612407538567545,\n",
       " 0.28209207286279914,\n",
       " 0.17317828958919262,\n",
       " 0.15515880322763875,\n",
       " 0.18978064316586188,\n",
       " 0.1140311030589191,\n",
       " 0.07902323117746579,\n",
       " 0.16539888441348713,\n",
       " 0.29606765998985307,\n",
       " 0.5968759066360849,\n",
       " 0.5310213641492736,\n",
       " 0.4602676982581221,\n",
       " 0.29671247394685485,\n",
       " 0.13935340911229985,\n",
       " 0.04272837946751104,\n",
       " 0.01590900779337533,\n",
       " 0.08355097779770748,\n",
       " 0.016260165399188592,\n",
       " -0.003166320529111328,\n",
       " 0.07953549550320194,\n",
       " 0.19377739466174276,\n",
       " 0.47081856373010483,\n",
       " 0.462596351461668,\n",
       " 0.3680645464185047,\n",
       " 0.23529595054520291,\n",
       " 0.10154714453992439,\n",
       " 0.028770687085180255,\n",
       " 0.028216400289608173,\n",
       " -0.02178176933436908,\n",
       " -0.07970283342963624,\n",
       " -0.08005383414459018,\n",
       " -0.0073093727963019495,\n",
       " 0.10558634576420026,\n",
       " 0.3678174589244083]"
      ]
     },
     "metadata": {},
     "output_type": "display_data"
    },
    {
     "data": {
      "text/plain": [
       "'StateError: 0.20457782734276492'"
      ]
     },
     "metadata": {},
     "output_type": "display_data"
    },
    {
     "data": {
      "text/plain": [
       "array([1.        , 0.98697161, 0.9203904 , 0.83686779, 0.73125389,\n",
       "       0.61415582, 0.61900585])"
      ]
     },
     "metadata": {},
     "output_type": "display_data"
    },
    {
     "data": {
      "text/plain": [
       "array([0.61331624, 0.52950128, 0.46112098, 0.46340732, 0.55560303,\n",
       "       0.82394435])"
      ]
     },
     "metadata": {},
     "output_type": "display_data"
    },
    {
     "data": {
      "text/plain": [
       "array([0.68064546, 0.7057496 , 0.72650645, 0.74366882, 0.75785918,\n",
       "       0.76959219])"
      ]
     },
     "metadata": {},
     "output_type": "display_data"
    },
    {
     "data": {
      "text/plain": [
       "array([1.        , 0.98697161, 0.9203904 , 0.83686779, 0.73125389,\n",
       "       0.61415582, 0.61900585, 0.61331624, 0.52950128, 0.46112098,\n",
       "       0.46340732, 0.55560303, 0.82394435])"
      ]
     },
     "metadata": {},
     "output_type": "display_data"
    },
    {
     "data": {
      "text/plain": [
       "array([0.88057061, 0.90307419, 0.86934131, 0.73972459, 0.66209399,\n",
       "       0.67146423])"
      ]
     },
     "metadata": {},
     "output_type": "display_data"
    },
    {
     "data": {
      "text/plain": [
       "array([1.04463482, 1.16958222, 1.18041321, 1.08916114, 0.93139374,\n",
       "       0.75444289])"
      ]
     },
     "metadata": {},
     "output_type": "display_data"
    },
    {
     "data": {
      "text/plain": [
       "array([1.        , 0.98697161, 0.9203904 , 0.83686779, 0.73125389,\n",
       "       0.61415582, 0.61900585, 0.61331624, 0.52950128, 0.46112098,\n",
       "       0.46340732, 0.55560303, 0.82394435, 0.88057061, 0.90307419,\n",
       "       0.86934131, 0.73972459, 0.66209399, 0.67146423])"
      ]
     },
     "metadata": {},
     "output_type": "display_data"
    },
    {
     "data": {
      "text/plain": [
       "array([0.62505528, 0.55147263, 0.47690797, 0.47489149, 0.52935885,\n",
       "       0.75291789])"
      ]
     },
     "metadata": {},
     "output_type": "display_data"
    },
    {
     "data": {
      "text/plain": [
       "array([0.65985096, 0.57883973, 0.51015514, 0.50244588, 0.57276772,\n",
       "       0.79048789])"
      ]
     },
     "metadata": {},
     "output_type": "display_data"
    },
    {
     "data": {
      "text/plain": [
       "array([1.        , 0.98697161, 0.9203904 , 0.83686779, 0.73125389,\n",
       "       0.61415582, 0.61900585, 0.61331624, 0.52950128, 0.46112098,\n",
       "       0.46340732, 0.55560303, 0.82394435, 0.88057061, 0.90307419,\n",
       "       0.86934131, 0.73972459, 0.66209399, 0.67146423, 0.62505528,\n",
       "       0.55147263, 0.47690797, 0.47489149, 0.52935885, 0.75291789])"
      ]
     },
     "metadata": {},
     "output_type": "display_data"
    },
    {
     "data": {
      "text/plain": [
       "array([0.7871905 , 0.76144107, 0.63830856, 0.52941882, 0.43867737,\n",
       "       0.44416459])"
      ]
     },
     "metadata": {},
     "output_type": "display_data"
    },
    {
     "data": {
      "text/plain": [
       "array([0.81113353, 0.84857846, 0.83780685, 0.73916249, 0.67892032,\n",
       "       0.68805645])"
      ]
     },
     "metadata": {},
     "output_type": "display_data"
    },
    {
     "data": {
      "text/plain": [
       "array([1.        , 0.98697161, 0.9203904 , 0.83686779, 0.73125389,\n",
       "       0.61415582, 0.61900585, 0.61331624, 0.52950128, 0.46112098,\n",
       "       0.46340732, 0.55560303, 0.82394435, 0.88057061, 0.90307419,\n",
       "       0.86934131, 0.73972459, 0.66209399, 0.67146423, 0.62505528,\n",
       "       0.55147263, 0.47690797, 0.47489149, 0.52935885, 0.75291789,\n",
       "       0.7871905 , 0.76144107, 0.63830856, 0.52941882, 0.43867737,\n",
       "       0.44416459])"
      ]
     },
     "metadata": {},
     "output_type": "display_data"
    },
    {
     "data": {
      "text/plain": [
       "array([0.3917287 , 0.32711149, 0.27117488, 0.27109242, 0.37453992,\n",
       "       0.56833157])"
      ]
     },
     "metadata": {},
     "output_type": "display_data"
    },
    {
     "data": {
      "text/plain": [
       "array([0.42908221, 0.40424322, 0.38226001, 0.41971208, 0.49934912,\n",
       "       0.71611554])"
      ]
     },
     "metadata": {},
     "output_type": "display_data"
    },
    {
     "data": {
      "text/plain": [
       "array([1.        , 0.98697161, 0.9203904 , 0.83686779, 0.73125389,\n",
       "       0.61415582, 0.61900585, 0.61331624, 0.52950128, 0.46112098,\n",
       "       0.46340732, 0.55560303, 0.82394435, 0.88057061, 0.90307419,\n",
       "       0.86934131, 0.73972459, 0.66209399, 0.67146423, 0.62505528,\n",
       "       0.55147263, 0.47690797, 0.47489149, 0.52935885, 0.75291789,\n",
       "       0.7871905 , 0.76144107, 0.63830856, 0.52941882, 0.43867737,\n",
       "       0.44416459, 0.3917287 , 0.32711149, 0.27117488, 0.27109242,\n",
       "       0.37453992, 0.56833157])"
      ]
     },
     "metadata": {},
     "output_type": "display_data"
    },
    {
     "data": {
      "text/plain": [
       "array([0.57943344, 0.50321962, 0.40031184, 0.30651944, 0.24189474,\n",
       "       0.244331  ])"
      ]
     },
     "metadata": {},
     "output_type": "display_data"
    },
    {
     "data": {
      "text/plain": [
       "array([0.59542648, 0.58699965, 0.50962081, 0.39548856, 0.31490197,\n",
       "       0.32094889])"
      ]
     },
     "metadata": {},
     "output_type": "display_data"
    },
    {
     "data": {
      "text/plain": [
       "array([1.        , 0.98697161, 0.9203904 , 0.83686779, 0.73125389,\n",
       "       0.61415582, 0.61900585, 0.61331624, 0.52950128, 0.46112098,\n",
       "       0.46340732, 0.55560303, 0.82394435, 0.88057061, 0.90307419,\n",
       "       0.86934131, 0.73972459, 0.66209399, 0.67146423, 0.62505528,\n",
       "       0.55147263, 0.47690797, 0.47489149, 0.52935885, 0.75291789,\n",
       "       0.7871905 , 0.76144107, 0.63830856, 0.52941882, 0.43867737,\n",
       "       0.44416459, 0.3917287 , 0.32711149, 0.27117488, 0.27109242,\n",
       "       0.37453992, 0.56833157, 0.57943344, 0.50321962, 0.40031184,\n",
       "       0.30651944, 0.24189474, 0.244331  ])"
      ]
     },
     "metadata": {},
     "output_type": "display_data"
    },
    {
     "data": {
      "text/plain": [
       "array([0.22565048, 0.13727783, 0.10567387, 0.10657341, 0.15966147,\n",
       "       0.35708128])"
      ]
     },
     "metadata": {},
     "output_type": "display_data"
    },
    {
     "data": {
      "text/plain": [
       "array([0.22013016, 0.14484985, 0.08230245, 0.08330105, 0.17713895,\n",
       "       0.41094529])"
      ]
     },
     "metadata": {},
     "output_type": "display_data"
    },
    {
     "data": {
      "text/plain": [
       "array([1.        , 0.98697161, 0.9203904 , 0.83686779, 0.73125389,\n",
       "       0.61415582, 0.61900585, 0.61331624, 0.52950128, 0.46112098,\n",
       "       0.46340732, 0.55560303, 0.82394435, 0.88057061, 0.90307419,\n",
       "       0.86934131, 0.73972459, 0.66209399, 0.67146423, 0.62505528,\n",
       "       0.55147263, 0.47690797, 0.47489149, 0.52935885, 0.75291789,\n",
       "       0.7871905 , 0.76144107, 0.63830856, 0.52941882, 0.43867737,\n",
       "       0.44416459, 0.3917287 , 0.32711149, 0.27117488, 0.27109242,\n",
       "       0.37453992, 0.56833157, 0.57943344, 0.50321962, 0.40031184,\n",
       "       0.30651944, 0.24189474, 0.244331  , 0.22565048, 0.13727783,\n",
       "       0.10567387, 0.10657341, 0.15966147, 0.35708128])"
      ]
     },
     "metadata": {},
     "output_type": "display_data"
    },
    {
     "data": {
      "text/plain": [
       "array([0.36855046, 0.32870068, 0.24774927, 0.15641562, 0.0902542 ,\n",
       "       0.08758555])"
      ]
     },
     "metadata": {},
     "output_type": "display_data"
    },
    {
     "data": {
      "text/plain": [
       "array([0.37245717, 0.33228472, 0.24554938, 0.13990014, 0.05660453,\n",
       "       0.06126208])"
      ]
     },
     "metadata": {},
     "output_type": "display_data"
    },
    {
     "data": {
      "text/plain": [
       "array([1.        , 0.98697161, 0.9203904 , 0.83686779, 0.73125389,\n",
       "       0.61415582, 0.61900585, 0.61331624, 0.52950128, 0.46112098,\n",
       "       0.46340732, 0.55560303, 0.82394435, 0.88057061, 0.90307419,\n",
       "       0.86934131, 0.73972459, 0.66209399, 0.67146423, 0.62505528,\n",
       "       0.55147263, 0.47690797, 0.47489149, 0.52935885, 0.75291789,\n",
       "       0.7871905 , 0.76144107, 0.63830856, 0.52941882, 0.43867737,\n",
       "       0.44416459, 0.3917287 , 0.32711149, 0.27117488, 0.27109242,\n",
       "       0.37453992, 0.56833157, 0.57943344, 0.50321962, 0.40031184,\n",
       "       0.30651944, 0.24189474, 0.244331  , 0.22565048, 0.13727783,\n",
       "       0.10567387, 0.10657341, 0.15966147, 0.35708128, 0.36855046,\n",
       "       0.32870068, 0.24774927, 0.15641562, 0.0902542 , 0.08758555])"
      ]
     },
     "metadata": {},
     "output_type": "display_data"
    },
    {
     "data": {
      "text/plain": [
       "array([0.10411466, 0.03241355, 0.        , 0.00938524, 0.09682836,\n",
       "       0.29118223])"
      ]
     },
     "metadata": {},
     "output_type": "display_data"
    },
    {
     "data": {
      "text/plain": [
       "array([ 0.04772868, -0.02977142, -0.08590991, -0.0871973 , -0.02922918,\n",
       "        0.17532305])"
      ]
     },
     "metadata": {},
     "output_type": "display_data"
    },
    {
     "data": {
      "text/plain": [
       "array([1.        , 0.98697161, 0.9203904 , 0.83686779, 0.73125389,\n",
       "       0.61415582, 0.61900585, 0.61331624, 0.52950128, 0.46112098,\n",
       "       0.46340732, 0.55560303, 0.82394435, 0.88057061, 0.90307419,\n",
       "       0.86934131, 0.73972459, 0.66209399, 0.67146423, 0.62505528,\n",
       "       0.55147263, 0.47690797, 0.47489149, 0.52935885, 0.75291789,\n",
       "       0.7871905 , 0.76144107, 0.63830856, 0.52941882, 0.43867737,\n",
       "       0.44416459, 0.3917287 , 0.32711149, 0.27117488, 0.27109242,\n",
       "       0.37453992, 0.56833157, 0.57943344, 0.50321962, 0.40031184,\n",
       "       0.30651944, 0.24189474, 0.244331  , 0.22565048, 0.13727783,\n",
       "       0.10567387, 0.10657341, 0.15966147, 0.35708128, 0.36855046,\n",
       "       0.32870068, 0.24774927, 0.15641562, 0.0902542 , 0.08758555,\n",
       "       0.10411466, 0.03241355, 0.        , 0.00938524, 0.09682836,\n",
       "       0.29118223])"
      ]
     },
     "metadata": {},
     "output_type": "display_data"
    },
    {
     "data": {
      "text/plain": [
       "array([0.30033508, 0.26450326, 0.19177517, 0.09424217, 0.03042706,\n",
       "       0.01218881])"
      ]
     },
     "metadata": {},
     "output_type": "display_data"
    },
    {
     "data": {
      "text/plain": [
       "array([0.30692166, 0.2652046 , 0.18253985, 0.09305442, 0.02762714,\n",
       "       0.02769452])"
      ]
     },
     "metadata": {},
     "output_type": "display_data"
    },
    {
     "data": {
      "text/plain": [
       "array([1.        , 0.98697161, 0.9203904 , 0.83686779, 0.73125389,\n",
       "       0.61415582, 0.61900585, 0.61331624, 0.52950128, 0.46112098,\n",
       "       0.46340732, 0.55560303, 0.82394435, 0.88057061, 0.90307419,\n",
       "       0.86934131, 0.73972459, 0.66209399, 0.67146423, 0.62505528,\n",
       "       0.55147263, 0.47690797, 0.47489149, 0.52935885, 0.75291789,\n",
       "       0.7871905 , 0.76144107, 0.63830856, 0.52941882, 0.43867737,\n",
       "       0.44416459, 0.3917287 , 0.32711149, 0.27117488, 0.27109242,\n",
       "       0.37453992, 0.56833157, 0.57943344, 0.50321962, 0.40031184,\n",
       "       0.30651944, 0.24189474, 0.244331  , 0.22565048, 0.13727783,\n",
       "       0.10567387, 0.10657341, 0.15966147, 0.35708128, 0.36855046,\n",
       "       0.32870068, 0.24774927, 0.15641562, 0.0902542 , 0.08758555,\n",
       "       0.10411466, 0.03241355, 0.        , 0.00938524, 0.09682836,\n",
       "       0.29118223, 0.30033508, 0.26450326, 0.19177517, 0.09424217,\n",
       "       0.03042706, 0.01218881])"
      ]
     },
     "metadata": {},
     "output_type": "display_data"
    },
    {
     "data": {
      "text/plain": [
       "array([ 0.04134902, -0.00348573, -0.02347808, -0.01143919,  0.04254841,\n",
       "        0.19992354])"
      ]
     },
     "metadata": {},
     "output_type": "display_data"
    },
    {
     "data": {
      "text/plain": [
       "array([-0.01051726, -0.08767115, -0.13445279, -0.13214412, -0.05700949,\n",
       "        0.14391074])"
      ]
     },
     "metadata": {},
     "output_type": "display_data"
    },
    {
     "data": {
      "text/plain": [
       "array([ 0.61331624,  0.52950128,  0.46112098,  0.46340732,  0.55560303,\n",
       "        0.82394435,  0.88057061,  0.90307419,  0.86934131,  0.73972459,\n",
       "        0.66209399,  0.67146423,  0.62505528,  0.55147263,  0.47690797,\n",
       "        0.47489149,  0.52935885,  0.75291789,  0.7871905 ,  0.76144107,\n",
       "        0.63830856,  0.52941882,  0.43867737,  0.44416459,  0.3917287 ,\n",
       "        0.32711149,  0.27117488,  0.27109242,  0.37453992,  0.56833157,\n",
       "        0.57943344,  0.50321962,  0.40031184,  0.30651944,  0.24189474,\n",
       "        0.244331  ,  0.22565048,  0.13727783,  0.10567387,  0.10657341,\n",
       "        0.15966147,  0.35708128,  0.36855046,  0.32870068,  0.24774927,\n",
       "        0.15641562,  0.0902542 ,  0.08758555,  0.10411466,  0.03241355,\n",
       "        0.        ,  0.00938524,  0.09682836,  0.29118223,  0.30033508,\n",
       "        0.26450326,  0.19177517,  0.09424217,  0.03042706,  0.01218881,\n",
       "        0.04134902, -0.00348573, -0.02347808, -0.01143919,  0.04254841,\n",
       "        0.19992354])"
      ]
     },
     "metadata": {},
     "output_type": "display_data"
    },
    {
     "data": {
      "text/plain": [
       "[0.6806454622751874,\n",
       " 0.7057496005626286,\n",
       " 0.7265064456450391,\n",
       " 0.7436688199453244,\n",
       " 0.7578591793401968,\n",
       " 0.7695921887847172,\n",
       " 1.044634818497963,\n",
       " 1.1695822216801508,\n",
       " 1.180413212998573,\n",
       " 1.089161140567994,\n",
       " 0.9313937395502331,\n",
       " 0.754442886344639,\n",
       " 0.6598509559198994,\n",
       " 0.5788397317337981,\n",
       " 0.5101551361418052,\n",
       " 0.5024458835309655,\n",
       " 0.5727677210831275,\n",
       " 0.7904878909807471,\n",
       " 0.8111335305239016,\n",
       " 0.8485784632079424,\n",
       " 0.8378068479280146,\n",
       " 0.7391624946081593,\n",
       " 0.6789203182607818,\n",
       " 0.6880564502265198,\n",
       " 0.4290822071045891,\n",
       " 0.4042432162023779,\n",
       " 0.38226000590212894,\n",
       " 0.4197120786880021,\n",
       " 0.4993491186975936,\n",
       " 0.7161155406315945,\n",
       " 0.595426480093476,\n",
       " 0.5869996498868081,\n",
       " 0.5096208088085425,\n",
       " 0.39548856063369103,\n",
       " 0.31490197412929366,\n",
       " 0.3209488876224907,\n",
       " 0.22013015922143736,\n",
       " 0.14484985015752694,\n",
       " 0.08230245205101122,\n",
       " 0.0833010489999183,\n",
       " 0.17713894906946426,\n",
       " 0.4109452858557259,\n",
       " 0.3724571654803053,\n",
       " 0.3322847183239578,\n",
       " 0.24554937770379298,\n",
       " 0.1399001424207071,\n",
       " 0.056604534152375346,\n",
       " 0.061262078428844825,\n",
       " 0.047728681577176434,\n",
       " -0.029771423859211436,\n",
       " -0.08590990822431752,\n",
       " -0.08719729802918462,\n",
       " -0.029229178417784933,\n",
       " 0.1753230469025135,\n",
       " 0.3069216566572581,\n",
       " 0.2652045968733383,\n",
       " 0.18253985396674413,\n",
       " 0.09305442237038598,\n",
       " 0.02762714400348916,\n",
       " 0.027694521198649364,\n",
       " -0.01051726457640035,\n",
       " -0.08767115452297874,\n",
       " -0.1344527924084796,\n",
       " -0.1321441225862709,\n",
       " -0.057009490874333865,\n",
       " 0.1439107373614893]"
      ]
     },
     "metadata": {},
     "output_type": "display_data"
    },
    {
     "data": {
      "text/plain": [
       "'StateError: 0.12721594762892535'"
      ]
     },
     "metadata": {},
     "output_type": "display_data"
    },
    {
     "data": {
      "text/plain": [
       "array([1.        , 0.98630137, 0.91415878, 0.8429021 , 0.74259534,\n",
       "       0.62361824, 0.62513884])"
      ]
     },
     "metadata": {},
     "output_type": "display_data"
    },
    {
     "data": {
      "text/plain": [
       "array([0.5941318 , 0.46119162, 0.38091712, 0.35794944, 0.44174115,\n",
       "       0.74843973])"
      ]
     },
     "metadata": {},
     "output_type": "display_data"
    },
    {
     "data": {
      "text/plain": [
       "array([0.68210503, 0.70743391, 0.72824865, 0.74535376, 0.75941037,\n",
       "       0.77096179])"
      ]
     },
     "metadata": {},
     "output_type": "display_data"
    },
    {
     "data": {
      "text/plain": [
       "array([1.        , 0.98630137, 0.91415878, 0.8429021 , 0.74259534,\n",
       "       0.62361824, 0.62513884, 0.5941318 , 0.46119162, 0.38091712,\n",
       "       0.35794944, 0.44174115, 0.74843973])"
      ]
     },
     "metadata": {},
     "output_type": "display_data"
    },
    {
     "data": {
      "text/plain": [
       "array([0.7929735 , 0.79240493, 0.74135241, 0.62319511, 0.56509494,\n",
       "       0.57761676])"
      ]
     },
     "metadata": {},
     "output_type": "display_data"
    },
    {
     "data": {
      "text/plain": [
       "array([1.09168551, 1.24780504, 1.22157072, 1.0696329 , 0.87006428,\n",
       "       0.69384322])"
      ]
     },
     "metadata": {},
     "output_type": "display_data"
    },
    {
     "data": {
      "text/plain": [
       "array([1.        , 0.98630137, 0.91415878, 0.8429021 , 0.74259534,\n",
       "       0.62361824, 0.62513884, 0.5941318 , 0.46119162, 0.38091712,\n",
       "       0.35794944, 0.44174115, 0.74843973, 0.7929735 , 0.79240493,\n",
       "       0.74135241, 0.62319511, 0.56509494, 0.57761676])"
      ]
     },
     "metadata": {},
     "output_type": "display_data"
    },
    {
     "data": {
      "text/plain": [
       "array([0.51375152, 0.42846565, 0.34377479, 0.33562966, 0.40231131,\n",
       "       0.65089649])"
      ]
     },
     "metadata": {},
     "output_type": "display_data"
    },
    {
     "data": {
      "text/plain": [
       "array([0.56452095, 0.46374738, 0.40554026, 0.39342957, 0.46971239,\n",
       "       0.73378481])"
      ]
     },
     "metadata": {},
     "output_type": "display_data"
    },
    {
     "data": {
      "text/plain": [
       "array([1.        , 0.98630137, 0.91415878, 0.8429021 , 0.74259534,\n",
       "       0.62361824, 0.62513884, 0.5941318 , 0.46119162, 0.38091712,\n",
       "       0.35794944, 0.44174115, 0.74843973, 0.7929735 , 0.79240493,\n",
       "       0.74135241, 0.62319511, 0.56509494, 0.57761676, 0.51375152,\n",
       "       0.42846565, 0.34377479, 0.33562966, 0.40231131, 0.65089649])"
      ]
     },
     "metadata": {},
     "output_type": "display_data"
    },
    {
     "data": {
      "text/plain": [
       "array([0.67336172, 0.6297932 , 0.49490929, 0.38488391, 0.30886709,\n",
       "       0.31186862])"
      ]
     },
     "metadata": {},
     "output_type": "display_data"
    },
    {
     "data": {
      "text/plain": [
       "array([0.69016343, 0.69921287, 0.66761204, 0.57775109, 0.53876106,\n",
       "       0.55925315])"
      ]
     },
     "metadata": {},
     "output_type": "display_data"
    },
    {
     "data": {
      "text/plain": [
       "array([1.        , 0.98630137, 0.91415878, 0.8429021 , 0.74259534,\n",
       "       0.62361824, 0.62513884, 0.5941318 , 0.46119162, 0.38091712,\n",
       "       0.35794944, 0.44174115, 0.74843973, 0.7929735 , 0.79240493,\n",
       "       0.74135241, 0.62319511, 0.56509494, 0.57761676, 0.51375152,\n",
       "       0.42846565, 0.34377479, 0.33562966, 0.40231131, 0.65089649,\n",
       "       0.67336172, 0.6297932 , 0.49490929, 0.38488391, 0.30886709,\n",
       "       0.31186862])"
      ]
     },
     "metadata": {},
     "output_type": "display_data"
    },
    {
     "data": {
      "text/plain": [
       "array([0.2605252 , 0.17730206, 0.12199185, 0.07569948, 0.13817634,\n",
       "       0.42071719])"
      ]
     },
     "metadata": {},
     "output_type": "display_data"
    },
    {
     "data": {
      "text/plain": [
       "array([0.24921302, 0.16854844, 0.08899929, 0.07936508, 0.13794502,\n",
       "       0.36218016])"
      ]
     },
     "metadata": {},
     "output_type": "display_data"
    },
    {
     "data": {
      "text/plain": [
       "array([1.        , 0.98630137, 0.91415878, 0.8429021 , 0.74259534,\n",
       "       0.62361824, 0.62513884, 0.5941318 , 0.46119162, 0.38091712,\n",
       "       0.35794944, 0.44174115, 0.74843973, 0.7929735 , 0.79240493,\n",
       "       0.74135241, 0.62319511, 0.56509494, 0.57761676, 0.51375152,\n",
       "       0.42846565, 0.34377479, 0.33562966, 0.40231131, 0.65089649,\n",
       "       0.67336172, 0.6297932 , 0.49490929, 0.38488391, 0.30886709,\n",
       "       0.31186862, 0.2605252 , 0.17730206, 0.12199185, 0.07569948,\n",
       "       0.13817634, 0.42071719])"
      ]
     },
     "metadata": {},
     "output_type": "display_data"
    },
    {
     "data": {
      "text/plain": [
       "array([0.42145766, 0.33627757, 0.24018882, 0.15888295, 0.12065637,\n",
       "       0.13959116])"
      ]
     },
     "metadata": {},
     "output_type": "display_data"
    },
    {
     "data": {
      "text/plain": [
       "array([0.45799605, 0.42209242, 0.29734167, 0.19435977, 0.12253821,\n",
       "       0.12401064])"
      ]
     },
     "metadata": {},
     "output_type": "display_data"
    },
    {
     "data": {
      "text/plain": [
       "array([1.        , 0.98630137, 0.91415878, 0.8429021 , 0.74259534,\n",
       "       0.62361824, 0.62513884, 0.5941318 , 0.46119162, 0.38091712,\n",
       "       0.35794944, 0.44174115, 0.74843973, 0.7929735 , 0.79240493,\n",
       "       0.74135241, 0.62319511, 0.56509494, 0.57761676, 0.51375152,\n",
       "       0.42846565, 0.34377479, 0.33562966, 0.40231131, 0.65089649,\n",
       "       0.67336172, 0.6297932 , 0.49490929, 0.38488391, 0.30886709,\n",
       "       0.31186862, 0.2605252 , 0.17730206, 0.12199185, 0.07569948,\n",
       "       0.13817634, 0.42071719, 0.42145766, 0.33627757, 0.24018882,\n",
       "       0.15888295, 0.12065637, 0.13959116])"
      ]
     },
     "metadata": {},
     "output_type": "display_data"
    },
    {
     "data": {
      "text/plain": [
       "array([0.14583223, 0.06011001, 0.02735759, 0.05414661, 0.13664251,\n",
       "       0.36621357])"
      ]
     },
     "metadata": {},
     "output_type": "display_data"
    },
    {
     "data": {
      "text/plain": [
       "array([ 0.08442892,  0.00213869, -0.06872878, -0.09234934, -0.03009551,\n",
       "        0.22330718])"
      ]
     },
     "metadata": {},
     "output_type": "display_data"
    },
    {
     "data": {
      "text/plain": [
       "array([1.        , 0.98630137, 0.91415878, 0.8429021 , 0.74259534,\n",
       "       0.62361824, 0.62513884, 0.5941318 , 0.46119162, 0.38091712,\n",
       "       0.35794944, 0.44174115, 0.74843973, 0.7929735 , 0.79240493,\n",
       "       0.74135241, 0.62319511, 0.56509494, 0.57761676, 0.51375152,\n",
       "       0.42846565, 0.34377479, 0.33562966, 0.40231131, 0.65089649,\n",
       "       0.67336172, 0.6297932 , 0.49490929, 0.38488391, 0.30886709,\n",
       "       0.31186862, 0.2605252 , 0.17730206, 0.12199185, 0.07569948,\n",
       "       0.13817634, 0.42071719, 0.42145766, 0.33627757, 0.24018882,\n",
       "       0.15888295, 0.12065637, 0.13959116, 0.14583223, 0.06011001,\n",
       "       0.02735759, 0.05414661, 0.13664251, 0.36621357])"
      ]
     },
     "metadata": {},
     "output_type": "display_data"
    },
    {
     "data": {
      "text/plain": [
       "array([0.37704289, 0.32031787, 0.24071772, 0.14338605, 0.08544454,\n",
       "       0.08408261])"
      ]
     },
     "metadata": {},
     "output_type": "display_data"
    },
    {
     "data": {
      "text/plain": [
       "array([0.36935743, 0.30513001, 0.19286675, 0.10019344, 0.04448376,\n",
       "       0.05419242])"
      ]
     },
     "metadata": {},
     "output_type": "display_data"
    },
    {
     "data": {
      "text/plain": [
       "array([1.        , 0.98630137, 0.91415878, 0.8429021 , 0.74259534,\n",
       "       0.62361824, 0.62513884, 0.5941318 , 0.46119162, 0.38091712,\n",
       "       0.35794944, 0.44174115, 0.74843973, 0.7929735 , 0.79240493,\n",
       "       0.74135241, 0.62319511, 0.56509494, 0.57761676, 0.51375152,\n",
       "       0.42846565, 0.34377479, 0.33562966, 0.40231131, 0.65089649,\n",
       "       0.67336172, 0.6297932 , 0.49490929, 0.38488391, 0.30886709,\n",
       "       0.31186862, 0.2605252 , 0.17730206, 0.12199185, 0.07569948,\n",
       "       0.13817634, 0.42071719, 0.42145766, 0.33627757, 0.24018882,\n",
       "       0.15888295, 0.12065637, 0.13959116, 0.14583223, 0.06011001,\n",
       "       0.02735759, 0.05414661, 0.13664251, 0.36621357, 0.37704289,\n",
       "       0.32031787, 0.24071772, 0.14338605, 0.08544454, 0.08408261])"
      ]
     },
     "metadata": {},
     "output_type": "display_data"
    },
    {
     "data": {
      "text/plain": [
       "array([0.11215423, 0.04003808, 0.        , 0.00699476, 0.09932829,\n",
       "       0.3191675 ])"
      ]
     },
     "metadata": {},
     "output_type": "display_data"
    },
    {
     "data": {
      "text/plain": [
       "array([ 0.04066439, -0.04384261, -0.10361289, -0.11449756, -0.0467711 ,\n",
       "        0.20097759])"
      ]
     },
     "metadata": {},
     "output_type": "display_data"
    },
    {
     "data": {
      "text/plain": [
       "array([1.        , 0.98630137, 0.91415878, 0.8429021 , 0.74259534,\n",
       "       0.62361824, 0.62513884, 0.5941318 , 0.46119162, 0.38091712,\n",
       "       0.35794944, 0.44174115, 0.74843973, 0.7929735 , 0.79240493,\n",
       "       0.74135241, 0.62319511, 0.56509494, 0.57761676, 0.51375152,\n",
       "       0.42846565, 0.34377479, 0.33562966, 0.40231131, 0.65089649,\n",
       "       0.67336172, 0.6297932 , 0.49490929, 0.38488391, 0.30886709,\n",
       "       0.31186862, 0.2605252 , 0.17730206, 0.12199185, 0.07569948,\n",
       "       0.13817634, 0.42071719, 0.42145766, 0.33627757, 0.24018882,\n",
       "       0.15888295, 0.12065637, 0.13959116, 0.14583223, 0.06011001,\n",
       "       0.02735759, 0.05414661, 0.13664251, 0.36621357, 0.37704289,\n",
       "       0.32031787, 0.24071772, 0.14338605, 0.08544454, 0.08408261,\n",
       "       0.11215423, 0.04003808, 0.        , 0.00699476, 0.09932829,\n",
       "       0.3191675 ])"
      ]
     },
     "metadata": {},
     "output_type": "display_data"
    },
    {
     "data": {
      "text/plain": [
       "array([0.3295737 , 0.28088803, 0.19792934, 0.10308351, 0.029698  ,\n",
       "       0.0198207 ])"
      ]
     },
     "metadata": {},
     "output_type": "display_data"
    },
    {
     "data": {
      "text/plain": [
       "array([0.32000804, 0.25330875, 0.17021972, 0.08243746, 0.03374839,\n",
       "       0.03937806])"
      ]
     },
     "metadata": {},
     "output_type": "display_data"
    },
    {
     "data": {
      "text/plain": [
       "array([1.        , 0.98630137, 0.91415878, 0.8429021 , 0.74259534,\n",
       "       0.62361824, 0.62513884, 0.5941318 , 0.46119162, 0.38091712,\n",
       "       0.35794944, 0.44174115, 0.74843973, 0.7929735 , 0.79240493,\n",
       "       0.74135241, 0.62319511, 0.56509494, 0.57761676, 0.51375152,\n",
       "       0.42846565, 0.34377479, 0.33562966, 0.40231131, 0.65089649,\n",
       "       0.67336172, 0.6297932 , 0.49490929, 0.38488391, 0.30886709,\n",
       "       0.31186862, 0.2605252 , 0.17730206, 0.12199185, 0.07569948,\n",
       "       0.13817634, 0.42071719, 0.42145766, 0.33627757, 0.24018882,\n",
       "       0.15888295, 0.12065637, 0.13959116, 0.14583223, 0.06011001,\n",
       "       0.02735759, 0.05414661, 0.13664251, 0.36621357, 0.37704289,\n",
       "       0.32031787, 0.24071772, 0.14338605, 0.08544454, 0.08408261,\n",
       "       0.11215423, 0.04003808, 0.        , 0.00699476, 0.09932829,\n",
       "       0.3191675 , 0.3295737 , 0.28088803, 0.19792934, 0.10308351,\n",
       "       0.029698  , 0.0198207 ])"
      ]
     },
     "metadata": {},
     "output_type": "display_data"
    },
    {
     "data": {
      "text/plain": [
       "array([ 0.03419368, -0.04278839, -0.07494579, -0.06157772,  0.0210504 ,\n",
       "        0.2257365 ])"
      ]
     },
     "metadata": {},
     "output_type": "display_data"
    },
    {
     "data": {
      "text/plain": [
       "array([ 0.01580657, -0.06136269, -0.10418815, -0.11007361, -0.03124191,\n",
       "        0.20190888])"
      ]
     },
     "metadata": {},
     "output_type": "display_data"
    },
    {
     "data": {
      "text/plain": [
       "array([ 0.5941318 ,  0.46119162,  0.38091712,  0.35794944,  0.44174115,\n",
       "        0.74843973,  0.7929735 ,  0.79240493,  0.74135241,  0.62319511,\n",
       "        0.56509494,  0.57761676,  0.51375152,  0.42846565,  0.34377479,\n",
       "        0.33562966,  0.40231131,  0.65089649,  0.67336172,  0.6297932 ,\n",
       "        0.49490929,  0.38488391,  0.30886709,  0.31186862,  0.2605252 ,\n",
       "        0.17730206,  0.12199185,  0.07569948,  0.13817634,  0.42071719,\n",
       "        0.42145766,  0.33627757,  0.24018882,  0.15888295,  0.12065637,\n",
       "        0.13959116,  0.14583223,  0.06011001,  0.02735759,  0.05414661,\n",
       "        0.13664251,  0.36621357,  0.37704289,  0.32031787,  0.24071772,\n",
       "        0.14338605,  0.08544454,  0.08408261,  0.11215423,  0.04003808,\n",
       "        0.        ,  0.00699476,  0.09932829,  0.3191675 ,  0.3295737 ,\n",
       "        0.28088803,  0.19792934,  0.10308351,  0.029698  ,  0.0198207 ,\n",
       "        0.03419368, -0.04278839, -0.07494579, -0.06157772,  0.0210504 ,\n",
       "        0.2257365 ])"
      ]
     },
     "metadata": {},
     "output_type": "display_data"
    },
    {
     "data": {
      "text/plain": [
       "[0.6821050339352027,\n",
       " 0.7074339146040804,\n",
       " 0.7282486498750438,\n",
       " 0.745353756494802,\n",
       " 0.7594103692099995,\n",
       " 0.7709617944900278,\n",
       " 1.0916855111569264,\n",
       " 1.2478050441577784,\n",
       " 1.221570719893026,\n",
       " 1.069632902725722,\n",
       " 0.8700642847308844,\n",
       " 0.6938432226987592,\n",
       " 0.5645209451917782,\n",
       " 0.4637473760468646,\n",
       " 0.4055402596389433,\n",
       " 0.39342956645475124,\n",
       " 0.4697123900555076,\n",
       " 0.7337848076347011,\n",
       " 0.6901634264950186,\n",
       " 0.699212867390304,\n",
       " 0.667612036394986,\n",
       " 0.5777510861282054,\n",
       " 0.5387610612711301,\n",
       " 0.5592531534557159,\n",
       " 0.24921302098655862,\n",
       " 0.16854843566278482,\n",
       " 0.08899929320292141,\n",
       " 0.0793650793070639,\n",
       " 0.13794501920720836,\n",
       " 0.3621801609119454,\n",
       " 0.45799604536800753,\n",
       " 0.42209242312338874,\n",
       " 0.29734166869186074,\n",
       " 0.19435976857078754,\n",
       " 0.12253821095963144,\n",
       " 0.12401064418376934,\n",
       " 0.08442892151358541,\n",
       " 0.002138690711943503,\n",
       " -0.06872877873210487,\n",
       " -0.09234934051260099,\n",
       " -0.03009551457098935,\n",
       " 0.22330717929229355,\n",
       " 0.3693574334349508,\n",
       " 0.3051300121287803,\n",
       " 0.19286675258544733,\n",
       " 0.10019344141677758,\n",
       " 0.04448375916099436,\n",
       " 0.05419242356794059,\n",
       " 0.04066438551957199,\n",
       " -0.043842605891612506,\n",
       " -0.1036128860452456,\n",
       " -0.11449755581004242,\n",
       " -0.04677110484954103,\n",
       " 0.20097758790638673,\n",
       " 0.3200080395551527,\n",
       " 0.25330874850550794,\n",
       " 0.17021972333524787,\n",
       " 0.08243745924944643,\n",
       " 0.033748389123309866,\n",
       " 0.039378058127144185,\n",
       " 0.01580657256978657,\n",
       " -0.06136268852511603,\n",
       " -0.10418815282125955,\n",
       " -0.11007361018576337,\n",
       " -0.031241905999873962,\n",
       " 0.2019088755709521]"
      ]
     },
     "metadata": {},
     "output_type": "display_data"
    },
    {
     "data": {
      "text/plain": [
       "'StateError: 0.15935456988833088'"
      ]
     },
     "metadata": {},
     "output_type": "display_data"
    },
    {
     "data": {
      "text/plain": [
       "array([1.        , 0.98521139, 0.90522856, 0.81195227, 0.68436168,\n",
       "       0.56513501, 0.58600782])"
      ]
     },
     "metadata": {},
     "output_type": "display_data"
    },
    {
     "data": {
      "text/plain": [
       "array([0.56094564, 0.4661298 , 0.41566497, 0.40852973, 0.50820109,\n",
       "       0.83702925])"
      ]
     },
     "metadata": {},
     "output_type": "display_data"
    },
    {
     "data": {
      "text/plain": [
       "array([0.69223497, 0.8370663 , 0.96137113, 1.01757932, 0.98766629,\n",
       "       0.88847621])"
      ]
     },
     "metadata": {},
     "output_type": "display_data"
    },
    {
     "data": {
      "text/plain": [
       "array([1.        , 0.98521139, 0.90522856, 0.81195227, 0.68436168,\n",
       "       0.56513501, 0.58600782, 0.56094564, 0.4661298 , 0.41566497,\n",
       "       0.40852973, 0.50820109, 0.83702925])"
      ]
     },
     "metadata": {},
     "output_type": "display_data"
    },
    {
     "data": {
      "text/plain": [
       "array([0.89306016, 0.91350367, 0.87388974, 0.7417545 , 0.67509474,\n",
       "       0.68998697])"
      ]
     },
     "metadata": {},
     "output_type": "display_data"
    },
    {
     "data": {
      "text/plain": [
       "array([1.09645948, 1.22972336, 1.22050494, 1.09139001, 0.89254626,\n",
       "       0.68492731])"
      ]
     },
     "metadata": {},
     "output_type": "display_data"
    },
    {
     "data": {
      "text/plain": [
       "array([1.        , 0.98521139, 0.90522856, 0.81195227, 0.68436168,\n",
       "       0.56513501, 0.58600782, 0.56094564, 0.4661298 , 0.41566497,\n",
       "       0.40852973, 0.50820109, 0.83702925, 0.89306016, 0.91350367,\n",
       "       0.87388974, 0.7417545 , 0.67509474, 0.68998697])"
      ]
     },
     "metadata": {},
     "output_type": "display_data"
    },
    {
     "data": {
      "text/plain": [
       "array([0.61696175, 0.51905199, 0.4396909 , 0.42146791, 0.46189602,\n",
       "       0.72826859])"
      ]
     },
     "metadata": {},
     "output_type": "display_data"
    },
    {
     "data": {
      "text/plain": [
       "array([0.70749001, 0.72190384, 0.73049914, 0.7331394 , 0.73134554,\n",
       "       0.72726414])"
      ]
     },
     "metadata": {},
     "output_type": "display_data"
    },
    {
     "data": {
      "text/plain": [
       "array([1.        , 0.98521139, 0.90522856, 0.81195227, 0.68436168,\n",
       "       0.56513501, 0.58600782, 0.56094564, 0.4661298 , 0.41566497,\n",
       "       0.40852973, 0.50820109, 0.83702925, 0.89306016, 0.91350367,\n",
       "       0.87388974, 0.7417545 , 0.67509474, 0.68998697, 0.61696175,\n",
       "       0.51905199, 0.4396909 , 0.42146791, 0.46189602, 0.72826859])"
      ]
     },
     "metadata": {},
     "output_type": "display_data"
    },
    {
     "data": {
      "text/plain": [
       "array([0.75405613, 0.69007579, 0.54184924, 0.41069102, 0.32933148,\n",
       "       0.33578577])"
      ]
     },
     "metadata": {},
     "output_type": "display_data"
    },
    {
     "data": {
      "text/plain": [
       "array([0.78192002, 0.82352774, 0.81895652, 0.72915168, 0.68904444,\n",
       "       0.71106609])"
      ]
     },
     "metadata": {},
     "output_type": "display_data"
    },
    {
     "data": {
      "text/plain": [
       "array([1.        , 0.98521139, 0.90522856, 0.81195227, 0.68436168,\n",
       "       0.56513501, 0.58600782, 0.56094564, 0.4661298 , 0.41566497,\n",
       "       0.40852973, 0.50820109, 0.83702925, 0.89306016, 0.91350367,\n",
       "       0.87388974, 0.7417545 , 0.67509474, 0.68998697, 0.61696175,\n",
       "       0.51905199, 0.4396909 , 0.42146791, 0.46189602, 0.72826859,\n",
       "       0.75405613, 0.69007579, 0.54184924, 0.41069102, 0.32933148,\n",
       "       0.33578577])"
      ]
     },
     "metadata": {},
     "output_type": "display_data"
    },
    {
     "data": {
      "text/plain": [
       "array([0.2656324 , 0.17120144, 0.11784995, 0.12359368, 0.22162186,\n",
       "       0.49933385])"
      ]
     },
     "metadata": {},
     "output_type": "display_data"
    },
    {
     "data": {
      "text/plain": [
       "array([0.29533755, 0.25182878, 0.23406505, 0.27271919, 0.36032098,\n",
       "       0.64423761])"
      ]
     },
     "metadata": {},
     "output_type": "display_data"
    },
    {
     "data": {
      "text/plain": [
       "array([1.        , 0.98521139, 0.90522856, 0.81195227, 0.68436168,\n",
       "       0.56513501, 0.58600782, 0.56094564, 0.4661298 , 0.41566497,\n",
       "       0.40852973, 0.50820109, 0.83702925, 0.89306016, 0.91350367,\n",
       "       0.87388974, 0.7417545 , 0.67509474, 0.68998697, 0.61696175,\n",
       "       0.51905199, 0.4396909 , 0.42146791, 0.46189602, 0.72826859,\n",
       "       0.75405613, 0.69007579, 0.54184924, 0.41069102, 0.32933148,\n",
       "       0.33578577, 0.2656324 , 0.17120144, 0.11784995, 0.12359368,\n",
       "       0.22162186, 0.49933385])"
      ]
     },
     "metadata": {},
     "output_type": "display_data"
    },
    {
     "data": {
      "text/plain": [
       "array([0.47853505, 0.39951445, 0.27455886, 0.17191201, 0.12069221,\n",
       "       0.13998105])"
      ]
     },
     "metadata": {},
     "output_type": "display_data"
    },
    {
     "data": {
      "text/plain": [
       "array([0.53370825, 0.5217616 , 0.44631972, 0.31669814, 0.24626702,\n",
       "       0.25727481])"
      ]
     },
     "metadata": {},
     "output_type": "display_data"
    },
    {
     "data": {
      "text/plain": [
       "array([1.        , 0.98521139, 0.90522856, 0.81195227, 0.68436168,\n",
       "       0.56513501, 0.58600782, 0.56094564, 0.4661298 , 0.41566497,\n",
       "       0.40852973, 0.50820109, 0.83702925, 0.89306016, 0.91350367,\n",
       "       0.87388974, 0.7417545 , 0.67509474, 0.68998697, 0.61696175,\n",
       "       0.51905199, 0.4396909 , 0.42146791, 0.46189602, 0.72826859,\n",
       "       0.75405613, 0.69007579, 0.54184924, 0.41069102, 0.32933148,\n",
       "       0.33578577, 0.2656324 , 0.17120144, 0.11784995, 0.12359368,\n",
       "       0.22162186, 0.49933385, 0.47853505, 0.39951445, 0.27455886,\n",
       "       0.17191201, 0.12069221, 0.13998105])"
      ]
     },
     "metadata": {},
     "output_type": "display_data"
    },
    {
     "data": {
      "text/plain": [
       "array([0.1341337 , 0.0568451 , 0.0169351 , 0.0143297 , 0.07952392,\n",
       "       0.31994612])"
      ]
     },
     "metadata": {},
     "output_type": "display_data"
    },
    {
     "data": {
      "text/plain": [
       "array([ 0.08562065, -0.00608915, -0.06508722, -0.07098   ,  0.00519417,\n",
       "        0.281046  ])"
      ]
     },
     "metadata": {},
     "output_type": "display_data"
    },
    {
     "data": {
      "text/plain": [
       "array([1.        , 0.98521139, 0.90522856, 0.81195227, 0.68436168,\n",
       "       0.56513501, 0.58600782, 0.56094564, 0.4661298 , 0.41566497,\n",
       "       0.40852973, 0.50820109, 0.83702925, 0.89306016, 0.91350367,\n",
       "       0.87388974, 0.7417545 , 0.67509474, 0.68998697, 0.61696175,\n",
       "       0.51905199, 0.4396909 , 0.42146791, 0.46189602, 0.72826859,\n",
       "       0.75405613, 0.69007579, 0.54184924, 0.41069102, 0.32933148,\n",
       "       0.33578577, 0.2656324 , 0.17120144, 0.11784995, 0.12359368,\n",
       "       0.22162186, 0.49933385, 0.47853505, 0.39951445, 0.27455886,\n",
       "       0.17191201, 0.12069221, 0.13998105, 0.1341337 , 0.0568451 ,\n",
       "       0.0169351 , 0.0143297 , 0.07952392, 0.31994612])"
      ]
     },
     "metadata": {},
     "output_type": "display_data"
    },
    {
     "data": {
      "text/plain": [
       "array([0.33784344, 0.26159107, 0.19362861, 0.11149929, 0.05487624,\n",
       "       0.06362506])"
      ]
     },
     "metadata": {},
     "output_type": "display_data"
    },
    {
     "data": {
      "text/plain": [
       "array([ 0.31378987,  0.26743717,  0.17003262,  0.04802712, -0.01621616,\n",
       "       -0.00286681])"
      ]
     },
     "metadata": {},
     "output_type": "display_data"
    },
    {
     "data": {
      "text/plain": [
       "array([1.        , 0.98521139, 0.90522856, 0.81195227, 0.68436168,\n",
       "       0.56513501, 0.58600782, 0.56094564, 0.4661298 , 0.41566497,\n",
       "       0.40852973, 0.50820109, 0.83702925, 0.89306016, 0.91350367,\n",
       "       0.87388974, 0.7417545 , 0.67509474, 0.68998697, 0.61696175,\n",
       "       0.51905199, 0.4396909 , 0.42146791, 0.46189602, 0.72826859,\n",
       "       0.75405613, 0.69007579, 0.54184924, 0.41069102, 0.32933148,\n",
       "       0.33578577, 0.2656324 , 0.17120144, 0.11784995, 0.12359368,\n",
       "       0.22162186, 0.49933385, 0.47853505, 0.39951445, 0.27455886,\n",
       "       0.17191201, 0.12069221, 0.13998105, 0.1341337 , 0.0568451 ,\n",
       "       0.0169351 , 0.0143297 , 0.07952392, 0.31994612, 0.33784344,\n",
       "       0.26159107, 0.19362861, 0.11149929, 0.05487624, 0.06362506])"
      ]
     },
     "metadata": {},
     "output_type": "display_data"
    },
    {
     "data": {
      "text/plain": [
       "array([0.08652594, 0.02365585, 0.        , 0.00190964, 0.06566793,\n",
       "       0.28564661])"
      ]
     },
     "metadata": {},
     "output_type": "display_data"
    },
    {
     "data": {
      "text/plain": [
       "array([ 0.01668467, -0.07136079, -0.1282633 , -0.13514957, -0.07362524,\n",
       "        0.17772081])"
      ]
     },
     "metadata": {},
     "output_type": "display_data"
    },
    {
     "data": {
      "text/plain": [
       "array([1.        , 0.98521139, 0.90522856, 0.81195227, 0.68436168,\n",
       "       0.56513501, 0.58600782, 0.56094564, 0.4661298 , 0.41566497,\n",
       "       0.40852973, 0.50820109, 0.83702925, 0.89306016, 0.91350367,\n",
       "       0.87388974, 0.7417545 , 0.67509474, 0.68998697, 0.61696175,\n",
       "       0.51905199, 0.4396909 , 0.42146791, 0.46189602, 0.72826859,\n",
       "       0.75405613, 0.69007579, 0.54184924, 0.41069102, 0.32933148,\n",
       "       0.33578577, 0.2656324 , 0.17120144, 0.11784995, 0.12359368,\n",
       "       0.22162186, 0.49933385, 0.47853505, 0.39951445, 0.27455886,\n",
       "       0.17191201, 0.12069221, 0.13998105, 0.1341337 , 0.0568451 ,\n",
       "       0.0169351 , 0.0143297 , 0.07952392, 0.31994612, 0.33784344,\n",
       "       0.26159107, 0.19362861, 0.11149929, 0.05487624, 0.06362506,\n",
       "       0.08652594, 0.02365585, 0.        , 0.00190964, 0.06566793,\n",
       "       0.28564661])"
      ]
     },
     "metadata": {},
     "output_type": "display_data"
    },
    {
     "data": {
      "text/plain": [
       "array([0.28113157, 0.24111795, 0.16569458, 0.07934628, 0.00790502,\n",
       "       0.00282745])"
      ]
     },
     "metadata": {},
     "output_type": "display_data"
    },
    {
     "data": {
      "text/plain": [
       "array([ 0.27947737,  0.20012066,  0.1139913 ,  0.02727034, -0.02622043,\n",
       "       -0.01541125])"
      ]
     },
     "metadata": {},
     "output_type": "display_data"
    },
    {
     "data": {
      "text/plain": [
       "array([1.        , 0.98521139, 0.90522856, 0.81195227, 0.68436168,\n",
       "       0.56513501, 0.58600782, 0.56094564, 0.4661298 , 0.41566497,\n",
       "       0.40852973, 0.50820109, 0.83702925, 0.89306016, 0.91350367,\n",
       "       0.87388974, 0.7417545 , 0.67509474, 0.68998697, 0.61696175,\n",
       "       0.51905199, 0.4396909 , 0.42146791, 0.46189602, 0.72826859,\n",
       "       0.75405613, 0.69007579, 0.54184924, 0.41069102, 0.32933148,\n",
       "       0.33578577, 0.2656324 , 0.17120144, 0.11784995, 0.12359368,\n",
       "       0.22162186, 0.49933385, 0.47853505, 0.39951445, 0.27455886,\n",
       "       0.17191201, 0.12069221, 0.13998105, 0.1341337 , 0.0568451 ,\n",
       "       0.0169351 , 0.0143297 , 0.07952392, 0.31994612, 0.33784344,\n",
       "       0.26159107, 0.19362861, 0.11149929, 0.05487624, 0.06362506,\n",
       "       0.08652594, 0.02365585, 0.        , 0.00190964, 0.06566793,\n",
       "       0.28564661, 0.28113157, 0.24111795, 0.16569458, 0.07934628,\n",
       "       0.00790502, 0.00282745])"
      ]
     },
     "metadata": {},
     "output_type": "display_data"
    },
    {
     "data": {
      "text/plain": [
       "array([ 0.02112447, -0.04112387, -0.06723709, -0.06298851, -0.00538844,\n",
       "        0.19614519])"
      ]
     },
     "metadata": {},
     "output_type": "display_data"
    },
    {
     "data": {
      "text/plain": [
       "array([ 0.00650142, -0.06295556, -0.09349661, -0.09466989, -0.0342159 ,\n",
       "        0.18222451])"
      ]
     },
     "metadata": {},
     "output_type": "display_data"
    },
    {
     "data": {
      "text/plain": [
       "array([ 0.56094564,  0.4661298 ,  0.41566497,  0.40852973,  0.50820109,\n",
       "        0.83702925,  0.89306016,  0.91350367,  0.87388974,  0.7417545 ,\n",
       "        0.67509474,  0.68998697,  0.61696175,  0.51905199,  0.4396909 ,\n",
       "        0.42146791,  0.46189602,  0.72826859,  0.75405613,  0.69007579,\n",
       "        0.54184924,  0.41069102,  0.32933148,  0.33578577,  0.2656324 ,\n",
       "        0.17120144,  0.11784995,  0.12359368,  0.22162186,  0.49933385,\n",
       "        0.47853505,  0.39951445,  0.27455886,  0.17191201,  0.12069221,\n",
       "        0.13998105,  0.1341337 ,  0.0568451 ,  0.0169351 ,  0.0143297 ,\n",
       "        0.07952392,  0.31994612,  0.33784344,  0.26159107,  0.19362861,\n",
       "        0.11149929,  0.05487624,  0.06362506,  0.08652594,  0.02365585,\n",
       "        0.        ,  0.00190964,  0.06566793,  0.28564661,  0.28113157,\n",
       "        0.24111795,  0.16569458,  0.07934628,  0.00790502,  0.00282745,\n",
       "        0.02112447, -0.04112387, -0.06723709, -0.06298851, -0.00538844,\n",
       "        0.19614519])"
      ]
     },
     "metadata": {},
     "output_type": "display_data"
    },
    {
     "data": {
      "text/plain": [
       "[0.692234965821072,\n",
       " 0.8370663012324395,\n",
       " 0.9613711276360395,\n",
       " 1.0175793176149925,\n",
       " 0.9876662941749157,\n",
       " 0.8884762106506892,\n",
       " 1.0964594844906346,\n",
       " 1.229723361923716,\n",
       " 1.2205049390902893,\n",
       " 1.0913900069970373,\n",
       " 0.8925462566235262,\n",
       " 0.684927313613391,\n",
       " 0.7074900058264865,\n",
       " 0.721903844859303,\n",
       " 0.7304991383616161,\n",
       " 0.7331394012771627,\n",
       " 0.7313455414197302,\n",
       " 0.7272641364928506,\n",
       " 0.7819200183871095,\n",
       " 0.8235277392335373,\n",
       " 0.8189565209186614,\n",
       " 0.7291516828798842,\n",
       " 0.6890444382391797,\n",
       " 0.7110660894378019,\n",
       " 0.29533755370437753,\n",
       " 0.2518287841255182,\n",
       " 0.23406505494354046,\n",
       " 0.2727191851008234,\n",
       " 0.36032098313175065,\n",
       " 0.6442376074285808,\n",
       " 0.5337082467527372,\n",
       " 0.521761598449057,\n",
       " 0.44631971567033135,\n",
       " 0.31669814174202887,\n",
       " 0.24626701726662306,\n",
       " 0.25727481384707573,\n",
       " 0.08562065008763423,\n",
       " -0.006089152834333533,\n",
       " -0.06508721512185507,\n",
       " -0.0709799951143488,\n",
       " 0.005194172621664439,\n",
       " 0.28104599908787087,\n",
       " 0.31378986648045115,\n",
       " 0.2674371696120816,\n",
       " 0.17003262293399365,\n",
       " 0.04802711956394051,\n",
       " -0.01621615671947277,\n",
       " -0.0028668087813654274,\n",
       " 0.01668467260353757,\n",
       " -0.07136079389606542,\n",
       " -0.12826329621552196,\n",
       " -0.1351495697591731,\n",
       " -0.0736252428635521,\n",
       " 0.1777208139979008,\n",
       " 0.27947736744325763,\n",
       " 0.20012066327950045,\n",
       " 0.11399129754909493,\n",
       " 0.027270343023196628,\n",
       " -0.02622042501249274,\n",
       " -0.015411247824624857,\n",
       " 0.006501419829125011,\n",
       " -0.06295555968444991,\n",
       " -0.09349661044180835,\n",
       " -0.09466989492701096,\n",
       " -0.034215902987236986,\n",
       " 0.1822245117905087]"
      ]
     },
     "metadata": {},
     "output_type": "display_data"
    },
    {
     "data": {
      "text/plain": [
       "'StateError: 0.19746051532538483'"
      ]
     },
     "metadata": {},
     "output_type": "display_data"
    },
    {
     "data": {
      "text/plain": [
       "0.20105712431626716"
      ]
     },
     "metadata": {},
     "output_type": "display_data"
    }
   ],
   "source": [
    "WINDOWSIZE = 6\n",
    "INPUTSIZE = 6\n",
    "pred= {}\n",
    "overall_acc = 0\n",
    "for state in df:\n",
    "    pred[state] = []\n",
    "    series = np.array(df[state].values)\n",
    "    max_steps = int((len(series)-INPUTSIZE)/WINDOWSIZE)\n",
    "    offset = (len(series)-INPUTSIZE)%WINDOWSIZE\n",
    "    acc = 0\n",
    "    #display(series)\n",
    "    for i in range(0,max_steps):\n",
    "        res = getSARIMAPred(series[:offset+(i*WINDOWSIZE)+INPUTSIZE])\n",
    "        #res = getThetaPred(series[offset+i*WINDOWSIZE:offset+(i*WINDOWSIZE)+INPUTSIZE])\n",
    "        pred[state].extend(res)\n",
    "        display(series[:offset+(i*WINDOWSIZE)+INPUTSIZE])\n",
    "        display(series[(offset+(i*WINDOWSIZE)+INPUTSIZE):(offset+(i*WINDOWSIZE)+INPUTSIZE+6)])\n",
    "        display(res)\n",
    "        #acc += evaluateARIMAprediction(series[(offset+(i*WINDOWSIZE)+INPUTSIZE):(offset+(i*WINDOWSIZE)+6)],res,None)\n",
    "        #display(acc)\n",
    "    #acc = acc/(max_steps)\n",
    "    #display(acc)\n",
    "    error = evaluateARIMAprediction(series[INPUTSIZE+offset:],pred[state],None)\n",
    "    overall_acc += error\n",
    "    display(series[INPUTSIZE+offset:])\n",
    "    display(pred[state])\n",
    "    display(\"StateError: \"+str(sqrt(error)))\n",
    "            \n",
    "display(sqrt(overall_acc/16))\n",
    "    "
   ]
  },
  {
   "cell_type": "code",
   "execution_count": 7,
   "metadata": {},
   "outputs": [
    {
     "data": {
      "text/plain": [
       "66"
      ]
     },
     "metadata": {},
     "output_type": "display_data"
    }
   ],
   "source": [
    "display(len(pred[list(pred.keys())[0]]))"
   ]
  },
  {
   "cell_type": "code",
   "execution_count": 8,
   "metadata": {},
   "outputs": [],
   "source": [
    "df_ARIMA = pd.DataFrame.from_dict(pred)\n",
    "df_ARIMAIMA.to_csv('SARIMA_Pred.csv')"
   ]
  },
  {
   "cell_type": "code",
   "execution_count": 6,
   "metadata": {
    "scrolled": false
   },
   "outputs": [
    {
     "name": "stdout",
     "output_type": "stream",
     "text": [
      "Schleswig-Holstein:\n",
      "STL_seas_naive:0.1886240854475677\n",
      "ARMA:0.21641680408873454\n",
      "ARIMA:0.21641680408873454\n",
      "SARIMA:0.09558240566347684\n",
      "Theta:0.18979184475725427\n",
      "4Theta:0.1902357148999786\n",
      "ETS:0.1859510498008255\n",
      "BAGGED_ETS:0.193425049481766\n",
      "TBATS:0.20467222124069703\n",
      "\n",
      "Freie und Hansestadt Hamburg:\n",
      "STL_seas_naive:0.14448850976433603\n",
      "ARMA:0.10392128131754881\n",
      "ARIMA:0.10392128131754881\n",
      "SARIMA:0.13400950800557324\n",
      "Theta:0.13744678059755916\n",
      "4Theta:0.13657192400509438\n",
      "ETS:0.1410588857027093\n",
      "BAGGED_ETS:0.11496170182816014\n",
      "TBATS:0.1606272642643329\n",
      "\n",
      "Niedersachsen:\n",
      "STL_seas_naive:0.11772631451223484\n",
      "ARMA:0.1785692339330329\n",
      "ARIMA:0.1785692339330329\n",
      "SARIMA:0.03543501268976395\n",
      "Theta:0.13013461697061954\n",
      "4Theta:0.12978436156076656\n",
      "ETS:0.13302653066120448\n",
      "BAGGED_ETS:0.11687879735145094\n",
      "TBATS:0.20104652826534375\n",
      "\n",
      "Freie Hansestadt Bremen:\n",
      "STL_seas_naive:0.19276117666091125\n",
      "ARMA:0.27754696830859843\n",
      "ARIMA:0.27754696830859843\n",
      "SARIMA:0.10235375756002674\n",
      "Theta:0.280434029692953\n",
      "4Theta:0.2797878931047171\n",
      "ETS:0.28335274071203836\n",
      "BAGGED_ETS:0.23111424051954776\n",
      "TBATS:0.32185274587337437\n",
      "\n",
      "Nordrhein-Westfalen:\n",
      "STL_seas_naive:0.1248808452574753\n",
      "ARMA:0.09906608315739135\n",
      "ARIMA:0.09906608315739135\n",
      "SARIMA:0.14188200399376266\n",
      "Theta:0.10941902516178957\n",
      "4Theta:0.10926847015556942\n",
      "ETS:0.1112383799040712\n",
      "BAGGED_ETS:0.10730256673996559\n",
      "TBATS:0.13872281405157502\n",
      "\n",
      "Hessen:\n",
      "STL_seas_naive:0.11398846835415477\n",
      "ARMA:0.06753776310851889\n",
      "ARIMA:0.06753776310851889\n",
      "SARIMA:0.039073649831523644\n",
      "Theta:0.15923444174198922\n",
      "4Theta:0.15560412107661836\n",
      "ETS:0.17214228793304706\n",
      "BAGGED_ETS:0.1319606702239854\n",
      "TBATS:0.21363497063691242\n",
      "\n",
      "Rheinland-Pfalz:\n",
      "STL_seas_naive:0.16275706083907307\n",
      "ARMA:0.1752777446611072\n",
      "ARIMA:0.1752777446611072\n",
      "SARIMA:0.0550049334313191\n",
      "Theta:0.19181546795898208\n",
      "4Theta:0.1919913908482087\n",
      "ETS:0.1953084744883134\n",
      "BAGGED_ETS:0.17210213756642878\n",
      "TBATS:0.2454046750877947\n",
      "\n",
      "Baden-Württemberg:\n",
      "STL_seas_naive:0.08323154092405134\n",
      "ARMA:0.062317795137433275\n",
      "ARIMA:0.062317795137433275\n",
      "SARIMA:0.03798657351100639\n",
      "Theta:0.08130219943599136\n",
      "4Theta:0.08193431212920882\n",
      "ETS:0.08016063165355095\n",
      "BAGGED_ETS:0.08567451723699777\n",
      "TBATS:0.08001956154461363\n",
      "\n",
      "Freistaat Bayern:\n",
      "STL_seas_naive:0.14015973265061285\n",
      "ARMA:0.20178017193444783\n",
      "ARIMA:0.20178017193444783\n",
      "SARIMA:0.016415617318153074\n",
      "Theta:0.16862573790244176\n",
      "4Theta:0.17114761181335558\n",
      "ETS:0.1603591345697862\n",
      "BAGGED_ETS:0.18374483166852085\n",
      "TBATS:0.15592065869791366\n",
      "\n",
      "Saarland:\n",
      "STL_seas_naive:0.12646597736771517\n",
      "ARMA:0.1121529712874223\n",
      "ARIMA:0.1121529712874223\n",
      "SARIMA:0.034041834836692736\n",
      "Theta:0.16156734229989395\n",
      "4Theta:0.16033397390220835\n",
      "ETS:0.16781104014531684\n",
      "BAGGED_ETS:0.1467613464650483\n",
      "TBATS:0.18554897586937513\n",
      "\n",
      "Berlin:\n",
      "STL_seas_naive:0.15631743266328996\n",
      "ARMA:0.06465903590228726\n",
      "ARIMA:0.06465903590228726\n",
      "SARIMA:0.06762995983738085\n",
      "Theta:0.1693832156657613\n",
      "4Theta:0.16622057234391158\n",
      "ETS:0.18093892008717177\n",
      "BAGGED_ETS:0.14758153782364689\n",
      "TBATS:0.21879635112564097\n",
      "\n",
      "Brandenburg:\n",
      "STL_seas_naive:0.125636457895799\n",
      "ARMA:0.13802541536745708\n",
      "ARIMA:0.13802541536745708\n",
      "SARIMA:0.027761718673852603\n",
      "Theta:0.09982869396173281\n",
      "4Theta:0.0987848245808275\n",
      "ETS:0.09389350917172964\n",
      "BAGGED_ETS:0.09445987043742386\n",
      "TBATS:0.11915505486091897\n",
      "\n",
      "Mecklenburg-Vorpommern:\n",
      "STL_seas_naive:0.16668538322592985\n",
      "ARMA:0.16608578862803147\n",
      "ARIMA:0.16608578862803147\n",
      "SARIMA:0.057141096671881414\n",
      "Theta:0.1894450352681323\n",
      "4Theta:0.1758249976359398\n",
      "ETS:0.17536157877434935\n",
      "BAGGED_ETS:0.230895454736259\n",
      "TBATS:0.09329177186111703\n",
      "\n",
      "Freistaat Sachsen:\n",
      "STL_seas_naive:0.10371389170283958\n",
      "ARMA:0.10178201291531117\n",
      "ARIMA:0.10178201291531117\n",
      "SARIMA:0.09102341344733196\n",
      "Theta:0.09627285201691325\n",
      "4Theta:0.08550235813596119\n",
      "ETS:0.0807174312426968\n",
      "BAGGED_ETS:0.10174606858236546\n",
      "TBATS:0.08120411437854155\n",
      "\n",
      "Sachsen-Anhalt:\n",
      "STL_seas_naive:0.15107866921027382\n",
      "ARMA:0.1313975123900929\n",
      "ARIMA:0.1313975123900929\n",
      "SARIMA:0.034622485766495965\n",
      "Theta:0.10860113015656431\n",
      "4Theta:0.10322018739114246\n",
      "ETS:0.10176421560229906\n",
      "BAGGED_ETS:0.10385230262061819\n",
      "TBATS:0.12206768047557132\n",
      "\n",
      "Freistaat Thüringen:\n",
      "STL_seas_naive:0.12715404737084812\n",
      "ARMA:0.13297336687438116\n",
      "ARIMA:0.13297336687438116\n",
      "SARIMA:0.023834625257458043\n",
      "Theta:0.09967927648359705\n",
      "4Theta:0.0904873535961713\n",
      "ETS:0.09032026982083113\n",
      "BAGGED_ETS:0.09751929661071013\n",
      "TBATS:0.0902665689637611\n",
      "\n",
      "STL_seas_naive:0.14205409090168403\n",
      "ARMA:0.15102835272571302\n",
      "ARIMA:0.15102835272571302\n",
      "SARIMA:0.0729050187166613\n",
      "Theta:0.1563860031671971\n",
      "4Theta:0.153937201025823\n",
      "ETS:0.15617487835253835\n",
      "BAGGED_ETS:0.14865121445447224\n",
      "TBATS:0.177194581767918\n",
      "29.08752667506536 minutes runtime\n"
     ]
    }
   ],
   "source": [
    "Final_Results = {}\n",
    "for rep in range(0,1):\n",
    "    overall_test_scores = {}\n",
    "    nbr_of_states = len(list(df))\n",
    "    approaches = []\n",
    "    approaches.append({'name':'STL_seas_naive','sc':None, 'func': evaluateSTLSeasNaive,'wsc':False})\n",
    "    approaches.append({'name':'ARMA','sc':None, 'func': evaluateARMA,'wsc':False})\n",
    "    approaches.append({'name':'ARIMA','sc':None, 'func': evaluateARIMA,'wsc':False})\n",
    "    approaches.append({'name':'SARIMA','sc':None, 'func': evaluateSARIMA,'wsc':False})\n",
    "    approaches.append({'name':'Theta','sc':None, 'func': evaluateTheta,'wsc':False})\n",
    "    approaches.append({'name':'4Theta','sc':None, 'func': evaluateFourTheta,'wsc':False})\n",
    "    approaches.append({'name':'ETS','sc':None, 'func': evaluateETS,'wsc':False})\n",
    "    approaches.append({'name':'BAGGED_ETS','sc':None, 'func': evaluateBAGGED_ETS,'wsc':False})\n",
    "    approaches.append({'name':'TBATS','sc':None, 'func': evaluateTBATS,'wsc':False})\n",
    "    start = time.time()\n",
    "    for state in df:\n",
    "        print(f'{state}:')\n",
    "        for approach in approaches:\n",
    "            scaler = approach['sc']\n",
    "            if scaler == DATA_SCALER and not approach['wsc'] :#already scaled like that\n",
    "                scaler = None\n",
    "            series = []\n",
    "            if not approach['wsc'] and not scaler == None: #not windowscaled and have a scaler\n",
    "                scaler = scaler()\n",
    "                series = normalizeSeries(df[state],scaler)\n",
    "            else:#windowscaled or no scaler\n",
    "                series = df[state]\n",
    "                if not scaler == None:#init scaler if windowscaled\n",
    "                    scaler = scaler()\n",
    "            x,y = getTrainTestSplit(series)\n",
    "            test_score = approach['func'](x,y,scaler)\n",
    "            prevStateDict = Final_Results.get(state,{})\n",
    "            prevRes = prevStateDict.get(approach['name'],[])\n",
    "            prevRes.append(test_score)\n",
    "            prevStateDict[approach['name']] = prevRes\n",
    "            Final_Results[state] = prevStateDict\n",
    "            print(approach['name']+':'+ str(sqrt(test_score)))\n",
    "            overall_test_scores[approach['name']]= overall_test_scores.get(approach['name'],0) + test_score\n",
    "        print('')\n",
    "    for approach in approaches:\n",
    "        overall_test_scores[approach['name']] = overall_test_scores[approach['name']]/nbr_of_states\n",
    "        print(approach['name']+':'+str(sqrt(overall_test_scores[approach['name']])))\n",
    "    end = time.time()\n",
    "    print(f'{(end - start)/60} minutes runtime')\n",
    "\n",
    "with open('my_Final_Res_St.json', 'w') as f:\n",
    "    json.dump(Final_Results, f)"
   ]
  },
  {
   "cell_type": "code",
   "execution_count": null,
   "metadata": {},
   "outputs": [],
   "source": []
  },
  {
   "cell_type": "code",
   "execution_count": null,
   "metadata": {},
   "outputs": [],
   "source": []
  }
 ],
 "metadata": {
  "kernelspec": {
   "display_name": "myGuidedResEnv",
   "language": "python",
   "name": "myguidedresenv"
  },
  "language_info": {
   "codemirror_mode": {
    "name": "ipython",
    "version": 3
   },
   "file_extension": ".py",
   "mimetype": "text/x-python",
   "name": "python",
   "nbconvert_exporter": "python",
   "pygments_lexer": "ipython3",
   "version": "3.7.3"
  }
 },
 "nbformat": 4,
 "nbformat_minor": 2
}
